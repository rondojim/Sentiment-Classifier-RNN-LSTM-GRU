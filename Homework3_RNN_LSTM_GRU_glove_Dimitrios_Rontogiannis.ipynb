{
  "cells": [
    {
      "cell_type": "markdown",
      "metadata": {
        "id": "d-KXyqtJFzMS"
      },
      "source": [
        "Import dataset '**imdb-reviews.csv**' from google drive and use pandas to parse.\n"
      ]
    },
    {
      "cell_type": "code",
      "execution_count": 1,
      "metadata": {
        "colab": {
          "base_uri": "https://localhost:8080/"
        },
        "id": "cn2XuUvfHxgY",
        "outputId": "0b1c201c-44f5-467d-ffa8-06ad07e339cc"
      },
      "outputs": [
        {
          "output_type": "stream",
          "name": "stdout",
          "text": [
            "Mounted at /content/drive\n"
          ]
        }
      ],
      "source": [
        "from google.colab import drive\n",
        "drive.mount('/content/drive')"
      ]
    },
    {
      "cell_type": "code",
      "execution_count": 2,
      "metadata": {
        "colab": {
          "base_uri": "https://localhost:8080/"
        },
        "id": "TC7U8wNypIKt",
        "outputId": "28e3666b-f2a0-4bdc-9243-652258e27024"
      },
      "outputs": [
        {
          "output_type": "stream",
          "name": "stdout",
          "text": [
            "--2023-01-16 15:16:58--  http://nlp.stanford.edu/data/glove.6B.zip\n",
            "Resolving nlp.stanford.edu (nlp.stanford.edu)... 171.64.67.140\n",
            "Connecting to nlp.stanford.edu (nlp.stanford.edu)|171.64.67.140|:80... connected.\n",
            "HTTP request sent, awaiting response... 302 Found\n",
            "Location: https://nlp.stanford.edu/data/glove.6B.zip [following]\n",
            "--2023-01-16 15:16:58--  https://nlp.stanford.edu/data/glove.6B.zip\n",
            "Connecting to nlp.stanford.edu (nlp.stanford.edu)|171.64.67.140|:443... connected.\n",
            "HTTP request sent, awaiting response... 301 Moved Permanently\n",
            "Location: https://downloads.cs.stanford.edu/nlp/data/glove.6B.zip [following]\n",
            "--2023-01-16 15:16:58--  https://downloads.cs.stanford.edu/nlp/data/glove.6B.zip\n",
            "Resolving downloads.cs.stanford.edu (downloads.cs.stanford.edu)... 171.64.64.22\n",
            "Connecting to downloads.cs.stanford.edu (downloads.cs.stanford.edu)|171.64.64.22|:443... connected.\n",
            "HTTP request sent, awaiting response... 200 OK\n",
            "Length: 862182613 (822M) [application/zip]\n",
            "Saving to: ‘glove.6B.zip’\n",
            "\n",
            "glove.6B.zip        100%[===================>] 822.24M  5.12MB/s    in 2m 39s  \n",
            "\n",
            "2023-01-16 15:19:38 (5.17 MB/s) - ‘glove.6B.zip’ saved [862182613/862182613]\n",
            "\n"
          ]
        }
      ],
      "source": [
        "!wget -nc http://nlp.stanford.edu/data/glove.6B.zip  \n",
        "!unzip -n -q glove.6B.zip  "
      ]
    },
    {
      "cell_type": "code",
      "execution_count": 3,
      "metadata": {
        "id": "MAH4Rvv8FwZY"
      },
      "outputs": [],
      "source": [
        "dataset_path = '/content/drive/MyDrive/imdb-reviews.csv'"
      ]
    },
    {
      "cell_type": "markdown",
      "metadata": {
        "id": "E_wLy0hVCSgh"
      },
      "source": [
        "If legacy is not recognized uncomment the below code, run and then restart runtime"
      ]
    },
    {
      "cell_type": "code",
      "execution_count": 4,
      "metadata": {
        "colab": {
          "base_uri": "https://localhost:8080/"
        },
        "id": "sGPugTvBF7BQ",
        "outputId": "1c649530-7bae-4842-824e-1604a9ca4b8a"
      },
      "outputs": [
        {
          "output_type": "stream",
          "name": "stdout",
          "text": [
            "Found existing installation: torchtext 0.14.0\n",
            "Uninstalling torchtext-0.14.0:\n",
            "  Would remove:\n",
            "    /usr/local/lib/python3.8/dist-packages/torchtext-0.14.0.dist-info/*\n",
            "    /usr/local/lib/python3.8/dist-packages/torchtext/*\n",
            "Proceed (Y/n)? Υ\n",
            "Your response ('υ') was not one of the expected responses: y, n, \n",
            "Proceed (Y/n)? Υ\n",
            "Your response ('υ') was not one of the expected responses: y, n, \n",
            "Proceed (Y/n)? Y\n",
            "  Successfully uninstalled torchtext-0.14.0\n",
            "Looking in indexes: https://pypi.org/simple, https://us-python.pkg.dev/colab-wheels/public/simple/\n",
            "Collecting torchtext==0.10.0\n",
            "  Downloading torchtext-0.10.0-cp38-cp38-manylinux1_x86_64.whl (7.6 MB)\n",
            "\u001b[2K     \u001b[90m━━━━━━━━━━━━━━━━━━━━━━━━━━━━━━━━━━━━━━━━\u001b[0m \u001b[32m7.6/7.6 MB\u001b[0m \u001b[31m84.5 MB/s\u001b[0m eta \u001b[36m0:00:00\u001b[0m\n",
            "\u001b[?25hRequirement already satisfied: numpy in /usr/local/lib/python3.8/dist-packages (from torchtext==0.10.0) (1.21.6)\n",
            "Requirement already satisfied: tqdm in /usr/local/lib/python3.8/dist-packages (from torchtext==0.10.0) (4.64.1)\n",
            "Requirement already satisfied: requests in /usr/local/lib/python3.8/dist-packages (from torchtext==0.10.0) (2.25.1)\n",
            "Collecting torch==1.9.0\n",
            "  Downloading torch-1.9.0-cp38-cp38-manylinux1_x86_64.whl (831.4 MB)\n",
            "\u001b[2K     \u001b[90m━━━━━━━━━━━━━━━━━━━━━━━━━━━━━━━━━━━━━━━\u001b[0m \u001b[32m831.4/831.4 MB\u001b[0m \u001b[31m2.0 MB/s\u001b[0m eta \u001b[36m0:00:00\u001b[0m\n",
            "\u001b[?25hRequirement already satisfied: typing-extensions in /usr/local/lib/python3.8/dist-packages (from torch==1.9.0->torchtext==0.10.0) (4.4.0)\n",
            "Requirement already satisfied: certifi>=2017.4.17 in /usr/local/lib/python3.8/dist-packages (from requests->torchtext==0.10.0) (2022.12.7)\n",
            "Requirement already satisfied: chardet<5,>=3.0.2 in /usr/local/lib/python3.8/dist-packages (from requests->torchtext==0.10.0) (4.0.0)\n",
            "Requirement already satisfied: urllib3<1.27,>=1.21.1 in /usr/local/lib/python3.8/dist-packages (from requests->torchtext==0.10.0) (1.24.3)\n",
            "Requirement already satisfied: idna<3,>=2.5 in /usr/local/lib/python3.8/dist-packages (from requests->torchtext==0.10.0) (2.10)\n",
            "Installing collected packages: torch, torchtext\n",
            "  Attempting uninstall: torch\n",
            "    Found existing installation: torch 1.13.0+cu116\n",
            "    Uninstalling torch-1.13.0+cu116:\n",
            "      Successfully uninstalled torch-1.13.0+cu116\n",
            "\u001b[31mERROR: pip's dependency resolver does not currently take into account all the packages that are installed. This behaviour is the source of the following dependency conflicts.\n",
            "torchvision 0.14.0+cu116 requires torch==1.13.0, but you have torch 1.9.0 which is incompatible.\n",
            "torchaudio 0.13.0+cu116 requires torch==1.13.0, but you have torch 1.9.0 which is incompatible.\u001b[0m\u001b[31m\n",
            "\u001b[0mSuccessfully installed torch-1.9.0 torchtext-0.10.0\n"
          ]
        },
        {
          "output_type": "stream",
          "name": "stderr",
          "text": [
            "[nltk_data] Downloading package punkt to /root/nltk_data...\n",
            "[nltk_data]   Unzipping tokenizers/punkt.zip.\n",
            "[nltk_data] Downloading package stopwords to /root/nltk_data...\n",
            "[nltk_data]   Unzipping corpora/stopwords.zip.\n",
            "[nltk_data] Downloading package wordnet to /root/nltk_data...\n",
            "[nltk_data] Downloading package averaged_perceptron_tagger to\n",
            "[nltk_data]     /root/nltk_data...\n",
            "[nltk_data]   Unzipping taggers/averaged_perceptron_tagger.zip.\n",
            "[nltk_data] Downloading package omw-1.4 to /root/nltk_data...\n"
          ]
        }
      ],
      "source": [
        "!pip uninstall torchtext\n",
        "!pip install torchtext==0.10.0\n",
        "\n",
        "# imports\n",
        "import pandas\n",
        "import re\n",
        "import nltk\n",
        "from nltk import word_tokenize\n",
        "nltk.download('punkt')\n",
        "nltk.download('stopwords')\n",
        "from nltk.corpus import stopwords\n",
        "import nltk\n",
        "nltk.download('wordnet')\n",
        "nltk.download('averaged_perceptron_tagger')\n",
        "from nltk.corpus import wordnet\n",
        "nltk.download('omw-1.4')\n",
        "from textblob import Word \n",
        "from collections import Counter\n",
        "import operator\n",
        "import matplotlib.pyplot as plt\n",
        "import seaborn as sns\n",
        "import numpy as np\n",
        "from sklearn.model_selection import train_test_split\n",
        "from gensim.scripts.glove2word2vec import glove2word2vec\n",
        "import torch\n",
        "import torch.nn as nn\n",
        "from sklearn.metrics import classification_report\n",
        "from sklearn.preprocessing import label_binarize\n",
        "from sklearn.metrics import roc_curve, auc, roc_auc_score\n",
        "import random\n",
        "from torchtext.legacy import data\n",
        "import torchtext\n",
        "from torchtext.vocab import Vectors, GloVe\n",
        "from torch.utils.data import DataLoader, TensorDataset\n",
        "import spacy\n",
        "from sklearn.metrics import confusion_matrix\n",
        "import seaborn as sn"
      ]
    },
    {
      "cell_type": "code",
      "execution_count": 5,
      "metadata": {
        "id": "TTLZfNSJGtxy"
      },
      "outputs": [],
      "source": [
        "df = pandas.read_csv(dataset_path, sep='\\t', engine='python')"
      ]
    },
    {
      "cell_type": "code",
      "execution_count": 6,
      "metadata": {
        "colab": {
          "base_uri": "https://localhost:8080/",
          "height": 206
        },
        "id": "_k-CbPYCF8wb",
        "outputId": "be37a355-7326-49a1-f69e-b9f2af49638f"
      },
      "outputs": [
        {
          "output_type": "execute_result",
          "data": {
            "text/plain": [
              "                                                url  rating  \\\n",
              "0  http://www.imdb.com/title/tt0120623/usercomments    10.0   \n",
              "1  http://www.imdb.com/title/tt0043117/usercomments     9.0   \n",
              "2  http://www.imdb.com/title/tt0043117/usercomments    10.0   \n",
              "3  http://www.imdb.com/title/tt0835204/usercomments     4.0   \n",
              "4  http://www.imdb.com/title/tt0499603/usercomments    10.0   \n",
              "\n",
              "                                              review  \n",
              "0  I thought this was a quiet good movie. It was ...  \n",
              "1  Wagon Master is a very unique film amongst Joh...  \n",
              "2  This film has to be as near to perfect a film ...  \n",
              "3  I gave this 4 stars because it has a lot of in...  \n",
              "4  This movie is really genuine and random. It's ...  "
            ],
            "text/html": [
              "\n",
              "  <div id=\"df-ee0bcb5e-34a9-46b6-88db-2439907c79bc\">\n",
              "    <div class=\"colab-df-container\">\n",
              "      <div>\n",
              "<style scoped>\n",
              "    .dataframe tbody tr th:only-of-type {\n",
              "        vertical-align: middle;\n",
              "    }\n",
              "\n",
              "    .dataframe tbody tr th {\n",
              "        vertical-align: top;\n",
              "    }\n",
              "\n",
              "    .dataframe thead th {\n",
              "        text-align: right;\n",
              "    }\n",
              "</style>\n",
              "<table border=\"1\" class=\"dataframe\">\n",
              "  <thead>\n",
              "    <tr style=\"text-align: right;\">\n",
              "      <th></th>\n",
              "      <th>url</th>\n",
              "      <th>rating</th>\n",
              "      <th>review</th>\n",
              "    </tr>\n",
              "  </thead>\n",
              "  <tbody>\n",
              "    <tr>\n",
              "      <th>0</th>\n",
              "      <td>http://www.imdb.com/title/tt0120623/usercomments</td>\n",
              "      <td>10.0</td>\n",
              "      <td>I thought this was a quiet good movie. It was ...</td>\n",
              "    </tr>\n",
              "    <tr>\n",
              "      <th>1</th>\n",
              "      <td>http://www.imdb.com/title/tt0043117/usercomments</td>\n",
              "      <td>9.0</td>\n",
              "      <td>Wagon Master is a very unique film amongst Joh...</td>\n",
              "    </tr>\n",
              "    <tr>\n",
              "      <th>2</th>\n",
              "      <td>http://www.imdb.com/title/tt0043117/usercomments</td>\n",
              "      <td>10.0</td>\n",
              "      <td>This film has to be as near to perfect a film ...</td>\n",
              "    </tr>\n",
              "    <tr>\n",
              "      <th>3</th>\n",
              "      <td>http://www.imdb.com/title/tt0835204/usercomments</td>\n",
              "      <td>4.0</td>\n",
              "      <td>I gave this 4 stars because it has a lot of in...</td>\n",
              "    </tr>\n",
              "    <tr>\n",
              "      <th>4</th>\n",
              "      <td>http://www.imdb.com/title/tt0499603/usercomments</td>\n",
              "      <td>10.0</td>\n",
              "      <td>This movie is really genuine and random. It's ...</td>\n",
              "    </tr>\n",
              "  </tbody>\n",
              "</table>\n",
              "</div>\n",
              "      <button class=\"colab-df-convert\" onclick=\"convertToInteractive('df-ee0bcb5e-34a9-46b6-88db-2439907c79bc')\"\n",
              "              title=\"Convert this dataframe to an interactive table.\"\n",
              "              style=\"display:none;\">\n",
              "        \n",
              "  <svg xmlns=\"http://www.w3.org/2000/svg\" height=\"24px\"viewBox=\"0 0 24 24\"\n",
              "       width=\"24px\">\n",
              "    <path d=\"M0 0h24v24H0V0z\" fill=\"none\"/>\n",
              "    <path d=\"M18.56 5.44l.94 2.06.94-2.06 2.06-.94-2.06-.94-.94-2.06-.94 2.06-2.06.94zm-11 1L8.5 8.5l.94-2.06 2.06-.94-2.06-.94L8.5 2.5l-.94 2.06-2.06.94zm10 10l.94 2.06.94-2.06 2.06-.94-2.06-.94-.94-2.06-.94 2.06-2.06.94z\"/><path d=\"M17.41 7.96l-1.37-1.37c-.4-.4-.92-.59-1.43-.59-.52 0-1.04.2-1.43.59L10.3 9.45l-7.72 7.72c-.78.78-.78 2.05 0 2.83L4 21.41c.39.39.9.59 1.41.59.51 0 1.02-.2 1.41-.59l7.78-7.78 2.81-2.81c.8-.78.8-2.07 0-2.86zM5.41 20L4 18.59l7.72-7.72 1.47 1.35L5.41 20z\"/>\n",
              "  </svg>\n",
              "      </button>\n",
              "      \n",
              "  <style>\n",
              "    .colab-df-container {\n",
              "      display:flex;\n",
              "      flex-wrap:wrap;\n",
              "      gap: 12px;\n",
              "    }\n",
              "\n",
              "    .colab-df-convert {\n",
              "      background-color: #E8F0FE;\n",
              "      border: none;\n",
              "      border-radius: 50%;\n",
              "      cursor: pointer;\n",
              "      display: none;\n",
              "      fill: #1967D2;\n",
              "      height: 32px;\n",
              "      padding: 0 0 0 0;\n",
              "      width: 32px;\n",
              "    }\n",
              "\n",
              "    .colab-df-convert:hover {\n",
              "      background-color: #E2EBFA;\n",
              "      box-shadow: 0px 1px 2px rgba(60, 64, 67, 0.3), 0px 1px 3px 1px rgba(60, 64, 67, 0.15);\n",
              "      fill: #174EA6;\n",
              "    }\n",
              "\n",
              "    [theme=dark] .colab-df-convert {\n",
              "      background-color: #3B4455;\n",
              "      fill: #D2E3FC;\n",
              "    }\n",
              "\n",
              "    [theme=dark] .colab-df-convert:hover {\n",
              "      background-color: #434B5C;\n",
              "      box-shadow: 0px 1px 3px 1px rgba(0, 0, 0, 0.15);\n",
              "      filter: drop-shadow(0px 1px 2px rgba(0, 0, 0, 0.3));\n",
              "      fill: #FFFFFF;\n",
              "    }\n",
              "  </style>\n",
              "\n",
              "      <script>\n",
              "        const buttonEl =\n",
              "          document.querySelector('#df-ee0bcb5e-34a9-46b6-88db-2439907c79bc button.colab-df-convert');\n",
              "        buttonEl.style.display =\n",
              "          google.colab.kernel.accessAllowed ? 'block' : 'none';\n",
              "\n",
              "        async function convertToInteractive(key) {\n",
              "          const element = document.querySelector('#df-ee0bcb5e-34a9-46b6-88db-2439907c79bc');\n",
              "          const dataTable =\n",
              "            await google.colab.kernel.invokeFunction('convertToInteractive',\n",
              "                                                     [key], {});\n",
              "          if (!dataTable) return;\n",
              "\n",
              "          const docLinkHtml = 'Like what you see? Visit the ' +\n",
              "            '<a target=\"_blank\" href=https://colab.research.google.com/notebooks/data_table.ipynb>data table notebook</a>'\n",
              "            + ' to learn more about interactive tables.';\n",
              "          element.innerHTML = '';\n",
              "          dataTable['output_type'] = 'display_data';\n",
              "          await google.colab.output.renderOutput(dataTable, element);\n",
              "          const docLink = document.createElement('div');\n",
              "          docLink.innerHTML = docLinkHtml;\n",
              "          element.appendChild(docLink);\n",
              "        }\n",
              "      </script>\n",
              "    </div>\n",
              "  </div>\n",
              "  "
            ]
          },
          "metadata": {},
          "execution_count": 6
        }
      ],
      "source": [
        "df.head()"
      ]
    },
    {
      "cell_type": "code",
      "execution_count": 7,
      "metadata": {
        "colab": {
          "base_uri": "https://localhost:8080/"
        },
        "id": "eieV28v_F-_K",
        "outputId": "35e528d0-88a7-456f-b8fb-379c4e660cd5"
      },
      "outputs": [
        {
          "output_type": "stream",
          "name": "stdout",
          "text": [
            "<class 'pandas.core.frame.DataFrame'>\n",
            "RangeIndex: 45008 entries, 0 to 45007\n",
            "Data columns (total 3 columns):\n",
            " #   Column  Non-Null Count  Dtype  \n",
            "---  ------  --------------  -----  \n",
            " 0   url     45008 non-null  object \n",
            " 1   rating  45008 non-null  float64\n",
            " 2   review  45008 non-null  object \n",
            "dtypes: float64(1), object(2)\n",
            "memory usage: 1.0+ MB\n"
          ]
        }
      ],
      "source": [
        "df.info()"
      ]
    },
    {
      "cell_type": "markdown",
      "metadata": {
        "id": "UKJEIonSGBqI"
      },
      "source": [
        "Clear review comments. Remove:\n",
        "\n",
        "    HTML\n",
        "    Numbers\n",
        "    Punctuation\n",
        "    Uppercase\n",
        "    Stopwords\n",
        "    Lemmatization\n",
        "\n"
      ]
    },
    {
      "cell_type": "code",
      "execution_count": 8,
      "metadata": {
        "id": "D-AIME7qI_bt"
      },
      "outputs": [],
      "source": [
        "# HTML\n",
        "\n",
        "def remove_html(text):\n",
        "  return  re.sub('<.*?>', '', text)\n",
        "  \n",
        "def clean_html(df):\n",
        "  df['review'] = df['review'].apply(remove_html)\n",
        "  print(df.head())\n",
        "  return df"
      ]
    },
    {
      "cell_type": "code",
      "execution_count": 9,
      "metadata": {
        "id": "ijrqSPxbJALo"
      },
      "outputs": [],
      "source": [
        "# Numbers\n",
        "\n",
        "def clean_numbers(df):\n",
        "  df['review'] = df['review'].str.replace(r'\\d+', '', regex=True)\n",
        "  print(df.head())\n",
        "  return df"
      ]
    },
    {
      "cell_type": "code",
      "execution_count": 10,
      "metadata": {
        "id": "lLd30PUhJBqa"
      },
      "outputs": [],
      "source": [
        "# Punctuation\n",
        "\n",
        "def clean_punctuation(df):\n",
        "  df['review'] = df['review'].str.replace(r'[^\\w\\s]+', '', regex=True)\n",
        "  print(df.head())\n",
        "  return df"
      ]
    },
    {
      "cell_type": "code",
      "execution_count": 11,
      "metadata": {
        "id": "92opytkPJDh3"
      },
      "outputs": [],
      "source": [
        "# Uppercase\n",
        "\n",
        "def clean_uppercase(df):\n",
        "  df['review'] = df['review'].str.lower()\n",
        "  print(df.head())\n",
        "  return df"
      ]
    },
    {
      "cell_type": "markdown",
      "metadata": {
        "id": "7uwv_aQpJHOD"
      },
      "source": [
        "Before we perform the other removals we need to tokenize the words"
      ]
    },
    {
      "cell_type": "code",
      "execution_count": 12,
      "metadata": {
        "id": "TWHPM-k3JHy5"
      },
      "outputs": [],
      "source": [
        "# Tokenization\n",
        "\n",
        "def clean_tokenize(df):\n",
        "  df['review'] = df['review'].apply(word_tokenize)\n",
        "  print(df.head())\n",
        "  return df"
      ]
    },
    {
      "cell_type": "code",
      "execution_count": 13,
      "metadata": {
        "id": "kAWE8adXJKUS"
      },
      "outputs": [],
      "source": [
        "# Stopwords\n",
        "\n",
        "pattern = stopwords.words('english')\n",
        "\n",
        "def clean_stopwords(df):\n",
        "  df['review'] = df['review'].apply(lambda words: [w for w in words if w not in pattern])\n",
        "  print(df.head())\n",
        "  return df"
      ]
    },
    {
      "cell_type": "code",
      "execution_count": 14,
      "metadata": {
        "id": "N049RsACJO00"
      },
      "outputs": [],
      "source": [
        "# Lemmatization\n",
        "\n",
        "lemmatizer = nltk.stem.WordNetLemmatizer()\n",
        "\n",
        "def clean_lemmatize(df):\n",
        "  df['review'] = df['review'].apply(lambda word: [lemmatizer.lemmatize(lemmatizer.lemmatize(lemmatizer.lemmatize(lemmatizer.lemmatize(lemmatizer.lemmatize(w, 'n'), 'a'), 'v'), 'r'), 's') for w in word])\n",
        "  print(df.head())\n",
        "  return df"
      ]
    },
    {
      "cell_type": "markdown",
      "metadata": {
        "id": "XszxZZKJJTgz"
      },
      "source": [
        "Now we transform rating to 0 for negative (values in range [0, 4.0]) and 1 for positive (values in range [7.0, 10.0])"
      ]
    },
    {
      "cell_type": "code",
      "execution_count": 15,
      "metadata": {
        "id": "M7zh4fIKJVbI"
      },
      "outputs": [],
      "source": [
        "def clean_scale(df):\n",
        "  df['rating'] = df['rating'].apply(lambda x: 0 if x <= 4.0 else 1)\n",
        "  print(df.head())\n",
        "  return df"
      ]
    },
    {
      "cell_type": "markdown",
      "metadata": {
        "id": "69dij-A4JZ-8"
      },
      "source": [
        "Now we remove some rare words:"
      ]
    },
    {
      "cell_type": "code",
      "execution_count": 16,
      "metadata": {
        "id": "MmXly3pqJdpl"
      },
      "outputs": [],
      "source": [
        "# rarewords\n",
        "\n",
        "def clean_rarewords(df):\n",
        "  temp = df['review'].apply(lambda l: [item for item in l])\n",
        "  flat_list = [item for sublist in temp for item in sublist]\n",
        "  counter_list = Counter(flat_list).most_common()\n",
        "  final_list_desc = counter_list[:10]\n",
        "  final_list_asc  = counter_list[-10:]\n",
        "  only_first = [x for x,y in final_list_desc]\n",
        "  only_last  = [x for x,y in final_list_asc]\n",
        "\n",
        "  df['review'] = df['review'].apply(lambda words: [x for x in words if (x not in only_first) and (x not in only_last)])\n",
        "  print(df.head())\n",
        "  return df"
      ]
    },
    {
      "cell_type": "code",
      "execution_count": 17,
      "metadata": {
        "id": "zDFpTjDKJf4Y"
      },
      "outputs": [],
      "source": [
        "def transform(df):\n",
        "  df = clean_html(df)\n",
        "  df = clean_numbers(df)\n",
        "  df = clean_punctuation(df)\n",
        "  df = clean_uppercase(df)\n",
        "  df = clean_tokenize(df)\n",
        "  df = clean_stopwords(df)\n",
        "  df = clean_lemmatize(df)\n",
        "  df = clean_scale(df)\n",
        "  df = clean_rarewords(df)\n",
        "  return df"
      ]
    },
    {
      "cell_type": "code",
      "execution_count": 18,
      "metadata": {
        "colab": {
          "base_uri": "https://localhost:8080/"
        },
        "id": "oMERUtaMJhoU",
        "outputId": "174a1358-b28e-4988-a7d8-fa48603402e1"
      },
      "outputs": [
        {
          "output_type": "stream",
          "name": "stdout",
          "text": [
            "                                                url  rating  \\\n",
            "0  http://www.imdb.com/title/tt0120623/usercomments    10.0   \n",
            "1  http://www.imdb.com/title/tt0043117/usercomments     9.0   \n",
            "2  http://www.imdb.com/title/tt0043117/usercomments    10.0   \n",
            "3  http://www.imdb.com/title/tt0835204/usercomments     4.0   \n",
            "4  http://www.imdb.com/title/tt0499603/usercomments    10.0   \n",
            "\n",
            "                                              review  \n",
            "0  I thought this was a quiet good movie. It was ...  \n",
            "1  Wagon Master is a very unique film amongst Joh...  \n",
            "2  This film has to be as near to perfect a film ...  \n",
            "3  I gave this 4 stars because it has a lot of in...  \n",
            "4  This movie is really genuine and random. It's ...  \n",
            "                                                url  rating  \\\n",
            "0  http://www.imdb.com/title/tt0120623/usercomments    10.0   \n",
            "1  http://www.imdb.com/title/tt0043117/usercomments     9.0   \n",
            "2  http://www.imdb.com/title/tt0043117/usercomments    10.0   \n",
            "3  http://www.imdb.com/title/tt0835204/usercomments     4.0   \n",
            "4  http://www.imdb.com/title/tt0499603/usercomments    10.0   \n",
            "\n",
            "                                              review  \n",
            "0  I thought this was a quiet good movie. It was ...  \n",
            "1  Wagon Master is a very unique film amongst Joh...  \n",
            "2  This film has to be as near to perfect a film ...  \n",
            "3  I gave this  stars because it has a lot of int...  \n",
            "4  This movie is really genuine and random. It's ...  \n",
            "                                                url  rating  \\\n",
            "0  http://www.imdb.com/title/tt0120623/usercomments    10.0   \n",
            "1  http://www.imdb.com/title/tt0043117/usercomments     9.0   \n",
            "2  http://www.imdb.com/title/tt0043117/usercomments    10.0   \n",
            "3  http://www.imdb.com/title/tt0835204/usercomments     4.0   \n",
            "4  http://www.imdb.com/title/tt0499603/usercomments    10.0   \n",
            "\n",
            "                                              review  \n",
            "0  I thought this was a quiet good movie It was f...  \n",
            "1  Wagon Master is a very unique film amongst Joh...  \n",
            "2  This film has to be as near to perfect a film ...  \n",
            "3  I gave this  stars because it has a lot of int...  \n",
            "4  This movie is really genuine and random Its re...  \n",
            "                                                url  rating  \\\n",
            "0  http://www.imdb.com/title/tt0120623/usercomments    10.0   \n",
            "1  http://www.imdb.com/title/tt0043117/usercomments     9.0   \n",
            "2  http://www.imdb.com/title/tt0043117/usercomments    10.0   \n",
            "3  http://www.imdb.com/title/tt0835204/usercomments     4.0   \n",
            "4  http://www.imdb.com/title/tt0499603/usercomments    10.0   \n",
            "\n",
            "                                              review  \n",
            "0  i thought this was a quiet good movie it was f...  \n",
            "1  wagon master is a very unique film amongst joh...  \n",
            "2  this film has to be as near to perfect a film ...  \n",
            "3  i gave this  stars because it has a lot of int...  \n",
            "4  this movie is really genuine and random its re...  \n",
            "                                                url  rating  \\\n",
            "0  http://www.imdb.com/title/tt0120623/usercomments    10.0   \n",
            "1  http://www.imdb.com/title/tt0043117/usercomments     9.0   \n",
            "2  http://www.imdb.com/title/tt0043117/usercomments    10.0   \n",
            "3  http://www.imdb.com/title/tt0835204/usercomments     4.0   \n",
            "4  http://www.imdb.com/title/tt0499603/usercomments    10.0   \n",
            "\n",
            "                                              review  \n",
            "0  [i, thought, this, was, a, quiet, good, movie,...  \n",
            "1  [wagon, master, is, a, very, unique, film, amo...  \n",
            "2  [this, film, has, to, be, as, near, to, perfec...  \n",
            "3  [i, gave, this, stars, because, it, has, a, lo...  \n",
            "4  [this, movie, is, really, genuine, and, random...  \n",
            "                                                url  rating  \\\n",
            "0  http://www.imdb.com/title/tt0120623/usercomments    10.0   \n",
            "1  http://www.imdb.com/title/tt0043117/usercomments     9.0   \n",
            "2  http://www.imdb.com/title/tt0043117/usercomments    10.0   \n",
            "3  http://www.imdb.com/title/tt0835204/usercomments     4.0   \n",
            "4  http://www.imdb.com/title/tt0499603/usercomments    10.0   \n",
            "\n",
            "                                              review  \n",
            "0  [thought, quiet, good, movie, fun, watch, like...  \n",
            "1  [wagon, master, unique, film, amongst, john, f...  \n",
            "2  [film, near, perfect, film, john, ford, made, ...  \n",
            "3  [gave, stars, lot, interesting, themes, many, ...  \n",
            "4  [movie, really, genuine, random, really, hard,...  \n",
            "                                                url  rating  \\\n",
            "0  http://www.imdb.com/title/tt0120623/usercomments    10.0   \n",
            "1  http://www.imdb.com/title/tt0043117/usercomments     9.0   \n",
            "2  http://www.imdb.com/title/tt0043117/usercomments    10.0   \n",
            "3  http://www.imdb.com/title/tt0835204/usercomments     4.0   \n",
            "4  http://www.imdb.com/title/tt0499603/usercomments    10.0   \n",
            "\n",
            "                                              review  \n",
            "0  [think, quiet, good, movie, fun, watch, like, ...  \n",
            "1  [wagon, master, unique, film, amongst, john, f...  \n",
            "2  [film, near, perfect, film, john, ford, make, ...  \n",
            "3  [give, star, lot, interest, theme, many, alrea...  \n",
            "4  [movie, really, genuine, random, really, hard,...  \n",
            "                                                url  rating  \\\n",
            "0  http://www.imdb.com/title/tt0120623/usercomments       1   \n",
            "1  http://www.imdb.com/title/tt0043117/usercomments       1   \n",
            "2  http://www.imdb.com/title/tt0043117/usercomments       1   \n",
            "3  http://www.imdb.com/title/tt0835204/usercomments       0   \n",
            "4  http://www.imdb.com/title/tt0499603/usercomments       1   \n",
            "\n",
            "                                              review  \n",
            "0  [think, quiet, good, movie, fun, watch, like, ...  \n",
            "1  [wagon, master, unique, film, amongst, john, f...  \n",
            "2  [film, near, perfect, film, john, ford, make, ...  \n",
            "3  [give, star, lot, interest, theme, many, alrea...  \n",
            "4  [movie, really, genuine, random, really, hard,...  \n",
            "                                                url  rating  \\\n",
            "0  http://www.imdb.com/title/tt0120623/usercomments       1   \n",
            "1  http://www.imdb.com/title/tt0043117/usercomments       1   \n",
            "2  http://www.imdb.com/title/tt0043117/usercomments       1   \n",
            "3  http://www.imdb.com/title/tt0835204/usercomments       0   \n",
            "4  http://www.imdb.com/title/tt0499603/usercomments       1   \n",
            "\n",
            "                                              review  \n",
            "0  [think, quiet, fun, watch, best, outtake, end,...  \n",
            "1  [wagon, master, unique, amongst, john, ford, w...  \n",
            "2  [near, perfect, john, ford, magic, masterpiece...  \n",
            "3  [give, star, lot, interest, theme, many, alrea...  \n",
            "4  [really, genuine, random, really, hard, find, ...  \n"
          ]
        }
      ],
      "source": [
        "df = transform(df)"
      ]
    },
    {
      "cell_type": "code",
      "execution_count": 19,
      "metadata": {
        "id": "rxz4-nXX3pRR"
      },
      "outputs": [],
      "source": [
        "device = torch.device('cuda' if torch.cuda.is_available() else 'cpu')\n",
        "torch.cuda.empty_cache()"
      ]
    },
    {
      "cell_type": "markdown",
      "metadata": {
        "id": "ESf8HvPhLMOM"
      },
      "source": [
        "Now we split the dataset into training, validation, and testing sets"
      ]
    },
    {
      "cell_type": "markdown",
      "metadata": {
        "id": "JH2fzLULIchZ"
      },
      "source": [
        "We create two fields using the torchtext library. The first field, \"review_field\", is used to tokenize the text using the tokenizer function tokenizer and also include the length of the tokenized text. The second field \"rating_field\" is used as a LabelField and is used to store the label of the data, which is of type float."
      ]
    },
    {
      "cell_type": "code",
      "execution_count": 20,
      "metadata": {
        "id": "kl817_47Z36h"
      },
      "outputs": [],
      "source": [
        "spacy_en = spacy.load('en_core_web_sm')\n",
        "\n",
        "def tokenizer(text):\n",
        "  tok_text = []\n",
        "\n",
        "  for tok in spacy_en.tokenizer(text):\n",
        "    tok_text.append(tok.text)\n",
        "  \n",
        "  return tok_text\n",
        "\n",
        "review_field = data.Field(tokenize = tokenizer, include_lengths=True)\n",
        "rating_field = data.LabelField(dtype=torch.float)"
      ]
    },
    {
      "cell_type": "markdown",
      "metadata": {
        "id": "kOxTIIZtIsiu"
      },
      "source": [
        "We create a deep copy of the original dataframe so that any changes made to the copy will not affect the original dataframe. We bring the copy to the format that we need for the TabularDataset and we write the dataframe to a csv file named \"preprocessed_df.csv\"."
      ]
    },
    {
      "cell_type": "code",
      "execution_count": 21,
      "metadata": {
        "id": "hup-wBpXiAUt"
      },
      "outputs": [],
      "source": [
        "import copy\n",
        "tmp_df = copy.deepcopy(df)\n",
        "tmp_df['review'] = tmp_df['review'].apply(lambda x: ' '.join(x))\n",
        "tmp_df.drop(\"url\", axis=1, inplace=True)\n",
        "tmp_df = tmp_df.reset_index(drop=True)\n",
        "tmp_df = tmp_df.reindex(columns=['review', 'rating'])\n",
        "tmp_df['review'] = tmp_df['review'].apply(str)\n",
        "tmp_df.to_csv(\"/content/drive/My Drive/preprocessed_df.csv\", index=False)"
      ]
    },
    {
      "cell_type": "markdown",
      "metadata": {
        "id": "-Qhk4EULJRCY"
      },
      "source": [
        "We create a Tabular Dataset from the \"preprocessed_df.csv\" and we use the split function with specific ratios in order to assign the data for train, valid, and test."
      ]
    },
    {
      "cell_type": "code",
      "execution_count": 22,
      "metadata": {
        "id": "1wTQhYZ8juc7"
      },
      "outputs": [],
      "source": [
        "tabular_data = data.TabularDataset(\n",
        "  path='/content/drive/My Drive/preprocessed_df.csv', format='csv', fields=[('review', review_field),\n",
        "  ('rating', rating_field)],skip_header=True)\n",
        "\n",
        "train_data, val_data, test_data = tabular_data.split(split_ratio=[0.8, 0.1, 0.1])"
      ]
    },
    {
      "cell_type": "markdown",
      "metadata": {
        "id": "acxNbYBMJ-t7"
      },
      "source": [
        "We build the vocabulary for the reviews and assign torch.Tensor.normal_ tensor for the words that are not part of the GloVe embeddings"
      ]
    },
    {
      "cell_type": "code",
      "execution_count": 23,
      "metadata": {
        "id": "W_evY7iL04hK",
        "colab": {
          "base_uri": "https://localhost:8080/"
        },
        "outputId": "68e529ec-3a69-4450-ab45-9eebd0feaa44"
      },
      "outputs": [
        {
          "output_type": "stream",
          "name": "stderr",
          "text": [
            "100%|█████████▉| 399999/400000 [00:08<00:00, 48815.54it/s]\n"
          ]
        }
      ],
      "source": [
        "review_field.build_vocab(train_data, max_size = 400000,\n",
        "                         vectors=torchtext.vocab.Vectors('/content/glove.6B.50d.txt'), \n",
        "                         unk_init = torch.Tensor.normal_)\n",
        "rating_field.build_vocab(train_data)"
      ]
    },
    {
      "cell_type": "markdown",
      "metadata": {
        "id": "FLpy6X8JKgAu"
      },
      "source": [
        "We define a function sort_key_fn(review), which takes in a review and returns the length of that review. This function is used to sort the reviews by their length, which helps to minimize the padding required and speed up the training process. Then we  create the iterators (train_it, val_it, test_it) that are used to iterate over the train, validation and test datasets"
      ]
    },
    {
      "cell_type": "code",
      "execution_count": 24,
      "metadata": {
        "id": "Kz2K-n643iE2"
      },
      "outputs": [],
      "source": [
        "def sort_key_fn(review):\n",
        "    text_length = len(review.review)\n",
        "    return text_length\n",
        "\n",
        "batch_size = 128\n",
        "\n",
        "train_it, val_it, test_it = data.BucketIterator.splits(\n",
        "    (train_data, val_data, test_data), \n",
        "    batch_size = batch_size, sort_within_batch = True,\n",
        "    sort_key = sort_key_fn, device = device)"
      ]
    },
    {
      "cell_type": "markdown",
      "metadata": {
        "id": "YsQ87V3gLuI1"
      },
      "source": [
        "We build a Bidirectional Recurrent Neural Network (RNN) module that takes a review as input and output a value representing the sentiment of the review. The user can choose to use vanilla RNN, Long Short-Term Memory (LSTM), or Gated Recurrent Unit (GRU). It is initialized with the size of the vocabulary, embedding dimension, hidden dimension, output dimension, number of layers, dropout rate, and padding index. It also has an embedding layer, a dropout layer, and a linear layer, which connects the output of the RNN to the final output that is passed through a sigmoid function to make it in the range of 0 to 1. In the forward function, the review is passed through the embedding layer, the chosen type of RNN, and then the final hidden state of the RNN is concatenated and passed through the linear layer, dropout layer, and sigmoid function to produce the final output."
      ]
    },
    {
      "cell_type": "code",
      "execution_count": 27,
      "metadata": {
        "id": "f6FgEYCE5dcg"
      },
      "outputs": [],
      "source": [
        "import torch.nn as nn\n",
        "\n",
        "class BidirRNN(nn.Module):\n",
        "  def __init__(self, algo, vocab_size: int, embedding_dim: int, hidden_dim: int, output_dim: int,\n",
        "                num_layers: int, dropout: float, padding_idx: int, skip_layers, attention=False):\n",
        "    super(BidirRNN, self).__init__()\n",
        "\n",
        "    self.skip_layers = skip_layers\n",
        "    self.algo = algo\n",
        "    rnn_f = nn.RNN\n",
        "    if algo == 'LSTM':\n",
        "      rnn_f = nn.LSTM\n",
        "    elif algo == 'GRU':\n",
        "      rnn_f = nn.GRU\n",
        "\n",
        "    self.rnn = rnn_f(embedding_dim, hidden_dim, num_layers = num_layers, bidirectional = True, dropout = dropout)\n",
        "    self.embedding = nn.Embedding(vocab_size, embedding_dim, padding_idx=padding_idx)\n",
        "    self.dropout = nn.Dropout(dropout)\n",
        "    self.attention = attention\n",
        "    if self.attention:\n",
        "      self.attention_layer = nn.Linear(hidden_dim * 2, 1)\n",
        "    self.out = nn.Linear(hidden_dim * 2, output_dim)\n",
        "    self.sigmoid = nn.Sigmoid()\n",
        "    self.residual_layers = nn.ModuleList([nn.Linear(hidden_dim * 2, hidden_dim * 2) for _ in range(num_layers - skip_layers)])\n",
        "\n",
        "  def forward(self, review):\n",
        "    output, hidden = self.rnn(self.embedding(review))\n",
        "    if self.algo == 'LSTM':\n",
        "      hidden = hidden[0]\n",
        "    hidden = torch.cat((hidden[-2,:,:], hidden[-1,:,:]), dim = 1)\n",
        "    for i, layer in enumerate(self.residual_layers):\n",
        "      if i >= self.skip_layers:\n",
        "        hidden = layer(hidden) + hidden\n",
        "    if self.attention:\n",
        "      attention_weights = torch.softmax(self.attention_layer(hidden), dim=1)\n",
        "      hidden = hidden * attention_weights\n",
        "    return self.sigmoid(self.out(hidden))"
      ]
    },
    {
      "cell_type": "code",
      "execution_count": 28,
      "metadata": {
        "colab": {
          "base_uri": "https://localhost:8080/"
        },
        "id": "M6zZy6sAm6Hn",
        "outputId": "7e1ad613-02e1-49af-befa-5ff04f9c7c51"
      },
      "outputs": [
        {
          "output_type": "stream",
          "name": "stdout",
          "text": [
            "Looking in indexes: https://pypi.org/simple, https://us-python.pkg.dev/colab-wheels/public/simple/\n",
            "Collecting optuna\n",
            "  Downloading optuna-3.0.5-py3-none-any.whl (348 kB)\n",
            "\u001b[2K     \u001b[90m━━━━━━━━━━━━━━━━━━━━━━━━━━━━━━━━━━━━━━\u001b[0m \u001b[32m348.5/348.5 KB\u001b[0m \u001b[31m13.8 MB/s\u001b[0m eta \u001b[36m0:00:00\u001b[0m\n",
            "\u001b[?25hRequirement already satisfied: tqdm in /usr/local/lib/python3.8/dist-packages (from optuna) (4.64.1)\n",
            "Requirement already satisfied: numpy in /usr/local/lib/python3.8/dist-packages (from optuna) (1.21.6)\n",
            "Requirement already satisfied: packaging>=20.0 in /usr/local/lib/python3.8/dist-packages (from optuna) (21.3)\n",
            "Collecting importlib-metadata<5.0.0\n",
            "  Downloading importlib_metadata-4.13.0-py3-none-any.whl (23 kB)\n",
            "Collecting colorlog\n",
            "  Downloading colorlog-6.7.0-py2.py3-none-any.whl (11 kB)\n",
            "Requirement already satisfied: scipy<1.9.0,>=1.7.0 in /usr/local/lib/python3.8/dist-packages (from optuna) (1.7.3)\n",
            "Collecting cliff\n",
            "  Downloading cliff-4.1.0-py3-none-any.whl (81 kB)\n",
            "\u001b[2K     \u001b[90m━━━━━━━━━━━━━━━━━━━━━━━━━━━━━━━━━━━━━━━━\u001b[0m \u001b[32m81.0/81.0 KB\u001b[0m \u001b[31m11.3 MB/s\u001b[0m eta \u001b[36m0:00:00\u001b[0m\n",
            "\u001b[?25hCollecting cmaes>=0.8.2\n",
            "  Downloading cmaes-0.9.1-py3-none-any.whl (21 kB)\n",
            "Requirement already satisfied: PyYAML in /usr/local/lib/python3.8/dist-packages (from optuna) (6.0)\n",
            "Requirement already satisfied: sqlalchemy>=1.3.0 in /usr/local/lib/python3.8/dist-packages (from optuna) (1.4.46)\n",
            "Collecting alembic>=1.5.0\n",
            "  Downloading alembic-1.9.2-py3-none-any.whl (210 kB)\n",
            "\u001b[2K     \u001b[90m━━━━━━━━━━━━━━━━━━━━━━━━━━━━━━━━━━━━━━\u001b[0m \u001b[32m210.6/210.6 KB\u001b[0m \u001b[31m27.8 MB/s\u001b[0m eta \u001b[36m0:00:00\u001b[0m\n",
            "\u001b[?25hCollecting Mako\n",
            "  Downloading Mako-1.2.4-py3-none-any.whl (78 kB)\n",
            "\u001b[2K     \u001b[90m━━━━━━━━━━━━━━━━━━━━━━━━━━━━━━━━━━━━━━━━\u001b[0m \u001b[32m78.7/78.7 KB\u001b[0m \u001b[31m12.1 MB/s\u001b[0m eta \u001b[36m0:00:00\u001b[0m\n",
            "\u001b[?25hRequirement already satisfied: importlib-resources in /usr/local/lib/python3.8/dist-packages (from alembic>=1.5.0->optuna) (5.10.2)\n",
            "Requirement already satisfied: zipp>=0.5 in /usr/local/lib/python3.8/dist-packages (from importlib-metadata<5.0.0->optuna) (3.11.0)\n",
            "Requirement already satisfied: pyparsing!=3.0.5,>=2.0.2 in /usr/local/lib/python3.8/dist-packages (from packaging>=20.0->optuna) (3.0.9)\n",
            "Requirement already satisfied: greenlet!=0.4.17 in /usr/local/lib/python3.8/dist-packages (from sqlalchemy>=1.3.0->optuna) (2.0.1)\n",
            "Requirement already satisfied: PrettyTable>=0.7.2 in /usr/local/lib/python3.8/dist-packages (from cliff->optuna) (3.5.0)\n",
            "Collecting autopage>=0.4.0\n",
            "  Downloading autopage-0.5.1-py3-none-any.whl (29 kB)\n",
            "Collecting cmd2>=1.0.0\n",
            "  Downloading cmd2-2.4.2-py3-none-any.whl (147 kB)\n",
            "\u001b[2K     \u001b[90m━━━━━━━━━━━━━━━━━━━━━━━━━━━━━━━━━━━━━━\u001b[0m \u001b[32m147.1/147.1 KB\u001b[0m \u001b[31m19.1 MB/s\u001b[0m eta \u001b[36m0:00:00\u001b[0m\n",
            "\u001b[?25hCollecting stevedore>=2.0.1\n",
            "  Downloading stevedore-4.1.1-py3-none-any.whl (50 kB)\n",
            "\u001b[2K     \u001b[90m━━━━━━━━━━━━━━━━━━━━━━━━━━━━━━━━━━━━━━━━\u001b[0m \u001b[32m50.0/50.0 KB\u001b[0m \u001b[31m6.7 MB/s\u001b[0m eta \u001b[36m0:00:00\u001b[0m\n",
            "\u001b[?25hRequirement already satisfied: wcwidth>=0.1.7 in /usr/local/lib/python3.8/dist-packages (from cmd2>=1.0.0->cliff->optuna) (0.2.5)\n",
            "Requirement already satisfied: attrs>=16.3.0 in /usr/local/lib/python3.8/dist-packages (from cmd2>=1.0.0->cliff->optuna) (22.2.0)\n",
            "Collecting pyperclip>=1.6\n",
            "  Downloading pyperclip-1.8.2.tar.gz (20 kB)\n",
            "  Preparing metadata (setup.py) ... \u001b[?25l\u001b[?25hdone\n",
            "Collecting pbr!=2.1.0,>=2.0.0\n",
            "  Downloading pbr-5.11.1-py2.py3-none-any.whl (112 kB)\n",
            "\u001b[2K     \u001b[90m━━━━━━━━━━━━━━━━━━━━━━━━━━━━━━━━━━━━━━\u001b[0m \u001b[32m112.7/112.7 KB\u001b[0m \u001b[31m14.4 MB/s\u001b[0m eta \u001b[36m0:00:00\u001b[0m\n",
            "\u001b[?25hRequirement already satisfied: MarkupSafe>=0.9.2 in /usr/local/lib/python3.8/dist-packages (from Mako->alembic>=1.5.0->optuna) (2.0.1)\n",
            "Building wheels for collected packages: pyperclip\n",
            "  Building wheel for pyperclip (setup.py) ... \u001b[?25l\u001b[?25hdone\n",
            "  Created wheel for pyperclip: filename=pyperclip-1.8.2-py3-none-any.whl size=11136 sha256=e0106b02706b3211fae012f9281ea8afc39d0e843f0f35ba91173b4ccd8319df\n",
            "  Stored in directory: /root/.cache/pip/wheels/7f/1a/65/84ff8c386bec21fca6d220ea1f5498a0367883a78dd5ba6122\n",
            "Successfully built pyperclip\n",
            "Installing collected packages: pyperclip, pbr, Mako, importlib-metadata, colorlog, cmd2, cmaes, autopage, stevedore, alembic, cliff, optuna\n",
            "  Attempting uninstall: importlib-metadata\n",
            "    Found existing installation: importlib-metadata 6.0.0\n",
            "    Uninstalling importlib-metadata-6.0.0:\n",
            "      Successfully uninstalled importlib-metadata-6.0.0\n",
            "Successfully installed Mako-1.2.4 alembic-1.9.2 autopage-0.5.1 cliff-4.1.0 cmaes-0.9.1 cmd2-2.4.2 colorlog-6.7.0 importlib-metadata-4.13.0 optuna-3.0.5 pbr-5.11.1 pyperclip-1.8.2 stevedore-4.1.1\n"
          ]
        }
      ],
      "source": [
        "%pip install optuna"
      ]
    },
    {
      "cell_type": "markdown",
      "metadata": {
        "id": "b8wCD0fZNXhy"
      },
      "source": [
        "We use the Optuna library to optimize the model. We set some initial hyperparameters, including the input dimension, embedding dimension, and output dimension for the model. We use the trial object to suggest different values for the hidden dimension, cell type, number of layers, and dropout rate for the model. The model is trained for 5 epochs and the validation accuracy is returned at the end of the training. The objective is to maximize the validation accuracy."
      ]
    },
    {
      "cell_type": "code",
      "execution_count": 29,
      "metadata": {
        "id": "RC7S6Y21nMVz"
      },
      "outputs": [],
      "source": [
        "import optuna\n",
        "from optuna.visualization import plot_contour\n",
        "from optuna.visualization import plot_edf\n",
        "from optuna.visualization import plot_intermediate_values\n",
        "from optuna.visualization import plot_optimization_history\n",
        "from optuna.visualization import plot_parallel_coordinate\n",
        "from optuna.visualization import plot_param_importances\n",
        "from optuna.visualization import plot_slice\n",
        "from torch.optim.lr_scheduler import StepLR\n",
        "\n",
        "def objective(trial):\n",
        "\n",
        "  input_dim = len(review_field.vocab)\n",
        "  embedding_dim = 50\n",
        "  output_dim = 1\n",
        "  padding_idx = 1\n",
        "\n",
        "  hidden_dim =  trial.suggest_categorical('hidden_dim', [16, 32, 64, 200])\n",
        "  cell_type = trial.suggest_categorical('cell_type', ['LSTM', 'GRU'])\n",
        "  num_layers = trial.suggest_categorical('num_layers', [2, 3, 4])\n",
        "  dropout = trial.suggest_categorical('dropout', [0.3, 0.5, 0.7])\n",
        "  clip = trial.suggest_categorical('clip', [1, 5])\n",
        "  epochs = trial.suggest_categorical('epochs', [3, 5, 8])\n",
        "  skip_layers = trial.suggest_categorical('skip_layers', [0, 1, 2])\n",
        "\n",
        "  model = BidirRNN(cell_type, input_dim, embedding_dim, hidden_dim, output_dim, num_layers, dropout, padding_idx, skip_layers, True)\n",
        "  model.embedding.weight.data.copy_(review_field.vocab.vectors)\n",
        "\n",
        "  optimizer = torch.optim.Adam(model.parameters())\n",
        "  loss_func = nn.BCELoss()\n",
        "  model = model.to(device)\n",
        "  loss_func = loss_func.to(device)\n",
        "\n",
        "  for epoch in range(epochs):\n",
        "    model.train()\n",
        "    epoch_loss, epoch_acc = 0, 0\n",
        "\n",
        "    for batch in train_it:\n",
        "      optimizer.zero_grad()\n",
        "      predictions = model(batch.review[0]).squeeze(1)\n",
        "      loss = loss_func(predictions, batch.rating)\n",
        "      acc = torch.mean((torch.round(predictions) == batch.rating).float())\n",
        "      loss.backward()\n",
        "      torch.nn.utils.clip_grad_norm_(model.parameters(), clip)\n",
        "      optimizer.step()\n",
        "      epoch_loss += loss.item()\n",
        "      epoch_acc += acc.item()\n",
        "\n",
        "    train_loss, train_acc = epoch_loss / len(train_it), epoch_acc / len(train_it)\n",
        "\n",
        "    print(f\"Train Loss: {train_loss:.4f} | Train Acc: {train_acc*100:.2f}%\")\n",
        "\n",
        "  model.eval()\n",
        "  epoch_loss, epoch_acc = 0, 0\n",
        "\n",
        "  with torch.no_grad():\n",
        "    for batch in val_it:\n",
        "      predictions = model(batch.review[0]).squeeze(1)\n",
        "      loss = loss_func(predictions, batch.rating)\n",
        "      acc = torch.mean((torch.round(predictions) == batch.rating).float())\n",
        "\n",
        "      epoch_loss += loss.item()\n",
        "      epoch_acc += acc.item()\n",
        "      \n",
        "  val_loss, val_acc = epoch_loss / len(val_it), epoch_acc / len(val_it)\n",
        "\n",
        "  print(\"Validation accuracy: \", val_acc)\n",
        "  return val_acc"
      ]
    },
    {
      "cell_type": "code",
      "source": [
        "study = optuna.create_study(direction='maximize')\n",
        "study.optimize(objective, n_trials=35)"
      ],
      "metadata": {
        "colab": {
          "base_uri": "https://localhost:8080/"
        },
        "id": "d9NLj2ClCmzS",
        "outputId": "39e87b69-2239-4352-b016-b75a96bdcb58"
      },
      "execution_count": 30,
      "outputs": [
        {
          "output_type": "stream",
          "name": "stderr",
          "text": [
            "\u001b[32m[I 2023-01-16 15:33:30,248]\u001b[0m A new study created in memory with name: no-name-fc380f97-7d87-4880-a1e7-cc5fa5631dbc\u001b[0m\n"
          ]
        },
        {
          "output_type": "stream",
          "name": "stdout",
          "text": [
            "Train Loss: 0.5500 | Train Acc: 71.77%\n",
            "Train Loss: 0.3840 | Train Acc: 83.48%\n",
            "Train Loss: 0.2866 | Train Acc: 88.47%\n",
            "Train Loss: 0.2190 | Train Acc: 91.71%\n",
            "Train Loss: 0.1559 | Train Acc: 94.51%\n"
          ]
        },
        {
          "output_type": "stream",
          "name": "stderr",
          "text": [
            "\u001b[32m[I 2023-01-16 15:34:28,149]\u001b[0m Trial 0 finished with value: 0.8725508434904946 and parameters: {'hidden_dim': 16, 'cell_type': 'LSTM', 'num_layers': 2, 'dropout': 0.5, 'clip': 5, 'epochs': 5, 'skip_layers': 2}. Best is trial 0 with value: 0.8725508434904946.\u001b[0m\n"
          ]
        },
        {
          "output_type": "stream",
          "name": "stdout",
          "text": [
            "Validation accuracy:  0.8725508434904946\n",
            "Train Loss: 0.4378 | Train Acc: 79.28%\n",
            "Train Loss: 0.2670 | Train Acc: 88.98%\n",
            "Train Loss: 0.1798 | Train Acc: 93.07%\n",
            "Train Loss: 0.1008 | Train Acc: 96.48%\n",
            "Train Loss: 0.0413 | Train Acc: 98.70%\n"
          ]
        },
        {
          "output_type": "stream",
          "name": "stderr",
          "text": [
            "\u001b[32m[I 2023-01-16 15:35:57,224]\u001b[0m Trial 1 finished with value: 0.8740906086232927 and parameters: {'hidden_dim': 200, 'cell_type': 'GRU', 'num_layers': 2, 'dropout': 0.3, 'clip': 1, 'epochs': 5, 'skip_layers': 1}. Best is trial 1 with value: 0.8740906086232927.\u001b[0m\n"
          ]
        },
        {
          "output_type": "stream",
          "name": "stdout",
          "text": [
            "Validation accuracy:  0.8740906086232927\n",
            "Train Loss: 0.4950 | Train Acc: 75.95%\n",
            "Train Loss: 0.3465 | Train Acc: 85.42%\n",
            "Train Loss: 0.2512 | Train Acc: 90.16%\n",
            "Train Loss: 0.1701 | Train Acc: 93.89%\n",
            "Train Loss: 0.1059 | Train Acc: 96.42%\n",
            "Train Loss: 0.0531 | Train Acc: 98.41%\n",
            "Train Loss: 0.0261 | Train Acc: 99.32%\n",
            "Train Loss: 0.0163 | Train Acc: 99.57%\n"
          ]
        },
        {
          "output_type": "stream",
          "name": "stderr",
          "text": [
            "\u001b[32m[I 2023-01-16 15:37:13,108]\u001b[0m Trial 2 finished with value: 0.8734395669566261 and parameters: {'hidden_dim': 64, 'cell_type': 'LSTM', 'num_layers': 2, 'dropout': 0.3, 'clip': 5, 'epochs': 8, 'skip_layers': 2}. Best is trial 1 with value: 0.8740906086232927.\u001b[0m\n"
          ]
        },
        {
          "output_type": "stream",
          "name": "stdout",
          "text": [
            "Validation accuracy:  0.8734395669566261\n",
            "Train Loss: 0.4883 | Train Acc: 75.79%\n",
            "Train Loss: 0.3008 | Train Acc: 87.75%\n",
            "Train Loss: 0.2106 | Train Acc: 91.89%\n",
            "Train Loss: 0.1378 | Train Acc: 95.03%\n",
            "Train Loss: 0.0825 | Train Acc: 97.18%\n",
            "Train Loss: 0.0443 | Train Acc: 98.57%\n",
            "Train Loss: 0.0297 | Train Acc: 99.14%\n",
            "Train Loss: 0.0144 | Train Acc: 99.55%\n"
          ]
        },
        {
          "output_type": "stream",
          "name": "stderr",
          "text": [
            "\u001b[32m[I 2023-01-16 15:38:42,665]\u001b[0m Trial 3 finished with value: 0.8605530758698782 and parameters: {'hidden_dim': 32, 'cell_type': 'LSTM', 'num_layers': 3, 'dropout': 0.5, 'clip': 1, 'epochs': 8, 'skip_layers': 1}. Best is trial 1 with value: 0.8740906086232927.\u001b[0m\n"
          ]
        },
        {
          "output_type": "stream",
          "name": "stdout",
          "text": [
            "Validation accuracy:  0.8605530758698782\n",
            "Train Loss: 0.4778 | Train Acc: 76.31%\n",
            "Train Loss: 0.3026 | Train Acc: 87.42%\n",
            "Train Loss: 0.2168 | Train Acc: 91.70%\n",
            "Train Loss: 0.1404 | Train Acc: 94.97%\n",
            "Train Loss: 0.0728 | Train Acc: 97.61%\n",
            "Train Loss: 0.0334 | Train Acc: 98.90%\n",
            "Train Loss: 0.0242 | Train Acc: 99.37%\n",
            "Train Loss: 0.0102 | Train Acc: 99.64%\n"
          ]
        },
        {
          "output_type": "stream",
          "name": "stderr",
          "text": [
            "\u001b[32m[I 2023-01-16 15:40:14,374]\u001b[0m Trial 4 finished with value: 0.8523272160026762 and parameters: {'hidden_dim': 32, 'cell_type': 'LSTM', 'num_layers': 3, 'dropout': 0.3, 'clip': 1, 'epochs': 8, 'skip_layers': 1}. Best is trial 1 with value: 0.8740906086232927.\u001b[0m\n"
          ]
        },
        {
          "output_type": "stream",
          "name": "stdout",
          "text": [
            "Validation accuracy:  0.8523272160026762\n",
            "Train Loss: 0.4696 | Train Acc: 76.64%\n",
            "Train Loss: 0.2911 | Train Acc: 87.88%\n",
            "Train Loss: 0.1865 | Train Acc: 92.78%\n",
            "Train Loss: 0.0992 | Train Acc: 96.37%\n",
            "Train Loss: 0.0391 | Train Acc: 98.73%\n",
            "Train Loss: 0.0169 | Train Acc: 99.47%\n",
            "Train Loss: 0.0072 | Train Acc: 99.78%\n",
            "Train Loss: 0.0069 | Train Acc: 99.82%\n"
          ]
        },
        {
          "output_type": "stream",
          "name": "stderr",
          "text": [
            "\u001b[32m[I 2023-01-16 15:41:54,721]\u001b[0m Trial 5 finished with value: 0.8686652614010705 and parameters: {'hidden_dim': 64, 'cell_type': 'GRU', 'num_layers': 3, 'dropout': 0.5, 'clip': 1, 'epochs': 8, 'skip_layers': 0}. Best is trial 1 with value: 0.8740906086232927.\u001b[0m\n"
          ]
        },
        {
          "output_type": "stream",
          "name": "stdout",
          "text": [
            "Validation accuracy:  0.8686652614010705\n",
            "Train Loss: 0.4621 | Train Acc: 77.48%\n",
            "Train Loss: 0.3056 | Train Acc: 87.41%\n",
            "Train Loss: 0.2243 | Train Acc: 91.38%\n",
            "Train Loss: 0.1595 | Train Acc: 94.25%\n",
            "Train Loss: 0.1058 | Train Acc: 96.29%\n"
          ]
        },
        {
          "output_type": "stream",
          "name": "stderr",
          "text": [
            "\u001b[32m[I 2023-01-16 15:43:01,501]\u001b[0m Trial 6 finished with value: 0.8762607475121816 and parameters: {'hidden_dim': 64, 'cell_type': 'LSTM', 'num_layers': 3, 'dropout': 0.5, 'clip': 1, 'epochs': 5, 'skip_layers': 2}. Best is trial 6 with value: 0.8762607475121816.\u001b[0m\n"
          ]
        },
        {
          "output_type": "stream",
          "name": "stdout",
          "text": [
            "Validation accuracy:  0.8762607475121816\n",
            "Train Loss: 0.4731 | Train Acc: 76.53%\n",
            "Train Loss: 0.2925 | Train Acc: 87.93%\n",
            "Train Loss: 0.1911 | Train Acc: 92.72%\n",
            "Train Loss: 0.1050 | Train Acc: 96.16%\n",
            "Train Loss: 0.0494 | Train Acc: 98.35%\n"
          ]
        },
        {
          "output_type": "stream",
          "name": "stderr",
          "text": [
            "\u001b[32m[I 2023-01-16 15:43:57,952]\u001b[0m Trial 7 finished with value: 0.8714864419566261 and parameters: {'hidden_dim': 32, 'cell_type': 'GRU', 'num_layers': 3, 'dropout': 0.5, 'clip': 1, 'epochs': 5, 'skip_layers': 0}. Best is trial 6 with value: 0.8762607475121816.\u001b[0m\n"
          ]
        },
        {
          "output_type": "stream",
          "name": "stdout",
          "text": [
            "Validation accuracy:  0.8714864419566261\n",
            "Train Loss: 0.4810 | Train Acc: 76.13%\n",
            "Train Loss: 0.3020 | Train Acc: 87.72%\n",
            "Train Loss: 0.2173 | Train Acc: 91.79%\n",
            "Train Loss: 0.1443 | Train Acc: 95.13%\n",
            "Train Loss: 0.0897 | Train Acc: 97.15%\n",
            "Train Loss: 0.0525 | Train Acc: 98.47%\n",
            "Train Loss: 0.0338 | Train Acc: 99.05%\n",
            "Train Loss: 0.0236 | Train Acc: 99.35%\n"
          ]
        },
        {
          "output_type": "stream",
          "name": "stderr",
          "text": [
            "\u001b[32m[I 2023-01-16 15:46:22,148]\u001b[0m Trial 8 finished with value: 0.854910714758767 and parameters: {'hidden_dim': 64, 'cell_type': 'LSTM', 'num_layers': 4, 'dropout': 0.7, 'clip': 1, 'epochs': 8, 'skip_layers': 1}. Best is trial 6 with value: 0.8762607475121816.\u001b[0m\n"
          ]
        },
        {
          "output_type": "stream",
          "name": "stdout",
          "text": [
            "Validation accuracy:  0.854910714758767\n",
            "Train Loss: 0.5800 | Train Acc: 69.54%\n",
            "Train Loss: 0.4562 | Train Acc: 78.94%\n",
            "Train Loss: 0.3037 | Train Acc: 87.68%\n",
            "Train Loss: 0.2141 | Train Acc: 92.10%\n",
            "Train Loss: 0.1303 | Train Acc: 95.38%\n",
            "Train Loss: 0.0760 | Train Acc: 97.60%\n",
            "Train Loss: 0.0369 | Train Acc: 98.95%\n",
            "Train Loss: 0.0210 | Train Acc: 99.45%\n"
          ]
        },
        {
          "output_type": "stream",
          "name": "stderr",
          "text": [
            "\u001b[32m[I 2023-01-16 15:52:50,822]\u001b[0m Trial 9 finished with value: 0.8608527614010705 and parameters: {'hidden_dim': 200, 'cell_type': 'LSTM', 'num_layers': 4, 'dropout': 0.7, 'clip': 5, 'epochs': 8, 'skip_layers': 2}. Best is trial 6 with value: 0.8762607475121816.\u001b[0m\n"
          ]
        },
        {
          "output_type": "stream",
          "name": "stdout",
          "text": [
            "Validation accuracy:  0.8608527614010705\n",
            "Train Loss: 0.5233 | Train Acc: 73.66%\n",
            "Train Loss: 0.3353 | Train Acc: 85.97%\n",
            "Train Loss: 0.2442 | Train Acc: 90.50%\n"
          ]
        },
        {
          "output_type": "stream",
          "name": "stderr",
          "text": [
            "\u001b[32m[I 2023-01-16 15:53:25,291]\u001b[0m Trial 10 finished with value: 0.8714451061354743 and parameters: {'hidden_dim': 16, 'cell_type': 'LSTM', 'num_layers': 3, 'dropout': 0.5, 'clip': 1, 'epochs': 3, 'skip_layers': 2}. Best is trial 6 with value: 0.8762607475121816.\u001b[0m\n"
          ]
        },
        {
          "output_type": "stream",
          "name": "stdout",
          "text": [
            "Validation accuracy:  0.8714451061354743\n",
            "Train Loss: 0.4345 | Train Acc: 79.52%\n",
            "Train Loss: 0.2729 | Train Acc: 89.09%\n",
            "Train Loss: 0.1765 | Train Acc: 93.35%\n",
            "Train Loss: 0.0759 | Train Acc: 97.52%\n",
            "Train Loss: 0.0293 | Train Acc: 98.97%\n"
          ]
        },
        {
          "output_type": "stream",
          "name": "stderr",
          "text": [
            "\u001b[32m[I 2023-01-16 15:54:57,032]\u001b[0m Trial 11 finished with value: 0.869729662934939 and parameters: {'hidden_dim': 200, 'cell_type': 'GRU', 'num_layers': 2, 'dropout': 0.3, 'clip': 1, 'epochs': 5, 'skip_layers': 1}. Best is trial 6 with value: 0.8762607475121816.\u001b[0m\n"
          ]
        },
        {
          "output_type": "stream",
          "name": "stdout",
          "text": [
            "Validation accuracy:  0.869729662934939\n",
            "Train Loss: 0.4476 | Train Acc: 78.38%\n",
            "Train Loss: 0.2673 | Train Acc: 88.99%\n",
            "Train Loss: 0.1699 | Train Acc: 93.52%\n",
            "Train Loss: 0.0690 | Train Acc: 97.64%\n",
            "Train Loss: 0.0247 | Train Acc: 99.21%\n"
          ]
        },
        {
          "output_type": "stream",
          "name": "stderr",
          "text": [
            "\u001b[32m[I 2023-01-16 15:56:28,723]\u001b[0m Trial 12 finished with value: 0.8771288030677371 and parameters: {'hidden_dim': 200, 'cell_type': 'GRU', 'num_layers': 2, 'dropout': 0.3, 'clip': 1, 'epochs': 5, 'skip_layers': 1}. Best is trial 12 with value: 0.8771288030677371.\u001b[0m\n"
          ]
        },
        {
          "output_type": "stream",
          "name": "stdout",
          "text": [
            "Validation accuracy:  0.8771288030677371\n",
            "Train Loss: 0.4406 | Train Acc: 78.83%\n",
            "Train Loss: 0.2597 | Train Acc: 89.43%\n",
            "Train Loss: 0.1692 | Train Acc: 93.56%\n",
            "Train Loss: 0.0831 | Train Acc: 97.16%\n",
            "Train Loss: 0.0316 | Train Acc: 98.93%\n"
          ]
        },
        {
          "output_type": "stream",
          "name": "stderr",
          "text": [
            "\u001b[32m[I 2023-01-16 15:57:12,015]\u001b[0m Trial 13 finished with value: 0.8719204697344038 and parameters: {'hidden_dim': 64, 'cell_type': 'GRU', 'num_layers': 2, 'dropout': 0.3, 'clip': 1, 'epochs': 5, 'skip_layers': 2}. Best is trial 12 with value: 0.8771288030677371.\u001b[0m\n"
          ]
        },
        {
          "output_type": "stream",
          "name": "stdout",
          "text": [
            "Validation accuracy:  0.8719204697344038\n",
            "Train Loss: 0.5077 | Train Acc: 74.97%\n",
            "Train Loss: 0.3102 | Train Acc: 87.45%\n",
            "Train Loss: 0.2201 | Train Acc: 91.63%\n"
          ]
        },
        {
          "output_type": "stream",
          "name": "stderr",
          "text": [
            "\u001b[32m[I 2023-01-16 15:59:14,102]\u001b[0m Trial 14 finished with value: 0.8831845240460502 and parameters: {'hidden_dim': 200, 'cell_type': 'GRU', 'num_layers': 4, 'dropout': 0.7, 'clip': 5, 'epochs': 3, 'skip_layers': 0}. Best is trial 14 with value: 0.8831845240460502.\u001b[0m\n"
          ]
        },
        {
          "output_type": "stream",
          "name": "stdout",
          "text": [
            "Validation accuracy:  0.8831845240460502\n",
            "Train Loss: 0.4815 | Train Acc: 76.56%\n",
            "Train Loss: 0.2851 | Train Acc: 88.29%\n",
            "Train Loss: 0.2121 | Train Acc: 91.90%\n"
          ]
        },
        {
          "output_type": "stream",
          "name": "stderr",
          "text": [
            "\u001b[32m[I 2023-01-16 16:01:16,500]\u001b[0m Trial 15 finished with value: 0.8572358638048172 and parameters: {'hidden_dim': 200, 'cell_type': 'GRU', 'num_layers': 4, 'dropout': 0.7, 'clip': 5, 'epochs': 3, 'skip_layers': 0}. Best is trial 14 with value: 0.8831845240460502.\u001b[0m\n"
          ]
        },
        {
          "output_type": "stream",
          "name": "stdout",
          "text": [
            "Validation accuracy:  0.8572358638048172\n",
            "Train Loss: 0.4904 | Train Acc: 75.88%\n",
            "Train Loss: 0.2949 | Train Acc: 88.13%\n",
            "Train Loss: 0.2052 | Train Acc: 92.09%\n"
          ]
        },
        {
          "output_type": "stream",
          "name": "stderr",
          "text": [
            "\u001b[32m[I 2023-01-16 16:03:19,585]\u001b[0m Trial 16 finished with value: 0.885571676823828 and parameters: {'hidden_dim': 200, 'cell_type': 'GRU', 'num_layers': 4, 'dropout': 0.7, 'clip': 5, 'epochs': 3, 'skip_layers': 0}. Best is trial 16 with value: 0.885571676823828.\u001b[0m\n"
          ]
        },
        {
          "output_type": "stream",
          "name": "stdout",
          "text": [
            "Validation accuracy:  0.885571676823828\n",
            "Train Loss: 0.4860 | Train Acc: 76.18%\n",
            "Train Loss: 0.2898 | Train Acc: 88.25%\n",
            "Train Loss: 0.1896 | Train Acc: 92.93%\n"
          ]
        },
        {
          "output_type": "stream",
          "name": "stderr",
          "text": [
            "\u001b[32m[I 2023-01-16 16:05:21,431]\u001b[0m Trial 17 finished with value: 0.8500744054714838 and parameters: {'hidden_dim': 200, 'cell_type': 'GRU', 'num_layers': 4, 'dropout': 0.7, 'clip': 5, 'epochs': 3, 'skip_layers': 0}. Best is trial 16 with value: 0.885571676823828.\u001b[0m\n"
          ]
        },
        {
          "output_type": "stream",
          "name": "stdout",
          "text": [
            "Validation accuracy:  0.8500744054714838\n",
            "Train Loss: 0.4920 | Train Acc: 76.18%\n",
            "Train Loss: 0.2910 | Train Acc: 88.35%\n",
            "Train Loss: 0.1981 | Train Acc: 92.52%\n"
          ]
        },
        {
          "output_type": "stream",
          "name": "stderr",
          "text": [
            "\u001b[32m[I 2023-01-16 16:07:22,186]\u001b[0m Trial 18 finished with value: 0.885768022802141 and parameters: {'hidden_dim': 200, 'cell_type': 'GRU', 'num_layers': 4, 'dropout': 0.7, 'clip': 5, 'epochs': 3, 'skip_layers': 0}. Best is trial 18 with value: 0.885768022802141.\u001b[0m\n"
          ]
        },
        {
          "output_type": "stream",
          "name": "stdout",
          "text": [
            "Validation accuracy:  0.885768022802141\n",
            "Train Loss: 0.4858 | Train Acc: 76.14%\n",
            "Train Loss: 0.2977 | Train Acc: 88.06%\n",
            "Train Loss: 0.2019 | Train Acc: 92.42%\n"
          ]
        },
        {
          "output_type": "stream",
          "name": "stderr",
          "text": [
            "\u001b[32m[I 2023-01-16 16:09:24,325]\u001b[0m Trial 19 finished with value: 0.867435516582595 and parameters: {'hidden_dim': 200, 'cell_type': 'GRU', 'num_layers': 4, 'dropout': 0.7, 'clip': 5, 'epochs': 3, 'skip_layers': 0}. Best is trial 18 with value: 0.885768022802141.\u001b[0m\n"
          ]
        },
        {
          "output_type": "stream",
          "name": "stdout",
          "text": [
            "Validation accuracy:  0.867435516582595\n",
            "Train Loss: 0.5405 | Train Acc: 70.86%\n",
            "Train Loss: 0.3191 | Train Acc: 86.89%\n",
            "Train Loss: 0.1967 | Train Acc: 92.64%\n"
          ]
        },
        {
          "output_type": "stream",
          "name": "stderr",
          "text": [
            "\u001b[32m[I 2023-01-16 16:10:07,695]\u001b[0m Trial 20 finished with value: 0.8763330860270394 and parameters: {'hidden_dim': 16, 'cell_type': 'GRU', 'num_layers': 4, 'dropout': 0.7, 'clip': 5, 'epochs': 3, 'skip_layers': 0}. Best is trial 18 with value: 0.885768022802141.\u001b[0m\n"
          ]
        },
        {
          "output_type": "stream",
          "name": "stdout",
          "text": [
            "Validation accuracy:  0.8763330860270394\n",
            "Train Loss: 0.4936 | Train Acc: 75.94%\n",
            "Train Loss: 0.2969 | Train Acc: 87.90%\n",
            "Train Loss: 0.1864 | Train Acc: 92.91%\n"
          ]
        },
        {
          "output_type": "stream",
          "name": "stderr",
          "text": [
            "\u001b[32m[I 2023-01-16 16:12:10,065]\u001b[0m Trial 21 finished with value: 0.8844866073793836 and parameters: {'hidden_dim': 200, 'cell_type': 'GRU', 'num_layers': 4, 'dropout': 0.7, 'clip': 5, 'epochs': 3, 'skip_layers': 0}. Best is trial 18 with value: 0.885768022802141.\u001b[0m\n"
          ]
        },
        {
          "output_type": "stream",
          "name": "stdout",
          "text": [
            "Validation accuracy:  0.8844866073793836\n",
            "Train Loss: 0.4788 | Train Acc: 76.51%\n",
            "Train Loss: 0.2868 | Train Acc: 88.24%\n",
            "Train Loss: 0.1959 | Train Acc: 92.61%\n"
          ]
        },
        {
          "output_type": "stream",
          "name": "stderr",
          "text": [
            "\u001b[32m[I 2023-01-16 16:14:12,845]\u001b[0m Trial 22 finished with value: 0.8774181554714838 and parameters: {'hidden_dim': 200, 'cell_type': 'GRU', 'num_layers': 4, 'dropout': 0.7, 'clip': 5, 'epochs': 3, 'skip_layers': 0}. Best is trial 18 with value: 0.885768022802141.\u001b[0m\n"
          ]
        },
        {
          "output_type": "stream",
          "name": "stdout",
          "text": [
            "Validation accuracy:  0.8774181554714838\n",
            "Train Loss: 0.5043 | Train Acc: 75.24%\n",
            "Train Loss: 0.2939 | Train Acc: 88.16%\n",
            "Train Loss: 0.1899 | Train Acc: 92.86%\n"
          ]
        },
        {
          "output_type": "stream",
          "name": "stderr",
          "text": [
            "\u001b[32m[I 2023-01-16 16:16:15,650]\u001b[0m Trial 23 finished with value: 0.8617931554714838 and parameters: {'hidden_dim': 200, 'cell_type': 'GRU', 'num_layers': 4, 'dropout': 0.7, 'clip': 5, 'epochs': 3, 'skip_layers': 0}. Best is trial 18 with value: 0.885768022802141.\u001b[0m\n"
          ]
        },
        {
          "output_type": "stream",
          "name": "stdout",
          "text": [
            "Validation accuracy:  0.8617931554714838\n",
            "Train Loss: 0.4696 | Train Acc: 77.66%\n",
            "Train Loss: 0.2916 | Train Acc: 88.17%\n",
            "Train Loss: 0.2032 | Train Acc: 92.33%\n"
          ]
        },
        {
          "output_type": "stream",
          "name": "stderr",
          "text": [
            "\u001b[32m[I 2023-01-16 16:18:18,323]\u001b[0m Trial 24 finished with value: 0.8877418157127168 and parameters: {'hidden_dim': 200, 'cell_type': 'GRU', 'num_layers': 4, 'dropout': 0.7, 'clip': 5, 'epochs': 3, 'skip_layers': 0}. Best is trial 24 with value: 0.8877418157127168.\u001b[0m\n"
          ]
        },
        {
          "output_type": "stream",
          "name": "stdout",
          "text": [
            "Validation accuracy:  0.8877418157127168\n",
            "Train Loss: 0.4716 | Train Acc: 77.58%\n",
            "Train Loss: 0.3001 | Train Acc: 87.95%\n",
            "Train Loss: 0.1932 | Train Acc: 92.67%\n"
          ]
        },
        {
          "output_type": "stream",
          "name": "stderr",
          "text": [
            "\u001b[32m[I 2023-01-16 16:20:20,474]\u001b[0m Trial 25 finished with value: 0.876984127693706 and parameters: {'hidden_dim': 200, 'cell_type': 'GRU', 'num_layers': 4, 'dropout': 0.7, 'clip': 5, 'epochs': 3, 'skip_layers': 0}. Best is trial 24 with value: 0.8877418157127168.\u001b[0m\n"
          ]
        },
        {
          "output_type": "stream",
          "name": "stdout",
          "text": [
            "Validation accuracy:  0.876984127693706\n",
            "Train Loss: 0.4914 | Train Acc: 76.26%\n",
            "Train Loss: 0.2981 | Train Acc: 88.04%\n",
            "Train Loss: 0.1850 | Train Acc: 93.16%\n"
          ]
        },
        {
          "output_type": "stream",
          "name": "stderr",
          "text": [
            "\u001b[32m[I 2023-01-16 16:22:23,328]\u001b[0m Trial 26 finished with value: 0.8811280594931709 and parameters: {'hidden_dim': 200, 'cell_type': 'GRU', 'num_layers': 4, 'dropout': 0.7, 'clip': 5, 'epochs': 3, 'skip_layers': 0}. Best is trial 24 with value: 0.8877418157127168.\u001b[0m\n"
          ]
        },
        {
          "output_type": "stream",
          "name": "stdout",
          "text": [
            "Validation accuracy:  0.8811280594931709\n",
            "Train Loss: 0.4767 | Train Acc: 77.19%\n",
            "Train Loss: 0.2941 | Train Acc: 88.14%\n",
            "Train Loss: 0.1920 | Train Acc: 93.08%\n"
          ]
        },
        {
          "output_type": "stream",
          "name": "stderr",
          "text": [
            "\u001b[32m[I 2023-01-16 16:24:25,386]\u001b[0m Trial 27 finished with value: 0.8709077388048172 and parameters: {'hidden_dim': 200, 'cell_type': 'GRU', 'num_layers': 4, 'dropout': 0.7, 'clip': 5, 'epochs': 3, 'skip_layers': 0}. Best is trial 24 with value: 0.8877418157127168.\u001b[0m\n"
          ]
        },
        {
          "output_type": "stream",
          "name": "stdout",
          "text": [
            "Validation accuracy:  0.8709077388048172\n",
            "Train Loss: 0.5373 | Train Acc: 71.18%\n",
            "Train Loss: 0.3021 | Train Acc: 87.43%\n",
            "Train Loss: 0.1762 | Train Acc: 93.37%\n"
          ]
        },
        {
          "output_type": "stream",
          "name": "stderr",
          "text": [
            "\u001b[32m[I 2023-01-16 16:25:10,195]\u001b[0m Trial 28 finished with value: 0.8776765051815245 and parameters: {'hidden_dim': 16, 'cell_type': 'GRU', 'num_layers': 4, 'dropout': 0.7, 'clip': 5, 'epochs': 3, 'skip_layers': 0}. Best is trial 24 with value: 0.8877418157127168.\u001b[0m\n"
          ]
        },
        {
          "output_type": "stream",
          "name": "stdout",
          "text": [
            "Validation accuracy:  0.8776765051815245\n",
            "Train Loss: 0.5075 | Train Acc: 73.62%\n",
            "Train Loss: 0.2983 | Train Acc: 87.81%\n",
            "Train Loss: 0.1937 | Train Acc: 92.69%\n"
          ]
        },
        {
          "output_type": "stream",
          "name": "stderr",
          "text": [
            "\u001b[32m[I 2023-01-16 16:25:53,785]\u001b[0m Trial 29 finished with value: 0.8842902614010705 and parameters: {'hidden_dim': 32, 'cell_type': 'GRU', 'num_layers': 4, 'dropout': 0.7, 'clip': 5, 'epochs': 3, 'skip_layers': 0}. Best is trial 24 with value: 0.8877418157127168.\u001b[0m\n"
          ]
        },
        {
          "output_type": "stream",
          "name": "stdout",
          "text": [
            "Validation accuracy:  0.8842902614010705\n",
            "Train Loss: 0.5311 | Train Acc: 71.64%\n",
            "Train Loss: 0.2933 | Train Acc: 87.79%\n",
            "Train Loss: 0.1762 | Train Acc: 93.27%\n"
          ]
        },
        {
          "output_type": "stream",
          "name": "stderr",
          "text": [
            "\u001b[32m[I 2023-01-16 16:26:37,154]\u001b[0m Trial 30 finished with value: 0.8845072752899594 and parameters: {'hidden_dim': 16, 'cell_type': 'GRU', 'num_layers': 4, 'dropout': 0.7, 'clip': 5, 'epochs': 3, 'skip_layers': 0}. Best is trial 24 with value: 0.8877418157127168.\u001b[0m\n"
          ]
        },
        {
          "output_type": "stream",
          "name": "stdout",
          "text": [
            "Validation accuracy:  0.8845072752899594\n",
            "Train Loss: 0.5274 | Train Acc: 71.40%\n",
            "Train Loss: 0.3012 | Train Acc: 87.51%\n",
            "Train Loss: 0.1909 | Train Acc: 92.72%\n"
          ]
        },
        {
          "output_type": "stream",
          "name": "stderr",
          "text": [
            "\u001b[32m[I 2023-01-16 16:27:20,169]\u001b[0m Trial 31 finished with value: 0.8812727348672019 and parameters: {'hidden_dim': 16, 'cell_type': 'GRU', 'num_layers': 4, 'dropout': 0.7, 'clip': 5, 'epochs': 3, 'skip_layers': 0}. Best is trial 24 with value: 0.8877418157127168.\u001b[0m\n"
          ]
        },
        {
          "output_type": "stream",
          "name": "stdout",
          "text": [
            "Validation accuracy:  0.8812727348672019\n",
            "Train Loss: 0.5670 | Train Acc: 68.12%\n",
            "Train Loss: 0.3180 | Train Acc: 86.53%\n",
            "Train Loss: 0.1916 | Train Acc: 92.55%\n"
          ]
        },
        {
          "output_type": "stream",
          "name": "stderr",
          "text": [
            "\u001b[32m[I 2023-01-16 16:28:03,270]\u001b[0m Trial 32 finished with value: 0.8840732475121816 and parameters: {'hidden_dim': 16, 'cell_type': 'GRU', 'num_layers': 4, 'dropout': 0.7, 'clip': 5, 'epochs': 3, 'skip_layers': 0}. Best is trial 24 with value: 0.8877418157127168.\u001b[0m\n"
          ]
        },
        {
          "output_type": "stream",
          "name": "stdout",
          "text": [
            "Validation accuracy:  0.8840732475121816\n",
            "Train Loss: 0.5561 | Train Acc: 69.69%\n",
            "Train Loss: 0.3268 | Train Acc: 86.26%\n",
            "Train Loss: 0.2210 | Train Acc: 91.33%\n"
          ]
        },
        {
          "output_type": "stream",
          "name": "stderr",
          "text": [
            "\u001b[32m[I 2023-01-16 16:28:46,453]\u001b[0m Trial 33 finished with value: 0.8752893524037467 and parameters: {'hidden_dim': 16, 'cell_type': 'GRU', 'num_layers': 4, 'dropout': 0.7, 'clip': 5, 'epochs': 3, 'skip_layers': 0}. Best is trial 24 with value: 0.8877418157127168.\u001b[0m\n"
          ]
        },
        {
          "output_type": "stream",
          "name": "stdout",
          "text": [
            "Validation accuracy:  0.8752893524037467\n",
            "Train Loss: 0.5690 | Train Acc: 67.50%\n",
            "Train Loss: 0.3141 | Train Acc: 86.69%\n",
            "Train Loss: 0.1862 | Train Acc: 92.97%\n"
          ]
        },
        {
          "output_type": "stream",
          "name": "stderr",
          "text": [
            "\u001b[32m[I 2023-01-16 16:29:29,529]\u001b[0m Trial 34 finished with value: 0.8772631453143226 and parameters: {'hidden_dim': 16, 'cell_type': 'GRU', 'num_layers': 4, 'dropout': 0.7, 'clip': 5, 'epochs': 3, 'skip_layers': 0}. Best is trial 24 with value: 0.8877418157127168.\u001b[0m\n"
          ]
        },
        {
          "output_type": "stream",
          "name": "stdout",
          "text": [
            "Validation accuracy:  0.8772631453143226\n"
          ]
        }
      ]
    },
    {
      "cell_type": "code",
      "source": [
        "plot_slice(study)"
      ],
      "metadata": {
        "colab": {
          "base_uri": "https://localhost:8080/",
          "height": 562
        },
        "id": "S12sMDqzOcKd",
        "outputId": "daafa07c-1c41-40c7-f930-d0a24da25aff"
      },
      "execution_count": 31,
      "outputs": [
        {
          "output_type": "display_data",
          "data": {
            "text/html": [
              "<html>\n",
              "<head><meta charset=\"utf-8\" /></head>\n",
              "<body>\n",
              "    <div>            <script src=\"https://cdnjs.cloudflare.com/ajax/libs/mathjax/2.7.5/MathJax.js?config=TeX-AMS-MML_SVG\"></script><script type=\"text/javascript\">if (window.MathJax) {MathJax.Hub.Config({SVG: {font: \"STIX-Web\"}});}</script>                <script type=\"text/javascript\">window.PlotlyConfig = {MathJaxConfig: 'local'};</script>\n",
              "        <script src=\"https://cdn.plot.ly/plotly-2.8.3.min.js\"></script>                <div id=\"3b6b3249-97a3-4254-a921-3906621b863e\" class=\"plotly-graph-div\" style=\"height:525px; width:2100px;\"></div>            <script type=\"text/javascript\">                                    window.PLOTLYENV=window.PLOTLYENV || {};                                    if (document.getElementById(\"3b6b3249-97a3-4254-a921-3906621b863e\")) {                    Plotly.newPlot(                        \"3b6b3249-97a3-4254-a921-3906621b863e\",                        [{\"marker\":{\"color\":[0,1,2,3,4,5,6,7,8,9,10,11,12,13,14,15,16,17,18,19,20,21,22,23,24,25,26,27,28,29,30,31,32,33,34],\"colorbar\":{\"title\":{\"text\":\"Trial\"},\"x\":1.0,\"xpad\":40},\"colorscale\":[[0.0,\"rgb(247,251,255)\"],[0.125,\"rgb(222,235,247)\"],[0.25,\"rgb(198,219,239)\"],[0.375,\"rgb(158,202,225)\"],[0.5,\"rgb(107,174,214)\"],[0.625,\"rgb(66,146,198)\"],[0.75,\"rgb(33,113,181)\"],[0.875,\"rgb(8,81,156)\"],[1.0,\"rgb(8,48,107)\"]],\"line\":{\"color\":\"Grey\",\"width\":0.5},\"showscale\":true},\"mode\":\"markers\",\"showlegend\":false,\"x\":[\"LSTM\",\"GRU\",\"LSTM\",\"LSTM\",\"LSTM\",\"GRU\",\"LSTM\",\"GRU\",\"LSTM\",\"LSTM\",\"LSTM\",\"GRU\",\"GRU\",\"GRU\",\"GRU\",\"GRU\",\"GRU\",\"GRU\",\"GRU\",\"GRU\",\"GRU\",\"GRU\",\"GRU\",\"GRU\",\"GRU\",\"GRU\",\"GRU\",\"GRU\",\"GRU\",\"GRU\",\"GRU\",\"GRU\",\"GRU\",\"GRU\",\"GRU\"],\"y\":[0.8725508434904946,0.8740906086232927,0.8734395669566261,0.8605530758698782,0.8523272160026762,0.8686652614010705,0.8762607475121816,0.8714864419566261,0.854910714758767,0.8608527614010705,0.8714451061354743,0.869729662934939,0.8771288030677371,0.8719204697344038,0.8831845240460502,0.8572358638048172,0.885571676823828,0.8500744054714838,0.885768022802141,0.867435516582595,0.8763330860270394,0.8844866073793836,0.8774181554714838,0.8617931554714838,0.8877418157127168,0.876984127693706,0.8811280594931709,0.8709077388048172,0.8776765051815245,0.8842902614010705,0.8845072752899594,0.8812727348672019,0.8840732475121816,0.8752893524037467,0.8772631453143226],\"type\":\"scatter\",\"xaxis\":\"x\",\"yaxis\":\"y\"},{\"marker\":{\"color\":[0,1,2,3,4,5,6,7,8,9,10,11,12,13,14,15,16,17,18,19,20,21,22,23,24,25,26,27,28,29,30,31,32,33,34],\"colorbar\":{\"title\":{\"text\":\"Trial\"},\"x\":1.0,\"xpad\":40},\"colorscale\":[[0.0,\"rgb(247,251,255)\"],[0.125,\"rgb(222,235,247)\"],[0.25,\"rgb(198,219,239)\"],[0.375,\"rgb(158,202,225)\"],[0.5,\"rgb(107,174,214)\"],[0.625,\"rgb(66,146,198)\"],[0.75,\"rgb(33,113,181)\"],[0.875,\"rgb(8,81,156)\"],[1.0,\"rgb(8,48,107)\"]],\"line\":{\"color\":\"Grey\",\"width\":0.5},\"showscale\":false},\"mode\":\"markers\",\"showlegend\":false,\"x\":[5,1,5,1,1,1,1,1,1,5,1,1,1,1,5,5,5,5,5,5,5,5,5,5,5,5,5,5,5,5,5,5,5,5,5],\"y\":[0.8725508434904946,0.8740906086232927,0.8734395669566261,0.8605530758698782,0.8523272160026762,0.8686652614010705,0.8762607475121816,0.8714864419566261,0.854910714758767,0.8608527614010705,0.8714451061354743,0.869729662934939,0.8771288030677371,0.8719204697344038,0.8831845240460502,0.8572358638048172,0.885571676823828,0.8500744054714838,0.885768022802141,0.867435516582595,0.8763330860270394,0.8844866073793836,0.8774181554714838,0.8617931554714838,0.8877418157127168,0.876984127693706,0.8811280594931709,0.8709077388048172,0.8776765051815245,0.8842902614010705,0.8845072752899594,0.8812727348672019,0.8840732475121816,0.8752893524037467,0.8772631453143226],\"type\":\"scatter\",\"xaxis\":\"x2\",\"yaxis\":\"y2\"},{\"marker\":{\"color\":[0,1,2,3,4,5,6,7,8,9,10,11,12,13,14,15,16,17,18,19,20,21,22,23,24,25,26,27,28,29,30,31,32,33,34],\"colorbar\":{\"title\":{\"text\":\"Trial\"},\"x\":1.0,\"xpad\":40},\"colorscale\":[[0.0,\"rgb(247,251,255)\"],[0.125,\"rgb(222,235,247)\"],[0.25,\"rgb(198,219,239)\"],[0.375,\"rgb(158,202,225)\"],[0.5,\"rgb(107,174,214)\"],[0.625,\"rgb(66,146,198)\"],[0.75,\"rgb(33,113,181)\"],[0.875,\"rgb(8,81,156)\"],[1.0,\"rgb(8,48,107)\"]],\"line\":{\"color\":\"Grey\",\"width\":0.5},\"showscale\":false},\"mode\":\"markers\",\"showlegend\":false,\"x\":[0.5,0.3,0.3,0.5,0.3,0.5,0.5,0.5,0.7,0.7,0.5,0.3,0.3,0.3,0.7,0.7,0.7,0.7,0.7,0.7,0.7,0.7,0.7,0.7,0.7,0.7,0.7,0.7,0.7,0.7,0.7,0.7,0.7,0.7,0.7],\"y\":[0.8725508434904946,0.8740906086232927,0.8734395669566261,0.8605530758698782,0.8523272160026762,0.8686652614010705,0.8762607475121816,0.8714864419566261,0.854910714758767,0.8608527614010705,0.8714451061354743,0.869729662934939,0.8771288030677371,0.8719204697344038,0.8831845240460502,0.8572358638048172,0.885571676823828,0.8500744054714838,0.885768022802141,0.867435516582595,0.8763330860270394,0.8844866073793836,0.8774181554714838,0.8617931554714838,0.8877418157127168,0.876984127693706,0.8811280594931709,0.8709077388048172,0.8776765051815245,0.8842902614010705,0.8845072752899594,0.8812727348672019,0.8840732475121816,0.8752893524037467,0.8772631453143226],\"type\":\"scatter\",\"xaxis\":\"x3\",\"yaxis\":\"y3\"},{\"marker\":{\"color\":[0,1,2,3,4,5,6,7,8,9,10,11,12,13,14,15,16,17,18,19,20,21,22,23,24,25,26,27,28,29,30,31,32,33,34],\"colorbar\":{\"title\":{\"text\":\"Trial\"},\"x\":1.0,\"xpad\":40},\"colorscale\":[[0.0,\"rgb(247,251,255)\"],[0.125,\"rgb(222,235,247)\"],[0.25,\"rgb(198,219,239)\"],[0.375,\"rgb(158,202,225)\"],[0.5,\"rgb(107,174,214)\"],[0.625,\"rgb(66,146,198)\"],[0.75,\"rgb(33,113,181)\"],[0.875,\"rgb(8,81,156)\"],[1.0,\"rgb(8,48,107)\"]],\"line\":{\"color\":\"Grey\",\"width\":0.5},\"showscale\":false},\"mode\":\"markers\",\"showlegend\":false,\"x\":[5,5,8,8,8,8,5,5,8,8,3,5,5,5,3,3,3,3,3,3,3,3,3,3,3,3,3,3,3,3,3,3,3,3,3],\"y\":[0.8725508434904946,0.8740906086232927,0.8734395669566261,0.8605530758698782,0.8523272160026762,0.8686652614010705,0.8762607475121816,0.8714864419566261,0.854910714758767,0.8608527614010705,0.8714451061354743,0.869729662934939,0.8771288030677371,0.8719204697344038,0.8831845240460502,0.8572358638048172,0.885571676823828,0.8500744054714838,0.885768022802141,0.867435516582595,0.8763330860270394,0.8844866073793836,0.8774181554714838,0.8617931554714838,0.8877418157127168,0.876984127693706,0.8811280594931709,0.8709077388048172,0.8776765051815245,0.8842902614010705,0.8845072752899594,0.8812727348672019,0.8840732475121816,0.8752893524037467,0.8772631453143226],\"type\":\"scatter\",\"xaxis\":\"x4\",\"yaxis\":\"y4\"},{\"marker\":{\"color\":[0,1,2,3,4,5,6,7,8,9,10,11,12,13,14,15,16,17,18,19,20,21,22,23,24,25,26,27,28,29,30,31,32,33,34],\"colorbar\":{\"title\":{\"text\":\"Trial\"},\"x\":1.0,\"xpad\":40},\"colorscale\":[[0.0,\"rgb(247,251,255)\"],[0.125,\"rgb(222,235,247)\"],[0.25,\"rgb(198,219,239)\"],[0.375,\"rgb(158,202,225)\"],[0.5,\"rgb(107,174,214)\"],[0.625,\"rgb(66,146,198)\"],[0.75,\"rgb(33,113,181)\"],[0.875,\"rgb(8,81,156)\"],[1.0,\"rgb(8,48,107)\"]],\"line\":{\"color\":\"Grey\",\"width\":0.5},\"showscale\":false},\"mode\":\"markers\",\"showlegend\":false,\"x\":[16,200,64,32,32,64,64,32,64,200,16,200,200,64,200,200,200,200,200,200,16,200,200,200,200,200,200,200,16,32,16,16,16,16,16],\"y\":[0.8725508434904946,0.8740906086232927,0.8734395669566261,0.8605530758698782,0.8523272160026762,0.8686652614010705,0.8762607475121816,0.8714864419566261,0.854910714758767,0.8608527614010705,0.8714451061354743,0.869729662934939,0.8771288030677371,0.8719204697344038,0.8831845240460502,0.8572358638048172,0.885571676823828,0.8500744054714838,0.885768022802141,0.867435516582595,0.8763330860270394,0.8844866073793836,0.8774181554714838,0.8617931554714838,0.8877418157127168,0.876984127693706,0.8811280594931709,0.8709077388048172,0.8776765051815245,0.8842902614010705,0.8845072752899594,0.8812727348672019,0.8840732475121816,0.8752893524037467,0.8772631453143226],\"type\":\"scatter\",\"xaxis\":\"x5\",\"yaxis\":\"y5\"},{\"marker\":{\"color\":[0,1,2,3,4,5,6,7,8,9,10,11,12,13,14,15,16,17,18,19,20,21,22,23,24,25,26,27,28,29,30,31,32,33,34],\"colorbar\":{\"title\":{\"text\":\"Trial\"},\"x\":1.0,\"xpad\":40},\"colorscale\":[[0.0,\"rgb(247,251,255)\"],[0.125,\"rgb(222,235,247)\"],[0.25,\"rgb(198,219,239)\"],[0.375,\"rgb(158,202,225)\"],[0.5,\"rgb(107,174,214)\"],[0.625,\"rgb(66,146,198)\"],[0.75,\"rgb(33,113,181)\"],[0.875,\"rgb(8,81,156)\"],[1.0,\"rgb(8,48,107)\"]],\"line\":{\"color\":\"Grey\",\"width\":0.5},\"showscale\":false},\"mode\":\"markers\",\"showlegend\":false,\"x\":[2,2,2,3,3,3,3,3,4,4,3,2,2,2,4,4,4,4,4,4,4,4,4,4,4,4,4,4,4,4,4,4,4,4,4],\"y\":[0.8725508434904946,0.8740906086232927,0.8734395669566261,0.8605530758698782,0.8523272160026762,0.8686652614010705,0.8762607475121816,0.8714864419566261,0.854910714758767,0.8608527614010705,0.8714451061354743,0.869729662934939,0.8771288030677371,0.8719204697344038,0.8831845240460502,0.8572358638048172,0.885571676823828,0.8500744054714838,0.885768022802141,0.867435516582595,0.8763330860270394,0.8844866073793836,0.8774181554714838,0.8617931554714838,0.8877418157127168,0.876984127693706,0.8811280594931709,0.8709077388048172,0.8776765051815245,0.8842902614010705,0.8845072752899594,0.8812727348672019,0.8840732475121816,0.8752893524037467,0.8772631453143226],\"type\":\"scatter\",\"xaxis\":\"x6\",\"yaxis\":\"y6\"},{\"marker\":{\"color\":[0,1,2,3,4,5,6,7,8,9,10,11,12,13,14,15,16,17,18,19,20,21,22,23,24,25,26,27,28,29,30,31,32,33,34],\"colorbar\":{\"title\":{\"text\":\"Trial\"},\"x\":1.0,\"xpad\":40},\"colorscale\":[[0.0,\"rgb(247,251,255)\"],[0.125,\"rgb(222,235,247)\"],[0.25,\"rgb(198,219,239)\"],[0.375,\"rgb(158,202,225)\"],[0.5,\"rgb(107,174,214)\"],[0.625,\"rgb(66,146,198)\"],[0.75,\"rgb(33,113,181)\"],[0.875,\"rgb(8,81,156)\"],[1.0,\"rgb(8,48,107)\"]],\"line\":{\"color\":\"Grey\",\"width\":0.5},\"showscale\":false},\"mode\":\"markers\",\"showlegend\":false,\"x\":[2,1,2,1,1,0,2,0,1,2,2,1,1,2,0,0,0,0,0,0,0,0,0,0,0,0,0,0,0,0,0,0,0,0,0],\"y\":[0.8725508434904946,0.8740906086232927,0.8734395669566261,0.8605530758698782,0.8523272160026762,0.8686652614010705,0.8762607475121816,0.8714864419566261,0.854910714758767,0.8608527614010705,0.8714451061354743,0.869729662934939,0.8771288030677371,0.8719204697344038,0.8831845240460502,0.8572358638048172,0.885571676823828,0.8500744054714838,0.885768022802141,0.867435516582595,0.8763330860270394,0.8844866073793836,0.8774181554714838,0.8617931554714838,0.8877418157127168,0.876984127693706,0.8811280594931709,0.8709077388048172,0.8776765051815245,0.8842902614010705,0.8845072752899594,0.8812727348672019,0.8840732475121816,0.8752893524037467,0.8772631453143226],\"type\":\"scatter\",\"xaxis\":\"x7\",\"yaxis\":\"y7\"}],                        {\"template\":{\"data\":{\"bar\":[{\"error_x\":{\"color\":\"#2a3f5f\"},\"error_y\":{\"color\":\"#2a3f5f\"},\"marker\":{\"line\":{\"color\":\"#E5ECF6\",\"width\":0.5},\"pattern\":{\"fillmode\":\"overlay\",\"size\":10,\"solidity\":0.2}},\"type\":\"bar\"}],\"barpolar\":[{\"marker\":{\"line\":{\"color\":\"#E5ECF6\",\"width\":0.5},\"pattern\":{\"fillmode\":\"overlay\",\"size\":10,\"solidity\":0.2}},\"type\":\"barpolar\"}],\"carpet\":[{\"aaxis\":{\"endlinecolor\":\"#2a3f5f\",\"gridcolor\":\"white\",\"linecolor\":\"white\",\"minorgridcolor\":\"white\",\"startlinecolor\":\"#2a3f5f\"},\"baxis\":{\"endlinecolor\":\"#2a3f5f\",\"gridcolor\":\"white\",\"linecolor\":\"white\",\"minorgridcolor\":\"white\",\"startlinecolor\":\"#2a3f5f\"},\"type\":\"carpet\"}],\"choropleth\":[{\"colorbar\":{\"outlinewidth\":0,\"ticks\":\"\"},\"type\":\"choropleth\"}],\"contour\":[{\"colorbar\":{\"outlinewidth\":0,\"ticks\":\"\"},\"colorscale\":[[0.0,\"#0d0887\"],[0.1111111111111111,\"#46039f\"],[0.2222222222222222,\"#7201a8\"],[0.3333333333333333,\"#9c179e\"],[0.4444444444444444,\"#bd3786\"],[0.5555555555555556,\"#d8576b\"],[0.6666666666666666,\"#ed7953\"],[0.7777777777777778,\"#fb9f3a\"],[0.8888888888888888,\"#fdca26\"],[1.0,\"#f0f921\"]],\"type\":\"contour\"}],\"contourcarpet\":[{\"colorbar\":{\"outlinewidth\":0,\"ticks\":\"\"},\"type\":\"contourcarpet\"}],\"heatmap\":[{\"colorbar\":{\"outlinewidth\":0,\"ticks\":\"\"},\"colorscale\":[[0.0,\"#0d0887\"],[0.1111111111111111,\"#46039f\"],[0.2222222222222222,\"#7201a8\"],[0.3333333333333333,\"#9c179e\"],[0.4444444444444444,\"#bd3786\"],[0.5555555555555556,\"#d8576b\"],[0.6666666666666666,\"#ed7953\"],[0.7777777777777778,\"#fb9f3a\"],[0.8888888888888888,\"#fdca26\"],[1.0,\"#f0f921\"]],\"type\":\"heatmap\"}],\"heatmapgl\":[{\"colorbar\":{\"outlinewidth\":0,\"ticks\":\"\"},\"colorscale\":[[0.0,\"#0d0887\"],[0.1111111111111111,\"#46039f\"],[0.2222222222222222,\"#7201a8\"],[0.3333333333333333,\"#9c179e\"],[0.4444444444444444,\"#bd3786\"],[0.5555555555555556,\"#d8576b\"],[0.6666666666666666,\"#ed7953\"],[0.7777777777777778,\"#fb9f3a\"],[0.8888888888888888,\"#fdca26\"],[1.0,\"#f0f921\"]],\"type\":\"heatmapgl\"}],\"histogram\":[{\"marker\":{\"pattern\":{\"fillmode\":\"overlay\",\"size\":10,\"solidity\":0.2}},\"type\":\"histogram\"}],\"histogram2d\":[{\"colorbar\":{\"outlinewidth\":0,\"ticks\":\"\"},\"colorscale\":[[0.0,\"#0d0887\"],[0.1111111111111111,\"#46039f\"],[0.2222222222222222,\"#7201a8\"],[0.3333333333333333,\"#9c179e\"],[0.4444444444444444,\"#bd3786\"],[0.5555555555555556,\"#d8576b\"],[0.6666666666666666,\"#ed7953\"],[0.7777777777777778,\"#fb9f3a\"],[0.8888888888888888,\"#fdca26\"],[1.0,\"#f0f921\"]],\"type\":\"histogram2d\"}],\"histogram2dcontour\":[{\"colorbar\":{\"outlinewidth\":0,\"ticks\":\"\"},\"colorscale\":[[0.0,\"#0d0887\"],[0.1111111111111111,\"#46039f\"],[0.2222222222222222,\"#7201a8\"],[0.3333333333333333,\"#9c179e\"],[0.4444444444444444,\"#bd3786\"],[0.5555555555555556,\"#d8576b\"],[0.6666666666666666,\"#ed7953\"],[0.7777777777777778,\"#fb9f3a\"],[0.8888888888888888,\"#fdca26\"],[1.0,\"#f0f921\"]],\"type\":\"histogram2dcontour\"}],\"mesh3d\":[{\"colorbar\":{\"outlinewidth\":0,\"ticks\":\"\"},\"type\":\"mesh3d\"}],\"parcoords\":[{\"line\":{\"colorbar\":{\"outlinewidth\":0,\"ticks\":\"\"}},\"type\":\"parcoords\"}],\"pie\":[{\"automargin\":true,\"type\":\"pie\"}],\"scatter\":[{\"marker\":{\"colorbar\":{\"outlinewidth\":0,\"ticks\":\"\"}},\"type\":\"scatter\"}],\"scatter3d\":[{\"line\":{\"colorbar\":{\"outlinewidth\":0,\"ticks\":\"\"}},\"marker\":{\"colorbar\":{\"outlinewidth\":0,\"ticks\":\"\"}},\"type\":\"scatter3d\"}],\"scattercarpet\":[{\"marker\":{\"colorbar\":{\"outlinewidth\":0,\"ticks\":\"\"}},\"type\":\"scattercarpet\"}],\"scattergeo\":[{\"marker\":{\"colorbar\":{\"outlinewidth\":0,\"ticks\":\"\"}},\"type\":\"scattergeo\"}],\"scattergl\":[{\"marker\":{\"colorbar\":{\"outlinewidth\":0,\"ticks\":\"\"}},\"type\":\"scattergl\"}],\"scattermapbox\":[{\"marker\":{\"colorbar\":{\"outlinewidth\":0,\"ticks\":\"\"}},\"type\":\"scattermapbox\"}],\"scatterpolar\":[{\"marker\":{\"colorbar\":{\"outlinewidth\":0,\"ticks\":\"\"}},\"type\":\"scatterpolar\"}],\"scatterpolargl\":[{\"marker\":{\"colorbar\":{\"outlinewidth\":0,\"ticks\":\"\"}},\"type\":\"scatterpolargl\"}],\"scatterternary\":[{\"marker\":{\"colorbar\":{\"outlinewidth\":0,\"ticks\":\"\"}},\"type\":\"scatterternary\"}],\"surface\":[{\"colorbar\":{\"outlinewidth\":0,\"ticks\":\"\"},\"colorscale\":[[0.0,\"#0d0887\"],[0.1111111111111111,\"#46039f\"],[0.2222222222222222,\"#7201a8\"],[0.3333333333333333,\"#9c179e\"],[0.4444444444444444,\"#bd3786\"],[0.5555555555555556,\"#d8576b\"],[0.6666666666666666,\"#ed7953\"],[0.7777777777777778,\"#fb9f3a\"],[0.8888888888888888,\"#fdca26\"],[1.0,\"#f0f921\"]],\"type\":\"surface\"}],\"table\":[{\"cells\":{\"fill\":{\"color\":\"#EBF0F8\"},\"line\":{\"color\":\"white\"}},\"header\":{\"fill\":{\"color\":\"#C8D4E3\"},\"line\":{\"color\":\"white\"}},\"type\":\"table\"}]},\"layout\":{\"annotationdefaults\":{\"arrowcolor\":\"#2a3f5f\",\"arrowhead\":0,\"arrowwidth\":1},\"autotypenumbers\":\"strict\",\"coloraxis\":{\"colorbar\":{\"outlinewidth\":0,\"ticks\":\"\"}},\"colorscale\":{\"diverging\":[[0,\"#8e0152\"],[0.1,\"#c51b7d\"],[0.2,\"#de77ae\"],[0.3,\"#f1b6da\"],[0.4,\"#fde0ef\"],[0.5,\"#f7f7f7\"],[0.6,\"#e6f5d0\"],[0.7,\"#b8e186\"],[0.8,\"#7fbc41\"],[0.9,\"#4d9221\"],[1,\"#276419\"]],\"sequential\":[[0.0,\"#0d0887\"],[0.1111111111111111,\"#46039f\"],[0.2222222222222222,\"#7201a8\"],[0.3333333333333333,\"#9c179e\"],[0.4444444444444444,\"#bd3786\"],[0.5555555555555556,\"#d8576b\"],[0.6666666666666666,\"#ed7953\"],[0.7777777777777778,\"#fb9f3a\"],[0.8888888888888888,\"#fdca26\"],[1.0,\"#f0f921\"]],\"sequentialminus\":[[0.0,\"#0d0887\"],[0.1111111111111111,\"#46039f\"],[0.2222222222222222,\"#7201a8\"],[0.3333333333333333,\"#9c179e\"],[0.4444444444444444,\"#bd3786\"],[0.5555555555555556,\"#d8576b\"],[0.6666666666666666,\"#ed7953\"],[0.7777777777777778,\"#fb9f3a\"],[0.8888888888888888,\"#fdca26\"],[1.0,\"#f0f921\"]]},\"colorway\":[\"#636efa\",\"#EF553B\",\"#00cc96\",\"#ab63fa\",\"#FFA15A\",\"#19d3f3\",\"#FF6692\",\"#B6E880\",\"#FF97FF\",\"#FECB52\"],\"font\":{\"color\":\"#2a3f5f\"},\"geo\":{\"bgcolor\":\"white\",\"lakecolor\":\"white\",\"landcolor\":\"#E5ECF6\",\"showlakes\":true,\"showland\":true,\"subunitcolor\":\"white\"},\"hoverlabel\":{\"align\":\"left\"},\"hovermode\":\"closest\",\"mapbox\":{\"style\":\"light\"},\"paper_bgcolor\":\"white\",\"plot_bgcolor\":\"#E5ECF6\",\"polar\":{\"angularaxis\":{\"gridcolor\":\"white\",\"linecolor\":\"white\",\"ticks\":\"\"},\"bgcolor\":\"#E5ECF6\",\"radialaxis\":{\"gridcolor\":\"white\",\"linecolor\":\"white\",\"ticks\":\"\"}},\"scene\":{\"xaxis\":{\"backgroundcolor\":\"#E5ECF6\",\"gridcolor\":\"white\",\"gridwidth\":2,\"linecolor\":\"white\",\"showbackground\":true,\"ticks\":\"\",\"zerolinecolor\":\"white\"},\"yaxis\":{\"backgroundcolor\":\"#E5ECF6\",\"gridcolor\":\"white\",\"gridwidth\":2,\"linecolor\":\"white\",\"showbackground\":true,\"ticks\":\"\",\"zerolinecolor\":\"white\"},\"zaxis\":{\"backgroundcolor\":\"#E5ECF6\",\"gridcolor\":\"white\",\"gridwidth\":2,\"linecolor\":\"white\",\"showbackground\":true,\"ticks\":\"\",\"zerolinecolor\":\"white\"}},\"shapedefaults\":{\"line\":{\"color\":\"#2a3f5f\"}},\"ternary\":{\"aaxis\":{\"gridcolor\":\"white\",\"linecolor\":\"white\",\"ticks\":\"\"},\"baxis\":{\"gridcolor\":\"white\",\"linecolor\":\"white\",\"ticks\":\"\"},\"bgcolor\":\"#E5ECF6\",\"caxis\":{\"gridcolor\":\"white\",\"linecolor\":\"white\",\"ticks\":\"\"}},\"title\":{\"x\":0.05},\"xaxis\":{\"automargin\":true,\"gridcolor\":\"white\",\"linecolor\":\"white\",\"ticks\":\"\",\"title\":{\"standoff\":15},\"zerolinecolor\":\"white\",\"zerolinewidth\":2},\"yaxis\":{\"automargin\":true,\"gridcolor\":\"white\",\"linecolor\":\"white\",\"ticks\":\"\",\"title\":{\"standoff\":15},\"zerolinecolor\":\"white\",\"zerolinewidth\":2}}},\"xaxis\":{\"anchor\":\"y\",\"domain\":[0.0,0.1183673469387755],\"title\":{\"text\":\"cell_type\"}},\"yaxis\":{\"anchor\":\"x\",\"domain\":[0.0,1.0],\"title\":{\"text\":\"Objective Value\"}},\"xaxis2\":{\"anchor\":\"y2\",\"domain\":[0.14693877551020407,0.26530612244897955],\"title\":{\"text\":\"clip\"}},\"yaxis2\":{\"anchor\":\"x2\",\"domain\":[0.0,1.0],\"matches\":\"y\",\"showticklabels\":false},\"xaxis3\":{\"anchor\":\"y3\",\"domain\":[0.29387755102040813,0.4122448979591836],\"title\":{\"text\":\"dropout\"}},\"yaxis3\":{\"anchor\":\"x3\",\"domain\":[0.0,1.0],\"matches\":\"y\",\"showticklabels\":false},\"xaxis4\":{\"anchor\":\"y4\",\"domain\":[0.4408163265306122,0.5591836734693877],\"title\":{\"text\":\"epochs\"}},\"yaxis4\":{\"anchor\":\"x4\",\"domain\":[0.0,1.0],\"matches\":\"y\",\"showticklabels\":false},\"xaxis5\":{\"anchor\":\"y5\",\"domain\":[0.5877551020408163,0.7061224489795918],\"title\":{\"text\":\"hidden_dim\"}},\"yaxis5\":{\"anchor\":\"x5\",\"domain\":[0.0,1.0],\"matches\":\"y\",\"showticklabels\":false},\"xaxis6\":{\"anchor\":\"y6\",\"domain\":[0.7346938775510204,0.8530612244897959],\"title\":{\"text\":\"num_layers\"}},\"yaxis6\":{\"anchor\":\"x6\",\"domain\":[0.0,1.0],\"matches\":\"y\",\"showticklabels\":false},\"xaxis7\":{\"anchor\":\"y7\",\"domain\":[0.8816326530612244,0.9999999999999999],\"title\":{\"text\":\"skip_layers\"}},\"yaxis7\":{\"anchor\":\"x7\",\"domain\":[0.0,1.0],\"matches\":\"y\",\"showticklabels\":false},\"title\":{\"text\":\"Slice Plot\"},\"width\":2100},                        {\"responsive\": true}                    ).then(function(){\n",
              "                            \n",
              "var gd = document.getElementById('3b6b3249-97a3-4254-a921-3906621b863e');\n",
              "var x = new MutationObserver(function (mutations, observer) {{\n",
              "        var display = window.getComputedStyle(gd).display;\n",
              "        if (!display || display === 'none') {{\n",
              "            console.log([gd, 'removed!']);\n",
              "            Plotly.purge(gd);\n",
              "            observer.disconnect();\n",
              "        }}\n",
              "}});\n",
              "\n",
              "// Listen for the removal of the full notebook cells\n",
              "var notebookContainer = gd.closest('#notebook-container');\n",
              "if (notebookContainer) {{\n",
              "    x.observe(notebookContainer, {childList: true});\n",
              "}}\n",
              "\n",
              "// Listen for the clearing of the current output cell\n",
              "var outputEl = gd.closest('.output');\n",
              "if (outputEl) {{\n",
              "    x.observe(outputEl, {childList: true});\n",
              "}}\n",
              "\n",
              "                        })                };                            </script>        </div>\n",
              "</body>\n",
              "</html>"
            ]
          },
          "metadata": {}
        }
      ]
    },
    {
      "cell_type": "code",
      "source": [
        "plot_edf(study)\n"
      ],
      "metadata": {
        "colab": {
          "base_uri": "https://localhost:8080/",
          "height": 542
        },
        "id": "1SjnAl8LOStm",
        "outputId": "3632e6df-d20c-4129-deef-ac6b62d98826"
      },
      "execution_count": 32,
      "outputs": [
        {
          "output_type": "display_data",
          "data": {
            "text/html": [
              "<html>\n",
              "<head><meta charset=\"utf-8\" /></head>\n",
              "<body>\n",
              "    <div>            <script src=\"https://cdnjs.cloudflare.com/ajax/libs/mathjax/2.7.5/MathJax.js?config=TeX-AMS-MML_SVG\"></script><script type=\"text/javascript\">if (window.MathJax) {MathJax.Hub.Config({SVG: {font: \"STIX-Web\"}});}</script>                <script type=\"text/javascript\">window.PlotlyConfig = {MathJaxConfig: 'local'};</script>\n",
              "        <script src=\"https://cdn.plot.ly/plotly-2.8.3.min.js\"></script>                <div id=\"cae2f596-fa35-4d3d-847e-0ed72bc921f7\" class=\"plotly-graph-div\" style=\"height:525px; width:100%;\"></div>            <script type=\"text/javascript\">                                    window.PLOTLYENV=window.PLOTLYENV || {};                                    if (document.getElementById(\"cae2f596-fa35-4d3d-847e-0ed72bc921f7\")) {                    Plotly.newPlot(                        \"cae2f596-fa35-4d3d-847e-0ed72bc921f7\",                        [{\"mode\":\"lines\",\"name\":\"no-name-fc380f97-7d87-4880-a1e7-cc5fa5631dbc\",\"x\":[0.8500744054714838,0.8504548843628094,0.850835363254135,0.8512158421454605,0.8515963210367862,0.8519767999281117,0.8523572788194373,0.8527377577107629,0.8531182366020885,0.853498715493414,0.8538791943847397,0.8542596732760652,0.8546401521673909,0.8550206310587164,0.855401109950042,0.8557815888413676,0.8561620677326932,0.8565425466240187,0.8569230255153444,0.8573035044066699,0.8576839832979956,0.8580644621893211,0.8584449410806467,0.8588254199719723,0.8592058988632979,0.8595863777546234,0.8599668566459491,0.8603473355372746,0.8607278144286002,0.8611082933199258,0.8614887722112514,0.861869251102577,0.8622497299939026,0.8626302088852281,0.8630106877765538,0.8633911666678793,0.8637716455592049,0.8641521244505305,0.8645326033418561,0.8649130822331816,0.8652935611245073,0.8656740400158328,0.8660545189071585,0.866434997798484,0.8668154766898096,0.8671959555811352,0.8675764344724608,0.8679569133637863,0.868337392255112,0.8687178711464375,0.8690983500377631,0.8694788289290887,0.8698593078204143,0.8702397867117398,0.8706202656030655,0.871000744494391,0.8713812233857167,0.8717617022770422,0.8721421811683678,0.8725226600596934,0.872903138951019,0.8732836178423445,0.8736640967336702,0.8740445756249957,0.8744250545163214,0.8748055334076469,0.8751860122989725,0.8755664911902981,0.8759469700816237,0.8763274489729492,0.8767079278642749,0.8770884067556004,0.877468885646926,0.8778493645382516,0.8782298434295772,0.8786103223209027,0.8789908012122284,0.8793712801035539,0.8797517589948796,0.8801322378862051,0.8805127167775307,0.8808931956688563,0.8812736745601819,0.8816541534515074,0.8820346323428331,0.8824151112341586,0.8827955901254843,0.8831760690168098,0.8835565479081354,0.883937026799461,0.8843175056907866,0.8846979845821121,0.8850784634734378,0.8854589423647633,0.8858394212560889,0.8862199001474145,0.88660037903874,0.8869808579300656,0.8873613368213913,0.8877418157127168],\"y\":[0.02857142857142857,0.02857142857142857,0.02857142857142857,0.02857142857142857,0.02857142857142857,0.02857142857142857,0.05714285714285714,0.05714285714285714,0.05714285714285714,0.05714285714285714,0.05714285714285714,0.05714285714285714,0.05714285714285714,0.08571428571428572,0.08571428571428572,0.08571428571428572,0.08571428571428572,0.08571428571428572,0.08571428571428572,0.11428571428571428,0.11428571428571428,0.11428571428571428,0.11428571428571428,0.11428571428571428,0.11428571428571428,0.11428571428571428,0.11428571428571428,0.11428571428571428,0.14285714285714285,0.17142857142857143,0.17142857142857143,0.2,0.2,0.2,0.2,0.2,0.2,0.2,0.2,0.2,0.2,0.2,0.2,0.2,0.2,0.2,0.22857142857142856,0.22857142857142856,0.22857142857142856,0.2571428571428571,0.2571428571428571,0.2571428571428571,0.2857142857142857,0.2857142857142857,0.2857142857142857,0.3142857142857143,0.3142857142857143,0.37142857142857144,0.4,0.4,0.42857142857142855,0.42857142857142855,0.45714285714285713,0.45714285714285713,0.4857142857142857,0.4857142857142857,0.4857142857142857,0.5142857142857142,0.5142857142857142,0.5428571428571428,0.5714285714285714,0.6,0.6857142857142857,0.7142857142857143,0.7142857142857143,0.7142857142857143,0.7142857142857143,0.7142857142857143,0.7142857142857143,0.7142857142857143,0.7142857142857143,0.7142857142857143,0.7714285714285715,0.7714285714285715,0.7714285714285715,0.7714285714285715,0.7714285714285715,0.7714285714285715,0.8,0.8,0.8571428571428571,0.9142857142857143,0.9142857142857143,0.9142857142857143,0.9714285714285714,0.9714285714285714,0.9714285714285714,0.9714285714285714,0.9714285714285714,1.0],\"type\":\"scatter\"}],                        {\"title\":{\"text\":\"Empirical Distribution Function Plot\"},\"xaxis\":{\"title\":{\"text\":\"Objective Value\"}},\"yaxis\":{\"title\":{\"text\":\"Cumulative Probability\"},\"range\":[0,1]},\"template\":{\"data\":{\"bar\":[{\"error_x\":{\"color\":\"#2a3f5f\"},\"error_y\":{\"color\":\"#2a3f5f\"},\"marker\":{\"line\":{\"color\":\"#E5ECF6\",\"width\":0.5},\"pattern\":{\"fillmode\":\"overlay\",\"size\":10,\"solidity\":0.2}},\"type\":\"bar\"}],\"barpolar\":[{\"marker\":{\"line\":{\"color\":\"#E5ECF6\",\"width\":0.5},\"pattern\":{\"fillmode\":\"overlay\",\"size\":10,\"solidity\":0.2}},\"type\":\"barpolar\"}],\"carpet\":[{\"aaxis\":{\"endlinecolor\":\"#2a3f5f\",\"gridcolor\":\"white\",\"linecolor\":\"white\",\"minorgridcolor\":\"white\",\"startlinecolor\":\"#2a3f5f\"},\"baxis\":{\"endlinecolor\":\"#2a3f5f\",\"gridcolor\":\"white\",\"linecolor\":\"white\",\"minorgridcolor\":\"white\",\"startlinecolor\":\"#2a3f5f\"},\"type\":\"carpet\"}],\"choropleth\":[{\"colorbar\":{\"outlinewidth\":0,\"ticks\":\"\"},\"type\":\"choropleth\"}],\"contour\":[{\"colorbar\":{\"outlinewidth\":0,\"ticks\":\"\"},\"colorscale\":[[0.0,\"#0d0887\"],[0.1111111111111111,\"#46039f\"],[0.2222222222222222,\"#7201a8\"],[0.3333333333333333,\"#9c179e\"],[0.4444444444444444,\"#bd3786\"],[0.5555555555555556,\"#d8576b\"],[0.6666666666666666,\"#ed7953\"],[0.7777777777777778,\"#fb9f3a\"],[0.8888888888888888,\"#fdca26\"],[1.0,\"#f0f921\"]],\"type\":\"contour\"}],\"contourcarpet\":[{\"colorbar\":{\"outlinewidth\":0,\"ticks\":\"\"},\"type\":\"contourcarpet\"}],\"heatmap\":[{\"colorbar\":{\"outlinewidth\":0,\"ticks\":\"\"},\"colorscale\":[[0.0,\"#0d0887\"],[0.1111111111111111,\"#46039f\"],[0.2222222222222222,\"#7201a8\"],[0.3333333333333333,\"#9c179e\"],[0.4444444444444444,\"#bd3786\"],[0.5555555555555556,\"#d8576b\"],[0.6666666666666666,\"#ed7953\"],[0.7777777777777778,\"#fb9f3a\"],[0.8888888888888888,\"#fdca26\"],[1.0,\"#f0f921\"]],\"type\":\"heatmap\"}],\"heatmapgl\":[{\"colorbar\":{\"outlinewidth\":0,\"ticks\":\"\"},\"colorscale\":[[0.0,\"#0d0887\"],[0.1111111111111111,\"#46039f\"],[0.2222222222222222,\"#7201a8\"],[0.3333333333333333,\"#9c179e\"],[0.4444444444444444,\"#bd3786\"],[0.5555555555555556,\"#d8576b\"],[0.6666666666666666,\"#ed7953\"],[0.7777777777777778,\"#fb9f3a\"],[0.8888888888888888,\"#fdca26\"],[1.0,\"#f0f921\"]],\"type\":\"heatmapgl\"}],\"histogram\":[{\"marker\":{\"pattern\":{\"fillmode\":\"overlay\",\"size\":10,\"solidity\":0.2}},\"type\":\"histogram\"}],\"histogram2d\":[{\"colorbar\":{\"outlinewidth\":0,\"ticks\":\"\"},\"colorscale\":[[0.0,\"#0d0887\"],[0.1111111111111111,\"#46039f\"],[0.2222222222222222,\"#7201a8\"],[0.3333333333333333,\"#9c179e\"],[0.4444444444444444,\"#bd3786\"],[0.5555555555555556,\"#d8576b\"],[0.6666666666666666,\"#ed7953\"],[0.7777777777777778,\"#fb9f3a\"],[0.8888888888888888,\"#fdca26\"],[1.0,\"#f0f921\"]],\"type\":\"histogram2d\"}],\"histogram2dcontour\":[{\"colorbar\":{\"outlinewidth\":0,\"ticks\":\"\"},\"colorscale\":[[0.0,\"#0d0887\"],[0.1111111111111111,\"#46039f\"],[0.2222222222222222,\"#7201a8\"],[0.3333333333333333,\"#9c179e\"],[0.4444444444444444,\"#bd3786\"],[0.5555555555555556,\"#d8576b\"],[0.6666666666666666,\"#ed7953\"],[0.7777777777777778,\"#fb9f3a\"],[0.8888888888888888,\"#fdca26\"],[1.0,\"#f0f921\"]],\"type\":\"histogram2dcontour\"}],\"mesh3d\":[{\"colorbar\":{\"outlinewidth\":0,\"ticks\":\"\"},\"type\":\"mesh3d\"}],\"parcoords\":[{\"line\":{\"colorbar\":{\"outlinewidth\":0,\"ticks\":\"\"}},\"type\":\"parcoords\"}],\"pie\":[{\"automargin\":true,\"type\":\"pie\"}],\"scatter\":[{\"marker\":{\"colorbar\":{\"outlinewidth\":0,\"ticks\":\"\"}},\"type\":\"scatter\"}],\"scatter3d\":[{\"line\":{\"colorbar\":{\"outlinewidth\":0,\"ticks\":\"\"}},\"marker\":{\"colorbar\":{\"outlinewidth\":0,\"ticks\":\"\"}},\"type\":\"scatter3d\"}],\"scattercarpet\":[{\"marker\":{\"colorbar\":{\"outlinewidth\":0,\"ticks\":\"\"}},\"type\":\"scattercarpet\"}],\"scattergeo\":[{\"marker\":{\"colorbar\":{\"outlinewidth\":0,\"ticks\":\"\"}},\"type\":\"scattergeo\"}],\"scattergl\":[{\"marker\":{\"colorbar\":{\"outlinewidth\":0,\"ticks\":\"\"}},\"type\":\"scattergl\"}],\"scattermapbox\":[{\"marker\":{\"colorbar\":{\"outlinewidth\":0,\"ticks\":\"\"}},\"type\":\"scattermapbox\"}],\"scatterpolar\":[{\"marker\":{\"colorbar\":{\"outlinewidth\":0,\"ticks\":\"\"}},\"type\":\"scatterpolar\"}],\"scatterpolargl\":[{\"marker\":{\"colorbar\":{\"outlinewidth\":0,\"ticks\":\"\"}},\"type\":\"scatterpolargl\"}],\"scatterternary\":[{\"marker\":{\"colorbar\":{\"outlinewidth\":0,\"ticks\":\"\"}},\"type\":\"scatterternary\"}],\"surface\":[{\"colorbar\":{\"outlinewidth\":0,\"ticks\":\"\"},\"colorscale\":[[0.0,\"#0d0887\"],[0.1111111111111111,\"#46039f\"],[0.2222222222222222,\"#7201a8\"],[0.3333333333333333,\"#9c179e\"],[0.4444444444444444,\"#bd3786\"],[0.5555555555555556,\"#d8576b\"],[0.6666666666666666,\"#ed7953\"],[0.7777777777777778,\"#fb9f3a\"],[0.8888888888888888,\"#fdca26\"],[1.0,\"#f0f921\"]],\"type\":\"surface\"}],\"table\":[{\"cells\":{\"fill\":{\"color\":\"#EBF0F8\"},\"line\":{\"color\":\"white\"}},\"header\":{\"fill\":{\"color\":\"#C8D4E3\"},\"line\":{\"color\":\"white\"}},\"type\":\"table\"}]},\"layout\":{\"annotationdefaults\":{\"arrowcolor\":\"#2a3f5f\",\"arrowhead\":0,\"arrowwidth\":1},\"autotypenumbers\":\"strict\",\"coloraxis\":{\"colorbar\":{\"outlinewidth\":0,\"ticks\":\"\"}},\"colorscale\":{\"diverging\":[[0,\"#8e0152\"],[0.1,\"#c51b7d\"],[0.2,\"#de77ae\"],[0.3,\"#f1b6da\"],[0.4,\"#fde0ef\"],[0.5,\"#f7f7f7\"],[0.6,\"#e6f5d0\"],[0.7,\"#b8e186\"],[0.8,\"#7fbc41\"],[0.9,\"#4d9221\"],[1,\"#276419\"]],\"sequential\":[[0.0,\"#0d0887\"],[0.1111111111111111,\"#46039f\"],[0.2222222222222222,\"#7201a8\"],[0.3333333333333333,\"#9c179e\"],[0.4444444444444444,\"#bd3786\"],[0.5555555555555556,\"#d8576b\"],[0.6666666666666666,\"#ed7953\"],[0.7777777777777778,\"#fb9f3a\"],[0.8888888888888888,\"#fdca26\"],[1.0,\"#f0f921\"]],\"sequentialminus\":[[0.0,\"#0d0887\"],[0.1111111111111111,\"#46039f\"],[0.2222222222222222,\"#7201a8\"],[0.3333333333333333,\"#9c179e\"],[0.4444444444444444,\"#bd3786\"],[0.5555555555555556,\"#d8576b\"],[0.6666666666666666,\"#ed7953\"],[0.7777777777777778,\"#fb9f3a\"],[0.8888888888888888,\"#fdca26\"],[1.0,\"#f0f921\"]]},\"colorway\":[\"#636efa\",\"#EF553B\",\"#00cc96\",\"#ab63fa\",\"#FFA15A\",\"#19d3f3\",\"#FF6692\",\"#B6E880\",\"#FF97FF\",\"#FECB52\"],\"font\":{\"color\":\"#2a3f5f\"},\"geo\":{\"bgcolor\":\"white\",\"lakecolor\":\"white\",\"landcolor\":\"#E5ECF6\",\"showlakes\":true,\"showland\":true,\"subunitcolor\":\"white\"},\"hoverlabel\":{\"align\":\"left\"},\"hovermode\":\"closest\",\"mapbox\":{\"style\":\"light\"},\"paper_bgcolor\":\"white\",\"plot_bgcolor\":\"#E5ECF6\",\"polar\":{\"angularaxis\":{\"gridcolor\":\"white\",\"linecolor\":\"white\",\"ticks\":\"\"},\"bgcolor\":\"#E5ECF6\",\"radialaxis\":{\"gridcolor\":\"white\",\"linecolor\":\"white\",\"ticks\":\"\"}},\"scene\":{\"xaxis\":{\"backgroundcolor\":\"#E5ECF6\",\"gridcolor\":\"white\",\"gridwidth\":2,\"linecolor\":\"white\",\"showbackground\":true,\"ticks\":\"\",\"zerolinecolor\":\"white\"},\"yaxis\":{\"backgroundcolor\":\"#E5ECF6\",\"gridcolor\":\"white\",\"gridwidth\":2,\"linecolor\":\"white\",\"showbackground\":true,\"ticks\":\"\",\"zerolinecolor\":\"white\"},\"zaxis\":{\"backgroundcolor\":\"#E5ECF6\",\"gridcolor\":\"white\",\"gridwidth\":2,\"linecolor\":\"white\",\"showbackground\":true,\"ticks\":\"\",\"zerolinecolor\":\"white\"}},\"shapedefaults\":{\"line\":{\"color\":\"#2a3f5f\"}},\"ternary\":{\"aaxis\":{\"gridcolor\":\"white\",\"linecolor\":\"white\",\"ticks\":\"\"},\"baxis\":{\"gridcolor\":\"white\",\"linecolor\":\"white\",\"ticks\":\"\"},\"bgcolor\":\"#E5ECF6\",\"caxis\":{\"gridcolor\":\"white\",\"linecolor\":\"white\",\"ticks\":\"\"}},\"title\":{\"x\":0.05},\"xaxis\":{\"automargin\":true,\"gridcolor\":\"white\",\"linecolor\":\"white\",\"ticks\":\"\",\"title\":{\"standoff\":15},\"zerolinecolor\":\"white\",\"zerolinewidth\":2},\"yaxis\":{\"automargin\":true,\"gridcolor\":\"white\",\"linecolor\":\"white\",\"ticks\":\"\",\"title\":{\"standoff\":15},\"zerolinecolor\":\"white\",\"zerolinewidth\":2}}}},                        {\"responsive\": true}                    ).then(function(){\n",
              "                            \n",
              "var gd = document.getElementById('cae2f596-fa35-4d3d-847e-0ed72bc921f7');\n",
              "var x = new MutationObserver(function (mutations, observer) {{\n",
              "        var display = window.getComputedStyle(gd).display;\n",
              "        if (!display || display === 'none') {{\n",
              "            console.log([gd, 'removed!']);\n",
              "            Plotly.purge(gd);\n",
              "            observer.disconnect();\n",
              "        }}\n",
              "}});\n",
              "\n",
              "// Listen for the removal of the full notebook cells\n",
              "var notebookContainer = gd.closest('#notebook-container');\n",
              "if (notebookContainer) {{\n",
              "    x.observe(notebookContainer, {childList: true});\n",
              "}}\n",
              "\n",
              "// Listen for the clearing of the current output cell\n",
              "var outputEl = gd.closest('.output');\n",
              "if (outputEl) {{\n",
              "    x.observe(outputEl, {childList: true});\n",
              "}}\n",
              "\n",
              "                        })                };                            </script>        </div>\n",
              "</body>\n",
              "</html>"
            ]
          },
          "metadata": {}
        }
      ]
    },
    {
      "cell_type": "code",
      "source": [
        "plot_parallel_coordinate(study)"
      ],
      "metadata": {
        "colab": {
          "base_uri": "https://localhost:8080/",
          "height": 542
        },
        "id": "_u3R2lLmNRcL",
        "outputId": "0c58119d-f96c-42e0-931a-a536e3877013"
      },
      "execution_count": 33,
      "outputs": [
        {
          "output_type": "display_data",
          "data": {
            "text/html": [
              "<html>\n",
              "<head><meta charset=\"utf-8\" /></head>\n",
              "<body>\n",
              "    <div>            <script src=\"https://cdnjs.cloudflare.com/ajax/libs/mathjax/2.7.5/MathJax.js?config=TeX-AMS-MML_SVG\"></script><script type=\"text/javascript\">if (window.MathJax) {MathJax.Hub.Config({SVG: {font: \"STIX-Web\"}});}</script>                <script type=\"text/javascript\">window.PlotlyConfig = {MathJaxConfig: 'local'};</script>\n",
              "        <script src=\"https://cdn.plot.ly/plotly-2.8.3.min.js\"></script>                <div id=\"3d4ee50c-8906-48aa-bab3-480c7aa34909\" class=\"plotly-graph-div\" style=\"height:525px; width:100%;\"></div>            <script type=\"text/javascript\">                                    window.PLOTLYENV=window.PLOTLYENV || {};                                    if (document.getElementById(\"3d4ee50c-8906-48aa-bab3-480c7aa34909\")) {                    Plotly.newPlot(                        \"3d4ee50c-8906-48aa-bab3-480c7aa34909\",                        [{\"dimensions\":[{\"label\":\"Objective Value\",\"range\":[0.8500744054714838,0.8877418157127168],\"values\":[0.8719204697344038,0.8740906086232927,0.869729662934939,0.8771288030677371,0.8523272160026762,0.8714451061354743,0.8714864419566261,0.8762607475121816,0.8605530758698782,0.8686652614010705,0.854910714758767,0.8734395669566261,0.8725508434904946,0.8763330860270394,0.8776765051815245,0.8845072752899594,0.8812727348672019,0.8840732475121816,0.8752893524037467,0.8772631453143226,0.8842902614010705,0.8831845240460502,0.8572358638048172,0.885571676823828,0.8500744054714838,0.885768022802141,0.867435516582595,0.8844866073793836,0.8774181554714838,0.8617931554714838,0.8877418157127168,0.876984127693706,0.8811280594931709,0.8709077388048172,0.8608527614010705]},{\"label\":\"cell_type\",\"range\":[0,1],\"ticktext\":[\"LSTM\",\"GRU\"],\"tickvals\":[0,1],\"values\":[1,1,1,1,0,0,1,0,0,1,0,0,0,1,1,1,1,1,1,1,1,1,1,1,1,1,1,1,1,1,1,1,1,1,0]},{\"label\":\"clip\",\"range\":[0,1],\"ticktext\":[\"1\",\"5\"],\"tickvals\":[0,1],\"values\":[0,0,0,0,0,0,0,0,0,0,0,1,1,1,1,1,1,1,1,1,1,1,1,1,1,1,1,1,1,1,1,1,1,1,1]},{\"label\":\"dropout\",\"range\":[0,2],\"ticktext\":[\"0.3\",\"0.5\",\"0.7\"],\"tickvals\":[0,1,2],\"values\":[0,0,0,0,0,1,1,1,1,1,2,0,1,2,2,2,2,2,2,2,2,2,2,2,2,2,2,2,2,2,2,2,2,2,2]},{\"label\":\"epochs\",\"range\":[0,2],\"ticktext\":[\"3\",\"5\",\"8\"],\"tickvals\":[0,1,2],\"values\":[1,1,1,1,2,0,1,1,2,2,2,2,1,0,0,0,0,0,0,0,0,0,0,0,0,0,0,0,0,0,0,0,0,0,2]},{\"label\":\"hidden_dim\",\"range\":[0,3],\"ticktext\":[\"16\",\"32\",\"64\",\"200\"],\"tickvals\":[0,1,2,3],\"values\":[2,3,3,3,1,0,1,2,1,2,2,2,0,0,0,0,0,0,0,0,1,3,3,3,3,3,3,3,3,3,3,3,3,3,3]},{\"label\":\"num_layers\",\"range\":[0,2],\"ticktext\":[\"2\",\"3\",\"4\"],\"tickvals\":[0,1,2],\"values\":[0,0,0,0,1,1,1,1,1,1,2,0,0,2,2,2,2,2,2,2,2,2,2,2,2,2,2,2,2,2,2,2,2,2,2]},{\"label\":\"skip_layers\",\"range\":[0,2],\"ticktext\":[\"0\",\"1\",\"2\"],\"tickvals\":[0,1,2],\"values\":[2,1,1,1,1,2,0,2,1,0,1,2,2,0,0,0,0,0,0,0,0,0,0,0,0,0,0,0,0,0,0,0,0,0,2]}],\"labelangle\":30,\"labelside\":\"bottom\",\"line\":{\"color\":[0.8719204697344038,0.8740906086232927,0.869729662934939,0.8771288030677371,0.8523272160026762,0.8714451061354743,0.8714864419566261,0.8762607475121816,0.8605530758698782,0.8686652614010705,0.854910714758767,0.8734395669566261,0.8725508434904946,0.8763330860270394,0.8776765051815245,0.8845072752899594,0.8812727348672019,0.8840732475121816,0.8752893524037467,0.8772631453143226,0.8842902614010705,0.8831845240460502,0.8572358638048172,0.885571676823828,0.8500744054714838,0.885768022802141,0.867435516582595,0.8844866073793836,0.8774181554714838,0.8617931554714838,0.8877418157127168,0.876984127693706,0.8811280594931709,0.8709077388048172,0.8608527614010705],\"colorbar\":{\"title\":{\"text\":\"Objective Value\"}},\"colorscale\":[[0.0,\"rgb(247,251,255)\"],[0.125,\"rgb(222,235,247)\"],[0.25,\"rgb(198,219,239)\"],[0.375,\"rgb(158,202,225)\"],[0.5,\"rgb(107,174,214)\"],[0.625,\"rgb(66,146,198)\"],[0.75,\"rgb(33,113,181)\"],[0.875,\"rgb(8,81,156)\"],[1.0,\"rgb(8,48,107)\"]],\"reversescale\":false,\"showscale\":true},\"type\":\"parcoords\"}],                        {\"title\":{\"text\":\"Parallel Coordinate Plot\"},\"template\":{\"data\":{\"bar\":[{\"error_x\":{\"color\":\"#2a3f5f\"},\"error_y\":{\"color\":\"#2a3f5f\"},\"marker\":{\"line\":{\"color\":\"#E5ECF6\",\"width\":0.5},\"pattern\":{\"fillmode\":\"overlay\",\"size\":10,\"solidity\":0.2}},\"type\":\"bar\"}],\"barpolar\":[{\"marker\":{\"line\":{\"color\":\"#E5ECF6\",\"width\":0.5},\"pattern\":{\"fillmode\":\"overlay\",\"size\":10,\"solidity\":0.2}},\"type\":\"barpolar\"}],\"carpet\":[{\"aaxis\":{\"endlinecolor\":\"#2a3f5f\",\"gridcolor\":\"white\",\"linecolor\":\"white\",\"minorgridcolor\":\"white\",\"startlinecolor\":\"#2a3f5f\"},\"baxis\":{\"endlinecolor\":\"#2a3f5f\",\"gridcolor\":\"white\",\"linecolor\":\"white\",\"minorgridcolor\":\"white\",\"startlinecolor\":\"#2a3f5f\"},\"type\":\"carpet\"}],\"choropleth\":[{\"colorbar\":{\"outlinewidth\":0,\"ticks\":\"\"},\"type\":\"choropleth\"}],\"contour\":[{\"colorbar\":{\"outlinewidth\":0,\"ticks\":\"\"},\"colorscale\":[[0.0,\"#0d0887\"],[0.1111111111111111,\"#46039f\"],[0.2222222222222222,\"#7201a8\"],[0.3333333333333333,\"#9c179e\"],[0.4444444444444444,\"#bd3786\"],[0.5555555555555556,\"#d8576b\"],[0.6666666666666666,\"#ed7953\"],[0.7777777777777778,\"#fb9f3a\"],[0.8888888888888888,\"#fdca26\"],[1.0,\"#f0f921\"]],\"type\":\"contour\"}],\"contourcarpet\":[{\"colorbar\":{\"outlinewidth\":0,\"ticks\":\"\"},\"type\":\"contourcarpet\"}],\"heatmap\":[{\"colorbar\":{\"outlinewidth\":0,\"ticks\":\"\"},\"colorscale\":[[0.0,\"#0d0887\"],[0.1111111111111111,\"#46039f\"],[0.2222222222222222,\"#7201a8\"],[0.3333333333333333,\"#9c179e\"],[0.4444444444444444,\"#bd3786\"],[0.5555555555555556,\"#d8576b\"],[0.6666666666666666,\"#ed7953\"],[0.7777777777777778,\"#fb9f3a\"],[0.8888888888888888,\"#fdca26\"],[1.0,\"#f0f921\"]],\"type\":\"heatmap\"}],\"heatmapgl\":[{\"colorbar\":{\"outlinewidth\":0,\"ticks\":\"\"},\"colorscale\":[[0.0,\"#0d0887\"],[0.1111111111111111,\"#46039f\"],[0.2222222222222222,\"#7201a8\"],[0.3333333333333333,\"#9c179e\"],[0.4444444444444444,\"#bd3786\"],[0.5555555555555556,\"#d8576b\"],[0.6666666666666666,\"#ed7953\"],[0.7777777777777778,\"#fb9f3a\"],[0.8888888888888888,\"#fdca26\"],[1.0,\"#f0f921\"]],\"type\":\"heatmapgl\"}],\"histogram\":[{\"marker\":{\"pattern\":{\"fillmode\":\"overlay\",\"size\":10,\"solidity\":0.2}},\"type\":\"histogram\"}],\"histogram2d\":[{\"colorbar\":{\"outlinewidth\":0,\"ticks\":\"\"},\"colorscale\":[[0.0,\"#0d0887\"],[0.1111111111111111,\"#46039f\"],[0.2222222222222222,\"#7201a8\"],[0.3333333333333333,\"#9c179e\"],[0.4444444444444444,\"#bd3786\"],[0.5555555555555556,\"#d8576b\"],[0.6666666666666666,\"#ed7953\"],[0.7777777777777778,\"#fb9f3a\"],[0.8888888888888888,\"#fdca26\"],[1.0,\"#f0f921\"]],\"type\":\"histogram2d\"}],\"histogram2dcontour\":[{\"colorbar\":{\"outlinewidth\":0,\"ticks\":\"\"},\"colorscale\":[[0.0,\"#0d0887\"],[0.1111111111111111,\"#46039f\"],[0.2222222222222222,\"#7201a8\"],[0.3333333333333333,\"#9c179e\"],[0.4444444444444444,\"#bd3786\"],[0.5555555555555556,\"#d8576b\"],[0.6666666666666666,\"#ed7953\"],[0.7777777777777778,\"#fb9f3a\"],[0.8888888888888888,\"#fdca26\"],[1.0,\"#f0f921\"]],\"type\":\"histogram2dcontour\"}],\"mesh3d\":[{\"colorbar\":{\"outlinewidth\":0,\"ticks\":\"\"},\"type\":\"mesh3d\"}],\"parcoords\":[{\"line\":{\"colorbar\":{\"outlinewidth\":0,\"ticks\":\"\"}},\"type\":\"parcoords\"}],\"pie\":[{\"automargin\":true,\"type\":\"pie\"}],\"scatter\":[{\"marker\":{\"colorbar\":{\"outlinewidth\":0,\"ticks\":\"\"}},\"type\":\"scatter\"}],\"scatter3d\":[{\"line\":{\"colorbar\":{\"outlinewidth\":0,\"ticks\":\"\"}},\"marker\":{\"colorbar\":{\"outlinewidth\":0,\"ticks\":\"\"}},\"type\":\"scatter3d\"}],\"scattercarpet\":[{\"marker\":{\"colorbar\":{\"outlinewidth\":0,\"ticks\":\"\"}},\"type\":\"scattercarpet\"}],\"scattergeo\":[{\"marker\":{\"colorbar\":{\"outlinewidth\":0,\"ticks\":\"\"}},\"type\":\"scattergeo\"}],\"scattergl\":[{\"marker\":{\"colorbar\":{\"outlinewidth\":0,\"ticks\":\"\"}},\"type\":\"scattergl\"}],\"scattermapbox\":[{\"marker\":{\"colorbar\":{\"outlinewidth\":0,\"ticks\":\"\"}},\"type\":\"scattermapbox\"}],\"scatterpolar\":[{\"marker\":{\"colorbar\":{\"outlinewidth\":0,\"ticks\":\"\"}},\"type\":\"scatterpolar\"}],\"scatterpolargl\":[{\"marker\":{\"colorbar\":{\"outlinewidth\":0,\"ticks\":\"\"}},\"type\":\"scatterpolargl\"}],\"scatterternary\":[{\"marker\":{\"colorbar\":{\"outlinewidth\":0,\"ticks\":\"\"}},\"type\":\"scatterternary\"}],\"surface\":[{\"colorbar\":{\"outlinewidth\":0,\"ticks\":\"\"},\"colorscale\":[[0.0,\"#0d0887\"],[0.1111111111111111,\"#46039f\"],[0.2222222222222222,\"#7201a8\"],[0.3333333333333333,\"#9c179e\"],[0.4444444444444444,\"#bd3786\"],[0.5555555555555556,\"#d8576b\"],[0.6666666666666666,\"#ed7953\"],[0.7777777777777778,\"#fb9f3a\"],[0.8888888888888888,\"#fdca26\"],[1.0,\"#f0f921\"]],\"type\":\"surface\"}],\"table\":[{\"cells\":{\"fill\":{\"color\":\"#EBF0F8\"},\"line\":{\"color\":\"white\"}},\"header\":{\"fill\":{\"color\":\"#C8D4E3\"},\"line\":{\"color\":\"white\"}},\"type\":\"table\"}]},\"layout\":{\"annotationdefaults\":{\"arrowcolor\":\"#2a3f5f\",\"arrowhead\":0,\"arrowwidth\":1},\"autotypenumbers\":\"strict\",\"coloraxis\":{\"colorbar\":{\"outlinewidth\":0,\"ticks\":\"\"}},\"colorscale\":{\"diverging\":[[0,\"#8e0152\"],[0.1,\"#c51b7d\"],[0.2,\"#de77ae\"],[0.3,\"#f1b6da\"],[0.4,\"#fde0ef\"],[0.5,\"#f7f7f7\"],[0.6,\"#e6f5d0\"],[0.7,\"#b8e186\"],[0.8,\"#7fbc41\"],[0.9,\"#4d9221\"],[1,\"#276419\"]],\"sequential\":[[0.0,\"#0d0887\"],[0.1111111111111111,\"#46039f\"],[0.2222222222222222,\"#7201a8\"],[0.3333333333333333,\"#9c179e\"],[0.4444444444444444,\"#bd3786\"],[0.5555555555555556,\"#d8576b\"],[0.6666666666666666,\"#ed7953\"],[0.7777777777777778,\"#fb9f3a\"],[0.8888888888888888,\"#fdca26\"],[1.0,\"#f0f921\"]],\"sequentialminus\":[[0.0,\"#0d0887\"],[0.1111111111111111,\"#46039f\"],[0.2222222222222222,\"#7201a8\"],[0.3333333333333333,\"#9c179e\"],[0.4444444444444444,\"#bd3786\"],[0.5555555555555556,\"#d8576b\"],[0.6666666666666666,\"#ed7953\"],[0.7777777777777778,\"#fb9f3a\"],[0.8888888888888888,\"#fdca26\"],[1.0,\"#f0f921\"]]},\"colorway\":[\"#636efa\",\"#EF553B\",\"#00cc96\",\"#ab63fa\",\"#FFA15A\",\"#19d3f3\",\"#FF6692\",\"#B6E880\",\"#FF97FF\",\"#FECB52\"],\"font\":{\"color\":\"#2a3f5f\"},\"geo\":{\"bgcolor\":\"white\",\"lakecolor\":\"white\",\"landcolor\":\"#E5ECF6\",\"showlakes\":true,\"showland\":true,\"subunitcolor\":\"white\"},\"hoverlabel\":{\"align\":\"left\"},\"hovermode\":\"closest\",\"mapbox\":{\"style\":\"light\"},\"paper_bgcolor\":\"white\",\"plot_bgcolor\":\"#E5ECF6\",\"polar\":{\"angularaxis\":{\"gridcolor\":\"white\",\"linecolor\":\"white\",\"ticks\":\"\"},\"bgcolor\":\"#E5ECF6\",\"radialaxis\":{\"gridcolor\":\"white\",\"linecolor\":\"white\",\"ticks\":\"\"}},\"scene\":{\"xaxis\":{\"backgroundcolor\":\"#E5ECF6\",\"gridcolor\":\"white\",\"gridwidth\":2,\"linecolor\":\"white\",\"showbackground\":true,\"ticks\":\"\",\"zerolinecolor\":\"white\"},\"yaxis\":{\"backgroundcolor\":\"#E5ECF6\",\"gridcolor\":\"white\",\"gridwidth\":2,\"linecolor\":\"white\",\"showbackground\":true,\"ticks\":\"\",\"zerolinecolor\":\"white\"},\"zaxis\":{\"backgroundcolor\":\"#E5ECF6\",\"gridcolor\":\"white\",\"gridwidth\":2,\"linecolor\":\"white\",\"showbackground\":true,\"ticks\":\"\",\"zerolinecolor\":\"white\"}},\"shapedefaults\":{\"line\":{\"color\":\"#2a3f5f\"}},\"ternary\":{\"aaxis\":{\"gridcolor\":\"white\",\"linecolor\":\"white\",\"ticks\":\"\"},\"baxis\":{\"gridcolor\":\"white\",\"linecolor\":\"white\",\"ticks\":\"\"},\"bgcolor\":\"#E5ECF6\",\"caxis\":{\"gridcolor\":\"white\",\"linecolor\":\"white\",\"ticks\":\"\"}},\"title\":{\"x\":0.05},\"xaxis\":{\"automargin\":true,\"gridcolor\":\"white\",\"linecolor\":\"white\",\"ticks\":\"\",\"title\":{\"standoff\":15},\"zerolinecolor\":\"white\",\"zerolinewidth\":2},\"yaxis\":{\"automargin\":true,\"gridcolor\":\"white\",\"linecolor\":\"white\",\"ticks\":\"\",\"title\":{\"standoff\":15},\"zerolinecolor\":\"white\",\"zerolinewidth\":2}}}},                        {\"responsive\": true}                    ).then(function(){\n",
              "                            \n",
              "var gd = document.getElementById('3d4ee50c-8906-48aa-bab3-480c7aa34909');\n",
              "var x = new MutationObserver(function (mutations, observer) {{\n",
              "        var display = window.getComputedStyle(gd).display;\n",
              "        if (!display || display === 'none') {{\n",
              "            console.log([gd, 'removed!']);\n",
              "            Plotly.purge(gd);\n",
              "            observer.disconnect();\n",
              "        }}\n",
              "}});\n",
              "\n",
              "// Listen for the removal of the full notebook cells\n",
              "var notebookContainer = gd.closest('#notebook-container');\n",
              "if (notebookContainer) {{\n",
              "    x.observe(notebookContainer, {childList: true});\n",
              "}}\n",
              "\n",
              "// Listen for the clearing of the current output cell\n",
              "var outputEl = gd.closest('.output');\n",
              "if (outputEl) {{\n",
              "    x.observe(outputEl, {childList: true});\n",
              "}}\n",
              "\n",
              "                        })                };                            </script>        </div>\n",
              "</body>\n",
              "</html>"
            ]
          },
          "metadata": {}
        }
      ]
    },
    {
      "cell_type": "code",
      "source": [
        "plot_optimization_history(study)\n"
      ],
      "metadata": {
        "colab": {
          "base_uri": "https://localhost:8080/",
          "height": 542
        },
        "id": "LkOKdfw9N4Di",
        "outputId": "c9e48998-a454-4d82-9286-ee7f478564ca"
      },
      "execution_count": 34,
      "outputs": [
        {
          "output_type": "display_data",
          "data": {
            "text/html": [
              "<html>\n",
              "<head><meta charset=\"utf-8\" /></head>\n",
              "<body>\n",
              "    <div>            <script src=\"https://cdnjs.cloudflare.com/ajax/libs/mathjax/2.7.5/MathJax.js?config=TeX-AMS-MML_SVG\"></script><script type=\"text/javascript\">if (window.MathJax) {MathJax.Hub.Config({SVG: {font: \"STIX-Web\"}});}</script>                <script type=\"text/javascript\">window.PlotlyConfig = {MathJaxConfig: 'local'};</script>\n",
              "        <script src=\"https://cdn.plot.ly/plotly-2.8.3.min.js\"></script>                <div id=\"1577f1f0-3009-4949-a247-984860448a2e\" class=\"plotly-graph-div\" style=\"height:525px; width:100%;\"></div>            <script type=\"text/javascript\">                                    window.PLOTLYENV=window.PLOTLYENV || {};                                    if (document.getElementById(\"1577f1f0-3009-4949-a247-984860448a2e\")) {                    Plotly.newPlot(                        \"1577f1f0-3009-4949-a247-984860448a2e\",                        [{\"mode\":\"markers\",\"name\":\"Objective Value\",\"x\":[0,1,2,3,4,5,6,7,8,9,10,11,12,13,14,15,16,17,18,19,20,21,22,23,24,25,26,27,28,29,30,31,32,33,34],\"y\":[0.8725508434904946,0.8740906086232927,0.8734395669566261,0.8605530758698782,0.8523272160026762,0.8686652614010705,0.8762607475121816,0.8714864419566261,0.854910714758767,0.8608527614010705,0.8714451061354743,0.869729662934939,0.8771288030677371,0.8719204697344038,0.8831845240460502,0.8572358638048172,0.885571676823828,0.8500744054714838,0.885768022802141,0.867435516582595,0.8763330860270394,0.8844866073793836,0.8774181554714838,0.8617931554714838,0.8877418157127168,0.876984127693706,0.8811280594931709,0.8709077388048172,0.8776765051815245,0.8842902614010705,0.8845072752899594,0.8812727348672019,0.8840732475121816,0.8752893524037467,0.8772631453143226],\"type\":\"scatter\"},{\"name\":\"Best Value\",\"x\":[0,1,2,3,4,5,6,7,8,9,10,11,12,13,14,15,16,17,18,19,20,21,22,23,24,25,26,27,28,29,30,31,32,33,34],\"y\":[0.8725508434904946,0.8740906086232927,0.8740906086232927,0.8740906086232927,0.8740906086232927,0.8740906086232927,0.8762607475121816,0.8762607475121816,0.8762607475121816,0.8762607475121816,0.8762607475121816,0.8762607475121816,0.8771288030677371,0.8771288030677371,0.8831845240460502,0.8831845240460502,0.885571676823828,0.885571676823828,0.885768022802141,0.885768022802141,0.885768022802141,0.885768022802141,0.885768022802141,0.885768022802141,0.8877418157127168,0.8877418157127168,0.8877418157127168,0.8877418157127168,0.8877418157127168,0.8877418157127168,0.8877418157127168,0.8877418157127168,0.8877418157127168,0.8877418157127168,0.8877418157127168],\"type\":\"scatter\"}],                        {\"title\":{\"text\":\"Optimization History Plot\"},\"xaxis\":{\"title\":{\"text\":\"Trial\"}},\"yaxis\":{\"title\":{\"text\":\"Objective Value\"}},\"template\":{\"data\":{\"bar\":[{\"error_x\":{\"color\":\"#2a3f5f\"},\"error_y\":{\"color\":\"#2a3f5f\"},\"marker\":{\"line\":{\"color\":\"#E5ECF6\",\"width\":0.5},\"pattern\":{\"fillmode\":\"overlay\",\"size\":10,\"solidity\":0.2}},\"type\":\"bar\"}],\"barpolar\":[{\"marker\":{\"line\":{\"color\":\"#E5ECF6\",\"width\":0.5},\"pattern\":{\"fillmode\":\"overlay\",\"size\":10,\"solidity\":0.2}},\"type\":\"barpolar\"}],\"carpet\":[{\"aaxis\":{\"endlinecolor\":\"#2a3f5f\",\"gridcolor\":\"white\",\"linecolor\":\"white\",\"minorgridcolor\":\"white\",\"startlinecolor\":\"#2a3f5f\"},\"baxis\":{\"endlinecolor\":\"#2a3f5f\",\"gridcolor\":\"white\",\"linecolor\":\"white\",\"minorgridcolor\":\"white\",\"startlinecolor\":\"#2a3f5f\"},\"type\":\"carpet\"}],\"choropleth\":[{\"colorbar\":{\"outlinewidth\":0,\"ticks\":\"\"},\"type\":\"choropleth\"}],\"contour\":[{\"colorbar\":{\"outlinewidth\":0,\"ticks\":\"\"},\"colorscale\":[[0.0,\"#0d0887\"],[0.1111111111111111,\"#46039f\"],[0.2222222222222222,\"#7201a8\"],[0.3333333333333333,\"#9c179e\"],[0.4444444444444444,\"#bd3786\"],[0.5555555555555556,\"#d8576b\"],[0.6666666666666666,\"#ed7953\"],[0.7777777777777778,\"#fb9f3a\"],[0.8888888888888888,\"#fdca26\"],[1.0,\"#f0f921\"]],\"type\":\"contour\"}],\"contourcarpet\":[{\"colorbar\":{\"outlinewidth\":0,\"ticks\":\"\"},\"type\":\"contourcarpet\"}],\"heatmap\":[{\"colorbar\":{\"outlinewidth\":0,\"ticks\":\"\"},\"colorscale\":[[0.0,\"#0d0887\"],[0.1111111111111111,\"#46039f\"],[0.2222222222222222,\"#7201a8\"],[0.3333333333333333,\"#9c179e\"],[0.4444444444444444,\"#bd3786\"],[0.5555555555555556,\"#d8576b\"],[0.6666666666666666,\"#ed7953\"],[0.7777777777777778,\"#fb9f3a\"],[0.8888888888888888,\"#fdca26\"],[1.0,\"#f0f921\"]],\"type\":\"heatmap\"}],\"heatmapgl\":[{\"colorbar\":{\"outlinewidth\":0,\"ticks\":\"\"},\"colorscale\":[[0.0,\"#0d0887\"],[0.1111111111111111,\"#46039f\"],[0.2222222222222222,\"#7201a8\"],[0.3333333333333333,\"#9c179e\"],[0.4444444444444444,\"#bd3786\"],[0.5555555555555556,\"#d8576b\"],[0.6666666666666666,\"#ed7953\"],[0.7777777777777778,\"#fb9f3a\"],[0.8888888888888888,\"#fdca26\"],[1.0,\"#f0f921\"]],\"type\":\"heatmapgl\"}],\"histogram\":[{\"marker\":{\"pattern\":{\"fillmode\":\"overlay\",\"size\":10,\"solidity\":0.2}},\"type\":\"histogram\"}],\"histogram2d\":[{\"colorbar\":{\"outlinewidth\":0,\"ticks\":\"\"},\"colorscale\":[[0.0,\"#0d0887\"],[0.1111111111111111,\"#46039f\"],[0.2222222222222222,\"#7201a8\"],[0.3333333333333333,\"#9c179e\"],[0.4444444444444444,\"#bd3786\"],[0.5555555555555556,\"#d8576b\"],[0.6666666666666666,\"#ed7953\"],[0.7777777777777778,\"#fb9f3a\"],[0.8888888888888888,\"#fdca26\"],[1.0,\"#f0f921\"]],\"type\":\"histogram2d\"}],\"histogram2dcontour\":[{\"colorbar\":{\"outlinewidth\":0,\"ticks\":\"\"},\"colorscale\":[[0.0,\"#0d0887\"],[0.1111111111111111,\"#46039f\"],[0.2222222222222222,\"#7201a8\"],[0.3333333333333333,\"#9c179e\"],[0.4444444444444444,\"#bd3786\"],[0.5555555555555556,\"#d8576b\"],[0.6666666666666666,\"#ed7953\"],[0.7777777777777778,\"#fb9f3a\"],[0.8888888888888888,\"#fdca26\"],[1.0,\"#f0f921\"]],\"type\":\"histogram2dcontour\"}],\"mesh3d\":[{\"colorbar\":{\"outlinewidth\":0,\"ticks\":\"\"},\"type\":\"mesh3d\"}],\"parcoords\":[{\"line\":{\"colorbar\":{\"outlinewidth\":0,\"ticks\":\"\"}},\"type\":\"parcoords\"}],\"pie\":[{\"automargin\":true,\"type\":\"pie\"}],\"scatter\":[{\"marker\":{\"colorbar\":{\"outlinewidth\":0,\"ticks\":\"\"}},\"type\":\"scatter\"}],\"scatter3d\":[{\"line\":{\"colorbar\":{\"outlinewidth\":0,\"ticks\":\"\"}},\"marker\":{\"colorbar\":{\"outlinewidth\":0,\"ticks\":\"\"}},\"type\":\"scatter3d\"}],\"scattercarpet\":[{\"marker\":{\"colorbar\":{\"outlinewidth\":0,\"ticks\":\"\"}},\"type\":\"scattercarpet\"}],\"scattergeo\":[{\"marker\":{\"colorbar\":{\"outlinewidth\":0,\"ticks\":\"\"}},\"type\":\"scattergeo\"}],\"scattergl\":[{\"marker\":{\"colorbar\":{\"outlinewidth\":0,\"ticks\":\"\"}},\"type\":\"scattergl\"}],\"scattermapbox\":[{\"marker\":{\"colorbar\":{\"outlinewidth\":0,\"ticks\":\"\"}},\"type\":\"scattermapbox\"}],\"scatterpolar\":[{\"marker\":{\"colorbar\":{\"outlinewidth\":0,\"ticks\":\"\"}},\"type\":\"scatterpolar\"}],\"scatterpolargl\":[{\"marker\":{\"colorbar\":{\"outlinewidth\":0,\"ticks\":\"\"}},\"type\":\"scatterpolargl\"}],\"scatterternary\":[{\"marker\":{\"colorbar\":{\"outlinewidth\":0,\"ticks\":\"\"}},\"type\":\"scatterternary\"}],\"surface\":[{\"colorbar\":{\"outlinewidth\":0,\"ticks\":\"\"},\"colorscale\":[[0.0,\"#0d0887\"],[0.1111111111111111,\"#46039f\"],[0.2222222222222222,\"#7201a8\"],[0.3333333333333333,\"#9c179e\"],[0.4444444444444444,\"#bd3786\"],[0.5555555555555556,\"#d8576b\"],[0.6666666666666666,\"#ed7953\"],[0.7777777777777778,\"#fb9f3a\"],[0.8888888888888888,\"#fdca26\"],[1.0,\"#f0f921\"]],\"type\":\"surface\"}],\"table\":[{\"cells\":{\"fill\":{\"color\":\"#EBF0F8\"},\"line\":{\"color\":\"white\"}},\"header\":{\"fill\":{\"color\":\"#C8D4E3\"},\"line\":{\"color\":\"white\"}},\"type\":\"table\"}]},\"layout\":{\"annotationdefaults\":{\"arrowcolor\":\"#2a3f5f\",\"arrowhead\":0,\"arrowwidth\":1},\"autotypenumbers\":\"strict\",\"coloraxis\":{\"colorbar\":{\"outlinewidth\":0,\"ticks\":\"\"}},\"colorscale\":{\"diverging\":[[0,\"#8e0152\"],[0.1,\"#c51b7d\"],[0.2,\"#de77ae\"],[0.3,\"#f1b6da\"],[0.4,\"#fde0ef\"],[0.5,\"#f7f7f7\"],[0.6,\"#e6f5d0\"],[0.7,\"#b8e186\"],[0.8,\"#7fbc41\"],[0.9,\"#4d9221\"],[1,\"#276419\"]],\"sequential\":[[0.0,\"#0d0887\"],[0.1111111111111111,\"#46039f\"],[0.2222222222222222,\"#7201a8\"],[0.3333333333333333,\"#9c179e\"],[0.4444444444444444,\"#bd3786\"],[0.5555555555555556,\"#d8576b\"],[0.6666666666666666,\"#ed7953\"],[0.7777777777777778,\"#fb9f3a\"],[0.8888888888888888,\"#fdca26\"],[1.0,\"#f0f921\"]],\"sequentialminus\":[[0.0,\"#0d0887\"],[0.1111111111111111,\"#46039f\"],[0.2222222222222222,\"#7201a8\"],[0.3333333333333333,\"#9c179e\"],[0.4444444444444444,\"#bd3786\"],[0.5555555555555556,\"#d8576b\"],[0.6666666666666666,\"#ed7953\"],[0.7777777777777778,\"#fb9f3a\"],[0.8888888888888888,\"#fdca26\"],[1.0,\"#f0f921\"]]},\"colorway\":[\"#636efa\",\"#EF553B\",\"#00cc96\",\"#ab63fa\",\"#FFA15A\",\"#19d3f3\",\"#FF6692\",\"#B6E880\",\"#FF97FF\",\"#FECB52\"],\"font\":{\"color\":\"#2a3f5f\"},\"geo\":{\"bgcolor\":\"white\",\"lakecolor\":\"white\",\"landcolor\":\"#E5ECF6\",\"showlakes\":true,\"showland\":true,\"subunitcolor\":\"white\"},\"hoverlabel\":{\"align\":\"left\"},\"hovermode\":\"closest\",\"mapbox\":{\"style\":\"light\"},\"paper_bgcolor\":\"white\",\"plot_bgcolor\":\"#E5ECF6\",\"polar\":{\"angularaxis\":{\"gridcolor\":\"white\",\"linecolor\":\"white\",\"ticks\":\"\"},\"bgcolor\":\"#E5ECF6\",\"radialaxis\":{\"gridcolor\":\"white\",\"linecolor\":\"white\",\"ticks\":\"\"}},\"scene\":{\"xaxis\":{\"backgroundcolor\":\"#E5ECF6\",\"gridcolor\":\"white\",\"gridwidth\":2,\"linecolor\":\"white\",\"showbackground\":true,\"ticks\":\"\",\"zerolinecolor\":\"white\"},\"yaxis\":{\"backgroundcolor\":\"#E5ECF6\",\"gridcolor\":\"white\",\"gridwidth\":2,\"linecolor\":\"white\",\"showbackground\":true,\"ticks\":\"\",\"zerolinecolor\":\"white\"},\"zaxis\":{\"backgroundcolor\":\"#E5ECF6\",\"gridcolor\":\"white\",\"gridwidth\":2,\"linecolor\":\"white\",\"showbackground\":true,\"ticks\":\"\",\"zerolinecolor\":\"white\"}},\"shapedefaults\":{\"line\":{\"color\":\"#2a3f5f\"}},\"ternary\":{\"aaxis\":{\"gridcolor\":\"white\",\"linecolor\":\"white\",\"ticks\":\"\"},\"baxis\":{\"gridcolor\":\"white\",\"linecolor\":\"white\",\"ticks\":\"\"},\"bgcolor\":\"#E5ECF6\",\"caxis\":{\"gridcolor\":\"white\",\"linecolor\":\"white\",\"ticks\":\"\"}},\"title\":{\"x\":0.05},\"xaxis\":{\"automargin\":true,\"gridcolor\":\"white\",\"linecolor\":\"white\",\"ticks\":\"\",\"title\":{\"standoff\":15},\"zerolinecolor\":\"white\",\"zerolinewidth\":2},\"yaxis\":{\"automargin\":true,\"gridcolor\":\"white\",\"linecolor\":\"white\",\"ticks\":\"\",\"title\":{\"standoff\":15},\"zerolinecolor\":\"white\",\"zerolinewidth\":2}}}},                        {\"responsive\": true}                    ).then(function(){\n",
              "                            \n",
              "var gd = document.getElementById('1577f1f0-3009-4949-a247-984860448a2e');\n",
              "var x = new MutationObserver(function (mutations, observer) {{\n",
              "        var display = window.getComputedStyle(gd).display;\n",
              "        if (!display || display === 'none') {{\n",
              "            console.log([gd, 'removed!']);\n",
              "            Plotly.purge(gd);\n",
              "            observer.disconnect();\n",
              "        }}\n",
              "}});\n",
              "\n",
              "// Listen for the removal of the full notebook cells\n",
              "var notebookContainer = gd.closest('#notebook-container');\n",
              "if (notebookContainer) {{\n",
              "    x.observe(notebookContainer, {childList: true});\n",
              "}}\n",
              "\n",
              "// Listen for the clearing of the current output cell\n",
              "var outputEl = gd.closest('.output');\n",
              "if (outputEl) {{\n",
              "    x.observe(outputEl, {childList: true});\n",
              "}}\n",
              "\n",
              "                        })                };                            </script>        </div>\n",
              "</body>\n",
              "</html>"
            ]
          },
          "metadata": {}
        }
      ]
    },
    {
      "cell_type": "code",
      "source": [
        "plot_param_importances(study)\n"
      ],
      "metadata": {
        "colab": {
          "base_uri": "https://localhost:8080/",
          "height": 542
        },
        "id": "FaGyi4itN9KV",
        "outputId": "aa75cf35-0411-46f8-c7c7-28ab9ff6e495"
      },
      "execution_count": 35,
      "outputs": [
        {
          "output_type": "display_data",
          "data": {
            "text/html": [
              "<html>\n",
              "<head><meta charset=\"utf-8\" /></head>\n",
              "<body>\n",
              "    <div>            <script src=\"https://cdnjs.cloudflare.com/ajax/libs/mathjax/2.7.5/MathJax.js?config=TeX-AMS-MML_SVG\"></script><script type=\"text/javascript\">if (window.MathJax) {MathJax.Hub.Config({SVG: {font: \"STIX-Web\"}});}</script>                <script type=\"text/javascript\">window.PlotlyConfig = {MathJaxConfig: 'local'};</script>\n",
              "        <script src=\"https://cdn.plot.ly/plotly-2.8.3.min.js\"></script>                <div id=\"9680cc71-c6dc-41f0-8bfc-fd0480fc8d93\" class=\"plotly-graph-div\" style=\"height:525px; width:100%;\"></div>            <script type=\"text/javascript\">                                    window.PLOTLYENV=window.PLOTLYENV || {};                                    if (document.getElementById(\"9680cc71-c6dc-41f0-8bfc-fd0480fc8d93\")) {                    Plotly.newPlot(                        \"9680cc71-c6dc-41f0-8bfc-fd0480fc8d93\",                        [{\"cliponaxis\":false,\"hovertemplate\":[\"clip (CategoricalDistribution): 0.03042633151466211<extra></extra>\",\"dropout (CategoricalDistribution): 0.032324754777280716<extra></extra>\",\"cell_type (CategoricalDistribution): 0.05924946825625089<extra></extra>\",\"num_layers (CategoricalDistribution): 0.07277500752520309<extra></extra>\",\"skip_layers (CategoricalDistribution): 0.07457549501998491<extra></extra>\",\"hidden_dim (CategoricalDistribution): 0.11199367430226546<extra></extra>\",\"epochs (CategoricalDistribution): 0.6186552686043528<extra></extra>\"],\"marker\":{\"color\":\"rgb(66,146,198)\"},\"orientation\":\"h\",\"text\":[\"0.03\",\"0.03\",\"0.06\",\"0.07\",\"0.07\",\"0.11\",\"0.62\"],\"textposition\":\"outside\",\"x\":[0.03042633151466211,0.032324754777280716,0.05924946825625089,0.07277500752520309,0.07457549501998491,0.11199367430226546,0.6186552686043528],\"y\":[\"clip\",\"dropout\",\"cell_type\",\"num_layers\",\"skip_layers\",\"hidden_dim\",\"epochs\"],\"type\":\"bar\"}],                        {\"showlegend\":false,\"title\":{\"text\":\"Hyperparameter Importances\"},\"xaxis\":{\"title\":{\"text\":\"Importance for Objective Value\"}},\"yaxis\":{\"title\":{\"text\":\"Hyperparameter\"}},\"template\":{\"data\":{\"bar\":[{\"error_x\":{\"color\":\"#2a3f5f\"},\"error_y\":{\"color\":\"#2a3f5f\"},\"marker\":{\"line\":{\"color\":\"#E5ECF6\",\"width\":0.5},\"pattern\":{\"fillmode\":\"overlay\",\"size\":10,\"solidity\":0.2}},\"type\":\"bar\"}],\"barpolar\":[{\"marker\":{\"line\":{\"color\":\"#E5ECF6\",\"width\":0.5},\"pattern\":{\"fillmode\":\"overlay\",\"size\":10,\"solidity\":0.2}},\"type\":\"barpolar\"}],\"carpet\":[{\"aaxis\":{\"endlinecolor\":\"#2a3f5f\",\"gridcolor\":\"white\",\"linecolor\":\"white\",\"minorgridcolor\":\"white\",\"startlinecolor\":\"#2a3f5f\"},\"baxis\":{\"endlinecolor\":\"#2a3f5f\",\"gridcolor\":\"white\",\"linecolor\":\"white\",\"minorgridcolor\":\"white\",\"startlinecolor\":\"#2a3f5f\"},\"type\":\"carpet\"}],\"choropleth\":[{\"colorbar\":{\"outlinewidth\":0,\"ticks\":\"\"},\"type\":\"choropleth\"}],\"contour\":[{\"colorbar\":{\"outlinewidth\":0,\"ticks\":\"\"},\"colorscale\":[[0.0,\"#0d0887\"],[0.1111111111111111,\"#46039f\"],[0.2222222222222222,\"#7201a8\"],[0.3333333333333333,\"#9c179e\"],[0.4444444444444444,\"#bd3786\"],[0.5555555555555556,\"#d8576b\"],[0.6666666666666666,\"#ed7953\"],[0.7777777777777778,\"#fb9f3a\"],[0.8888888888888888,\"#fdca26\"],[1.0,\"#f0f921\"]],\"type\":\"contour\"}],\"contourcarpet\":[{\"colorbar\":{\"outlinewidth\":0,\"ticks\":\"\"},\"type\":\"contourcarpet\"}],\"heatmap\":[{\"colorbar\":{\"outlinewidth\":0,\"ticks\":\"\"},\"colorscale\":[[0.0,\"#0d0887\"],[0.1111111111111111,\"#46039f\"],[0.2222222222222222,\"#7201a8\"],[0.3333333333333333,\"#9c179e\"],[0.4444444444444444,\"#bd3786\"],[0.5555555555555556,\"#d8576b\"],[0.6666666666666666,\"#ed7953\"],[0.7777777777777778,\"#fb9f3a\"],[0.8888888888888888,\"#fdca26\"],[1.0,\"#f0f921\"]],\"type\":\"heatmap\"}],\"heatmapgl\":[{\"colorbar\":{\"outlinewidth\":0,\"ticks\":\"\"},\"colorscale\":[[0.0,\"#0d0887\"],[0.1111111111111111,\"#46039f\"],[0.2222222222222222,\"#7201a8\"],[0.3333333333333333,\"#9c179e\"],[0.4444444444444444,\"#bd3786\"],[0.5555555555555556,\"#d8576b\"],[0.6666666666666666,\"#ed7953\"],[0.7777777777777778,\"#fb9f3a\"],[0.8888888888888888,\"#fdca26\"],[1.0,\"#f0f921\"]],\"type\":\"heatmapgl\"}],\"histogram\":[{\"marker\":{\"pattern\":{\"fillmode\":\"overlay\",\"size\":10,\"solidity\":0.2}},\"type\":\"histogram\"}],\"histogram2d\":[{\"colorbar\":{\"outlinewidth\":0,\"ticks\":\"\"},\"colorscale\":[[0.0,\"#0d0887\"],[0.1111111111111111,\"#46039f\"],[0.2222222222222222,\"#7201a8\"],[0.3333333333333333,\"#9c179e\"],[0.4444444444444444,\"#bd3786\"],[0.5555555555555556,\"#d8576b\"],[0.6666666666666666,\"#ed7953\"],[0.7777777777777778,\"#fb9f3a\"],[0.8888888888888888,\"#fdca26\"],[1.0,\"#f0f921\"]],\"type\":\"histogram2d\"}],\"histogram2dcontour\":[{\"colorbar\":{\"outlinewidth\":0,\"ticks\":\"\"},\"colorscale\":[[0.0,\"#0d0887\"],[0.1111111111111111,\"#46039f\"],[0.2222222222222222,\"#7201a8\"],[0.3333333333333333,\"#9c179e\"],[0.4444444444444444,\"#bd3786\"],[0.5555555555555556,\"#d8576b\"],[0.6666666666666666,\"#ed7953\"],[0.7777777777777778,\"#fb9f3a\"],[0.8888888888888888,\"#fdca26\"],[1.0,\"#f0f921\"]],\"type\":\"histogram2dcontour\"}],\"mesh3d\":[{\"colorbar\":{\"outlinewidth\":0,\"ticks\":\"\"},\"type\":\"mesh3d\"}],\"parcoords\":[{\"line\":{\"colorbar\":{\"outlinewidth\":0,\"ticks\":\"\"}},\"type\":\"parcoords\"}],\"pie\":[{\"automargin\":true,\"type\":\"pie\"}],\"scatter\":[{\"marker\":{\"colorbar\":{\"outlinewidth\":0,\"ticks\":\"\"}},\"type\":\"scatter\"}],\"scatter3d\":[{\"line\":{\"colorbar\":{\"outlinewidth\":0,\"ticks\":\"\"}},\"marker\":{\"colorbar\":{\"outlinewidth\":0,\"ticks\":\"\"}},\"type\":\"scatter3d\"}],\"scattercarpet\":[{\"marker\":{\"colorbar\":{\"outlinewidth\":0,\"ticks\":\"\"}},\"type\":\"scattercarpet\"}],\"scattergeo\":[{\"marker\":{\"colorbar\":{\"outlinewidth\":0,\"ticks\":\"\"}},\"type\":\"scattergeo\"}],\"scattergl\":[{\"marker\":{\"colorbar\":{\"outlinewidth\":0,\"ticks\":\"\"}},\"type\":\"scattergl\"}],\"scattermapbox\":[{\"marker\":{\"colorbar\":{\"outlinewidth\":0,\"ticks\":\"\"}},\"type\":\"scattermapbox\"}],\"scatterpolar\":[{\"marker\":{\"colorbar\":{\"outlinewidth\":0,\"ticks\":\"\"}},\"type\":\"scatterpolar\"}],\"scatterpolargl\":[{\"marker\":{\"colorbar\":{\"outlinewidth\":0,\"ticks\":\"\"}},\"type\":\"scatterpolargl\"}],\"scatterternary\":[{\"marker\":{\"colorbar\":{\"outlinewidth\":0,\"ticks\":\"\"}},\"type\":\"scatterternary\"}],\"surface\":[{\"colorbar\":{\"outlinewidth\":0,\"ticks\":\"\"},\"colorscale\":[[0.0,\"#0d0887\"],[0.1111111111111111,\"#46039f\"],[0.2222222222222222,\"#7201a8\"],[0.3333333333333333,\"#9c179e\"],[0.4444444444444444,\"#bd3786\"],[0.5555555555555556,\"#d8576b\"],[0.6666666666666666,\"#ed7953\"],[0.7777777777777778,\"#fb9f3a\"],[0.8888888888888888,\"#fdca26\"],[1.0,\"#f0f921\"]],\"type\":\"surface\"}],\"table\":[{\"cells\":{\"fill\":{\"color\":\"#EBF0F8\"},\"line\":{\"color\":\"white\"}},\"header\":{\"fill\":{\"color\":\"#C8D4E3\"},\"line\":{\"color\":\"white\"}},\"type\":\"table\"}]},\"layout\":{\"annotationdefaults\":{\"arrowcolor\":\"#2a3f5f\",\"arrowhead\":0,\"arrowwidth\":1},\"autotypenumbers\":\"strict\",\"coloraxis\":{\"colorbar\":{\"outlinewidth\":0,\"ticks\":\"\"}},\"colorscale\":{\"diverging\":[[0,\"#8e0152\"],[0.1,\"#c51b7d\"],[0.2,\"#de77ae\"],[0.3,\"#f1b6da\"],[0.4,\"#fde0ef\"],[0.5,\"#f7f7f7\"],[0.6,\"#e6f5d0\"],[0.7,\"#b8e186\"],[0.8,\"#7fbc41\"],[0.9,\"#4d9221\"],[1,\"#276419\"]],\"sequential\":[[0.0,\"#0d0887\"],[0.1111111111111111,\"#46039f\"],[0.2222222222222222,\"#7201a8\"],[0.3333333333333333,\"#9c179e\"],[0.4444444444444444,\"#bd3786\"],[0.5555555555555556,\"#d8576b\"],[0.6666666666666666,\"#ed7953\"],[0.7777777777777778,\"#fb9f3a\"],[0.8888888888888888,\"#fdca26\"],[1.0,\"#f0f921\"]],\"sequentialminus\":[[0.0,\"#0d0887\"],[0.1111111111111111,\"#46039f\"],[0.2222222222222222,\"#7201a8\"],[0.3333333333333333,\"#9c179e\"],[0.4444444444444444,\"#bd3786\"],[0.5555555555555556,\"#d8576b\"],[0.6666666666666666,\"#ed7953\"],[0.7777777777777778,\"#fb9f3a\"],[0.8888888888888888,\"#fdca26\"],[1.0,\"#f0f921\"]]},\"colorway\":[\"#636efa\",\"#EF553B\",\"#00cc96\",\"#ab63fa\",\"#FFA15A\",\"#19d3f3\",\"#FF6692\",\"#B6E880\",\"#FF97FF\",\"#FECB52\"],\"font\":{\"color\":\"#2a3f5f\"},\"geo\":{\"bgcolor\":\"white\",\"lakecolor\":\"white\",\"landcolor\":\"#E5ECF6\",\"showlakes\":true,\"showland\":true,\"subunitcolor\":\"white\"},\"hoverlabel\":{\"align\":\"left\"},\"hovermode\":\"closest\",\"mapbox\":{\"style\":\"light\"},\"paper_bgcolor\":\"white\",\"plot_bgcolor\":\"#E5ECF6\",\"polar\":{\"angularaxis\":{\"gridcolor\":\"white\",\"linecolor\":\"white\",\"ticks\":\"\"},\"bgcolor\":\"#E5ECF6\",\"radialaxis\":{\"gridcolor\":\"white\",\"linecolor\":\"white\",\"ticks\":\"\"}},\"scene\":{\"xaxis\":{\"backgroundcolor\":\"#E5ECF6\",\"gridcolor\":\"white\",\"gridwidth\":2,\"linecolor\":\"white\",\"showbackground\":true,\"ticks\":\"\",\"zerolinecolor\":\"white\"},\"yaxis\":{\"backgroundcolor\":\"#E5ECF6\",\"gridcolor\":\"white\",\"gridwidth\":2,\"linecolor\":\"white\",\"showbackground\":true,\"ticks\":\"\",\"zerolinecolor\":\"white\"},\"zaxis\":{\"backgroundcolor\":\"#E5ECF6\",\"gridcolor\":\"white\",\"gridwidth\":2,\"linecolor\":\"white\",\"showbackground\":true,\"ticks\":\"\",\"zerolinecolor\":\"white\"}},\"shapedefaults\":{\"line\":{\"color\":\"#2a3f5f\"}},\"ternary\":{\"aaxis\":{\"gridcolor\":\"white\",\"linecolor\":\"white\",\"ticks\":\"\"},\"baxis\":{\"gridcolor\":\"white\",\"linecolor\":\"white\",\"ticks\":\"\"},\"bgcolor\":\"#E5ECF6\",\"caxis\":{\"gridcolor\":\"white\",\"linecolor\":\"white\",\"ticks\":\"\"}},\"title\":{\"x\":0.05},\"xaxis\":{\"automargin\":true,\"gridcolor\":\"white\",\"linecolor\":\"white\",\"ticks\":\"\",\"title\":{\"standoff\":15},\"zerolinecolor\":\"white\",\"zerolinewidth\":2},\"yaxis\":{\"automargin\":true,\"gridcolor\":\"white\",\"linecolor\":\"white\",\"ticks\":\"\",\"title\":{\"standoff\":15},\"zerolinecolor\":\"white\",\"zerolinewidth\":2}}}},                        {\"responsive\": true}                    ).then(function(){\n",
              "                            \n",
              "var gd = document.getElementById('9680cc71-c6dc-41f0-8bfc-fd0480fc8d93');\n",
              "var x = new MutationObserver(function (mutations, observer) {{\n",
              "        var display = window.getComputedStyle(gd).display;\n",
              "        if (!display || display === 'none') {{\n",
              "            console.log([gd, 'removed!']);\n",
              "            Plotly.purge(gd);\n",
              "            observer.disconnect();\n",
              "        }}\n",
              "}});\n",
              "\n",
              "// Listen for the removal of the full notebook cells\n",
              "var notebookContainer = gd.closest('#notebook-container');\n",
              "if (notebookContainer) {{\n",
              "    x.observe(notebookContainer, {childList: true});\n",
              "}}\n",
              "\n",
              "// Listen for the clearing of the current output cell\n",
              "var outputEl = gd.closest('.output');\n",
              "if (outputEl) {{\n",
              "    x.observe(outputEl, {childList: true});\n",
              "}}\n",
              "\n",
              "                        })                };                            </script>        </div>\n",
              "</body>\n",
              "</html>"
            ]
          },
          "metadata": {}
        }
      ]
    },
    {
      "cell_type": "code",
      "source": [
        "plot_contour(study)\n"
      ],
      "metadata": {
        "colab": {
          "base_uri": "https://localhost:8080/",
          "height": 542
        },
        "id": "NgAJCVq3OEgC",
        "outputId": "41eab391-05b5-4821-b8fb-9509b9a91b6a"
      },
      "execution_count": 36,
      "outputs": [
        {
          "output_type": "display_data",
          "data": {
            "text/html": [
              "<html>\n",
              "<head><meta charset=\"utf-8\" /></head>\n",
              "<body>\n",
              "    <div>            <script src=\"https://cdnjs.cloudflare.com/ajax/libs/mathjax/2.7.5/MathJax.js?config=TeX-AMS-MML_SVG\"></script><script type=\"text/javascript\">if (window.MathJax) {MathJax.Hub.Config({SVG: {font: \"STIX-Web\"}});}</script>                <script type=\"text/javascript\">window.PlotlyConfig = {MathJaxConfig: 'local'};</script>\n",
              "        <script src=\"https://cdn.plot.ly/plotly-2.8.3.min.js\"></script>                <div id=\"0786d7cc-ec2b-4fa1-93fd-8227c043101b\" class=\"plotly-graph-div\" style=\"height:525px; width:100%;\"></div>            <script type=\"text/javascript\">                                    window.PLOTLYENV=window.PLOTLYENV || {};                                    if (document.getElementById(\"0786d7cc-ec2b-4fa1-93fd-8227c043101b\")) {                    Plotly.newPlot(                        \"0786d7cc-ec2b-4fa1-93fd-8227c043101b\",                        [{\"type\":\"scatter\",\"xaxis\":\"x\",\"yaxis\":\"y\"},{\"colorbar\":{\"title\":{\"text\":\"Objective Value\"}},\"colorscale\":[[0.0,\"rgb(247,251,255)\"],[0.125,\"rgb(222,235,247)\"],[0.25,\"rgb(198,219,239)\"],[0.375,\"rgb(158,202,225)\"],[0.5,\"rgb(107,174,214)\"],[0.625,\"rgb(66,146,198)\"],[0.75,\"rgb(33,113,181)\"],[0.875,\"rgb(8,81,156)\"],[1.0,\"rgb(8,48,107)\"]],\"connectgaps\":true,\"contours\":{\"coloring\":\"heatmap\"},\"hoverinfo\":\"none\",\"line\":{\"smoothing\":1.3},\"reversescale\":false,\"showscale\":true,\"x\":[\"GRU\",\"LSTM\"],\"y\":[0.8,1,5,5.2],\"z\":[[null,null],[0.8719204697344038,0.8714451061354743],[0.8772631453143226,0.8608527614010705],[null,null]],\"type\":\"contour\",\"xaxis\":\"x8\",\"yaxis\":\"y8\"},{\"marker\":{\"color\":\"black\",\"line\":{\"color\":\"Grey\",\"width\":2.0}},\"mode\":\"markers\",\"showlegend\":false,\"x\":[\"LSTM\",\"GRU\",\"LSTM\",\"LSTM\",\"LSTM\",\"GRU\",\"LSTM\",\"GRU\",\"LSTM\",\"LSTM\",\"LSTM\",\"GRU\",\"GRU\",\"GRU\",\"GRU\",\"GRU\",\"GRU\",\"GRU\",\"GRU\",\"GRU\",\"GRU\",\"GRU\",\"GRU\",\"GRU\",\"GRU\",\"GRU\",\"GRU\",\"GRU\",\"GRU\",\"GRU\",\"GRU\",\"GRU\",\"GRU\",\"GRU\",\"GRU\"],\"y\":[5,1,5,1,1,1,1,1,1,5,1,1,1,1,5,5,5,5,5,5,5,5,5,5,5,5,5,5,5,5,5,5,5,5,5],\"type\":\"scatter\",\"xaxis\":\"x8\",\"yaxis\":\"y8\"},{\"colorbar\":{\"title\":{\"text\":\"Objective Value\"}},\"colorscale\":[[0.0,\"rgb(247,251,255)\"],[0.125,\"rgb(222,235,247)\"],[0.25,\"rgb(198,219,239)\"],[0.375,\"rgb(158,202,225)\"],[0.5,\"rgb(107,174,214)\"],[0.625,\"rgb(66,146,198)\"],[0.75,\"rgb(33,113,181)\"],[0.875,\"rgb(8,81,156)\"],[1.0,\"rgb(8,48,107)\"]],\"connectgaps\":true,\"contours\":{\"coloring\":\"heatmap\"},\"hoverinfo\":\"none\",\"line\":{\"smoothing\":1.3},\"reversescale\":false,\"showscale\":false,\"x\":[\"GRU\",\"LSTM\"],\"y\":[0.27999999999999997,0.3,0.5,0.7,0.72],\"z\":[[null,null],[0.8719204697344038,0.8523272160026762],[0.8714864419566261,0.8714451061354743],[0.8772631453143226,0.8608527614010705],[null,null]],\"type\":\"contour\",\"xaxis\":\"x15\",\"yaxis\":\"y15\"},{\"marker\":{\"color\":\"black\",\"line\":{\"color\":\"Grey\",\"width\":2.0}},\"mode\":\"markers\",\"showlegend\":false,\"x\":[\"LSTM\",\"GRU\",\"LSTM\",\"LSTM\",\"LSTM\",\"GRU\",\"LSTM\",\"GRU\",\"LSTM\",\"LSTM\",\"LSTM\",\"GRU\",\"GRU\",\"GRU\",\"GRU\",\"GRU\",\"GRU\",\"GRU\",\"GRU\",\"GRU\",\"GRU\",\"GRU\",\"GRU\",\"GRU\",\"GRU\",\"GRU\",\"GRU\",\"GRU\",\"GRU\",\"GRU\",\"GRU\",\"GRU\",\"GRU\",\"GRU\",\"GRU\"],\"y\":[0.5,0.3,0.3,0.5,0.3,0.5,0.5,0.5,0.7,0.7,0.5,0.3,0.3,0.3,0.7,0.7,0.7,0.7,0.7,0.7,0.7,0.7,0.7,0.7,0.7,0.7,0.7,0.7,0.7,0.7,0.7,0.7,0.7,0.7,0.7],\"type\":\"scatter\",\"xaxis\":\"x15\",\"yaxis\":\"y15\"},{\"colorbar\":{\"title\":{\"text\":\"Objective Value\"}},\"colorscale\":[[0.0,\"rgb(247,251,255)\"],[0.125,\"rgb(222,235,247)\"],[0.25,\"rgb(198,219,239)\"],[0.375,\"rgb(158,202,225)\"],[0.5,\"rgb(107,174,214)\"],[0.625,\"rgb(66,146,198)\"],[0.75,\"rgb(33,113,181)\"],[0.875,\"rgb(8,81,156)\"],[1.0,\"rgb(8,48,107)\"]],\"connectgaps\":true,\"contours\":{\"coloring\":\"heatmap\"},\"hoverinfo\":\"none\",\"line\":{\"smoothing\":1.3},\"reversescale\":false,\"showscale\":false,\"x\":[\"GRU\",\"LSTM\"],\"y\":[2.75,3,5,8,8.25],\"z\":[[null,null],[0.8772631453143226,0.8714451061354743],[0.8719204697344038,0.8762607475121816],[0.8686652614010705,0.8608527614010705],[null,null]],\"type\":\"contour\",\"xaxis\":\"x22\",\"yaxis\":\"y22\"},{\"marker\":{\"color\":\"black\",\"line\":{\"color\":\"Grey\",\"width\":2.0}},\"mode\":\"markers\",\"showlegend\":false,\"x\":[\"LSTM\",\"GRU\",\"LSTM\",\"LSTM\",\"LSTM\",\"GRU\",\"LSTM\",\"GRU\",\"LSTM\",\"LSTM\",\"LSTM\",\"GRU\",\"GRU\",\"GRU\",\"GRU\",\"GRU\",\"GRU\",\"GRU\",\"GRU\",\"GRU\",\"GRU\",\"GRU\",\"GRU\",\"GRU\",\"GRU\",\"GRU\",\"GRU\",\"GRU\",\"GRU\",\"GRU\",\"GRU\",\"GRU\",\"GRU\",\"GRU\",\"GRU\"],\"y\":[5,5,8,8,8,8,5,5,8,8,3,5,5,5,3,3,3,3,3,3,3,3,3,3,3,3,3,3,3,3,3,3,3,3,3],\"type\":\"scatter\",\"xaxis\":\"x22\",\"yaxis\":\"y22\"},{\"colorbar\":{\"title\":{\"text\":\"Objective Value\"}},\"colorscale\":[[0.0,\"rgb(247,251,255)\"],[0.125,\"rgb(222,235,247)\"],[0.25,\"rgb(198,219,239)\"],[0.375,\"rgb(158,202,225)\"],[0.5,\"rgb(107,174,214)\"],[0.625,\"rgb(66,146,198)\"],[0.75,\"rgb(33,113,181)\"],[0.875,\"rgb(8,81,156)\"],[1.0,\"rgb(8,48,107)\"]],\"connectgaps\":true,\"contours\":{\"coloring\":\"heatmap\"},\"hoverinfo\":\"none\",\"line\":{\"smoothing\":1.3},\"reversescale\":false,\"showscale\":false,\"x\":[\"GRU\",\"LSTM\"],\"y\":[6.799999999999999,16,32,64,200,209.2],\"z\":[[null,null],[0.8772631453143226,0.8714451061354743],[0.8842902614010705,0.8523272160026762],[0.8719204697344038,0.854910714758767],[0.8709077388048172,0.8608527614010705],[null,null]],\"type\":\"contour\",\"xaxis\":\"x29\",\"yaxis\":\"y29\"},{\"marker\":{\"color\":\"black\",\"line\":{\"color\":\"Grey\",\"width\":2.0}},\"mode\":\"markers\",\"showlegend\":false,\"x\":[\"LSTM\",\"GRU\",\"LSTM\",\"LSTM\",\"LSTM\",\"GRU\",\"LSTM\",\"GRU\",\"LSTM\",\"LSTM\",\"LSTM\",\"GRU\",\"GRU\",\"GRU\",\"GRU\",\"GRU\",\"GRU\",\"GRU\",\"GRU\",\"GRU\",\"GRU\",\"GRU\",\"GRU\",\"GRU\",\"GRU\",\"GRU\",\"GRU\",\"GRU\",\"GRU\",\"GRU\",\"GRU\",\"GRU\",\"GRU\",\"GRU\",\"GRU\"],\"y\":[16,200,64,32,32,64,64,32,64,200,16,200,200,64,200,200,200,200,200,200,16,200,200,200,200,200,200,200,16,32,16,16,16,16,16],\"type\":\"scatter\",\"xaxis\":\"x29\",\"yaxis\":\"y29\"},{\"colorbar\":{\"title\":{\"text\":\"Objective Value\"}},\"colorscale\":[[0.0,\"rgb(247,251,255)\"],[0.125,\"rgb(222,235,247)\"],[0.25,\"rgb(198,219,239)\"],[0.375,\"rgb(158,202,225)\"],[0.5,\"rgb(107,174,214)\"],[0.625,\"rgb(66,146,198)\"],[0.75,\"rgb(33,113,181)\"],[0.875,\"rgb(8,81,156)\"],[1.0,\"rgb(8,48,107)\"]],\"connectgaps\":true,\"contours\":{\"coloring\":\"heatmap\"},\"hoverinfo\":\"none\",\"line\":{\"smoothing\":1.3},\"reversescale\":false,\"showscale\":false,\"x\":[\"GRU\",\"LSTM\"],\"y\":[1.9,2,3,4,4.1],\"z\":[[null,null],[0.8719204697344038,0.8734395669566261],[0.8714864419566261,0.8714451061354743],[0.8772631453143226,0.8608527614010705],[null,null]],\"type\":\"contour\",\"xaxis\":\"x36\",\"yaxis\":\"y36\"},{\"marker\":{\"color\":\"black\",\"line\":{\"color\":\"Grey\",\"width\":2.0}},\"mode\":\"markers\",\"showlegend\":false,\"x\":[\"LSTM\",\"GRU\",\"LSTM\",\"LSTM\",\"LSTM\",\"GRU\",\"LSTM\",\"GRU\",\"LSTM\",\"LSTM\",\"LSTM\",\"GRU\",\"GRU\",\"GRU\",\"GRU\",\"GRU\",\"GRU\",\"GRU\",\"GRU\",\"GRU\",\"GRU\",\"GRU\",\"GRU\",\"GRU\",\"GRU\",\"GRU\",\"GRU\",\"GRU\",\"GRU\",\"GRU\",\"GRU\",\"GRU\",\"GRU\",\"GRU\",\"GRU\"],\"y\":[2,2,2,3,3,3,3,3,4,4,3,2,2,2,4,4,4,4,4,4,4,4,4,4,4,4,4,4,4,4,4,4,4,4,4],\"type\":\"scatter\",\"xaxis\":\"x36\",\"yaxis\":\"y36\"},{\"colorbar\":{\"title\":{\"text\":\"Objective Value\"}},\"colorscale\":[[0.0,\"rgb(247,251,255)\"],[0.125,\"rgb(222,235,247)\"],[0.25,\"rgb(198,219,239)\"],[0.375,\"rgb(158,202,225)\"],[0.5,\"rgb(107,174,214)\"],[0.625,\"rgb(66,146,198)\"],[0.75,\"rgb(33,113,181)\"],[0.875,\"rgb(8,81,156)\"],[1.0,\"rgb(8,48,107)\"]],\"connectgaps\":true,\"contours\":{\"coloring\":\"heatmap\"},\"hoverinfo\":\"none\",\"line\":{\"smoothing\":1.3},\"reversescale\":false,\"showscale\":false,\"x\":[\"GRU\",\"LSTM\"],\"y\":[-0.1,0,1,2,2.1],\"z\":[[null,null],[0.8772631453143226,null],[0.8771288030677371,0.854910714758767],[0.8719204697344038,0.8714451061354743],[null,null]],\"type\":\"contour\",\"xaxis\":\"x43\",\"yaxis\":\"y43\"},{\"marker\":{\"color\":\"black\",\"line\":{\"color\":\"Grey\",\"width\":2.0}},\"mode\":\"markers\",\"showlegend\":false,\"x\":[\"LSTM\",\"GRU\",\"LSTM\",\"LSTM\",\"LSTM\",\"GRU\",\"LSTM\",\"GRU\",\"LSTM\",\"LSTM\",\"LSTM\",\"GRU\",\"GRU\",\"GRU\",\"GRU\",\"GRU\",\"GRU\",\"GRU\",\"GRU\",\"GRU\",\"GRU\",\"GRU\",\"GRU\",\"GRU\",\"GRU\",\"GRU\",\"GRU\",\"GRU\",\"GRU\",\"GRU\",\"GRU\",\"GRU\",\"GRU\",\"GRU\",\"GRU\"],\"y\":[2,1,2,1,1,0,2,0,1,2,2,1,1,2,0,0,0,0,0,0,0,0,0,0,0,0,0,0,0,0,0,0,0,0,0],\"type\":\"scatter\",\"xaxis\":\"x43\",\"yaxis\":\"y43\"},{\"colorbar\":{\"title\":{\"text\":\"Objective Value\"}},\"colorscale\":[[0.0,\"rgb(247,251,255)\"],[0.125,\"rgb(222,235,247)\"],[0.25,\"rgb(198,219,239)\"],[0.375,\"rgb(158,202,225)\"],[0.5,\"rgb(107,174,214)\"],[0.625,\"rgb(66,146,198)\"],[0.75,\"rgb(33,113,181)\"],[0.875,\"rgb(8,81,156)\"],[1.0,\"rgb(8,48,107)\"]],\"connectgaps\":true,\"contours\":{\"coloring\":\"heatmap\"},\"hoverinfo\":\"none\",\"line\":{\"smoothing\":1.3},\"reversescale\":false,\"showscale\":false,\"x\":[0.8,1,5,5.2],\"y\":[\"GRU\",\"LSTM\"],\"z\":[[null,0.8719204697344038,0.8772631453143226,null],[null,0.8714451061354743,0.8608527614010705,null]],\"type\":\"contour\",\"xaxis\":\"x2\",\"yaxis\":\"y2\"},{\"marker\":{\"color\":\"black\",\"line\":{\"color\":\"Grey\",\"width\":2.0}},\"mode\":\"markers\",\"showlegend\":false,\"x\":[5,1,5,1,1,1,1,1,1,5,1,1,1,1,5,5,5,5,5,5,5,5,5,5,5,5,5,5,5,5,5,5,5,5,5],\"y\":[\"LSTM\",\"GRU\",\"LSTM\",\"LSTM\",\"LSTM\",\"GRU\",\"LSTM\",\"GRU\",\"LSTM\",\"LSTM\",\"LSTM\",\"GRU\",\"GRU\",\"GRU\",\"GRU\",\"GRU\",\"GRU\",\"GRU\",\"GRU\",\"GRU\",\"GRU\",\"GRU\",\"GRU\",\"GRU\",\"GRU\",\"GRU\",\"GRU\",\"GRU\",\"GRU\",\"GRU\",\"GRU\",\"GRU\",\"GRU\",\"GRU\",\"GRU\"],\"type\":\"scatter\",\"xaxis\":\"x2\",\"yaxis\":\"y2\"},{\"type\":\"scatter\",\"xaxis\":\"x9\",\"yaxis\":\"y9\"},{\"colorbar\":{\"title\":{\"text\":\"Objective Value\"}},\"colorscale\":[[0.0,\"rgb(247,251,255)\"],[0.125,\"rgb(222,235,247)\"],[0.25,\"rgb(198,219,239)\"],[0.375,\"rgb(158,202,225)\"],[0.5,\"rgb(107,174,214)\"],[0.625,\"rgb(66,146,198)\"],[0.75,\"rgb(33,113,181)\"],[0.875,\"rgb(8,81,156)\"],[1.0,\"rgb(8,48,107)\"]],\"connectgaps\":true,\"contours\":{\"coloring\":\"heatmap\"},\"hoverinfo\":\"none\",\"line\":{\"smoothing\":1.3},\"reversescale\":false,\"showscale\":false,\"x\":[0.8,1,5,5.2],\"y\":[0.27999999999999997,0.3,0.5,0.7,0.72],\"z\":[[null,null,null,null],[null,0.8719204697344038,0.8734395669566261,null],[null,0.8714451061354743,0.8725508434904946,null],[null,0.854910714758767,0.8772631453143226,null],[null,null,null,null]],\"type\":\"contour\",\"xaxis\":\"x16\",\"yaxis\":\"y16\"},{\"marker\":{\"color\":\"black\",\"line\":{\"color\":\"Grey\",\"width\":2.0}},\"mode\":\"markers\",\"showlegend\":false,\"x\":[5,1,5,1,1,1,1,1,1,5,1,1,1,1,5,5,5,5,5,5,5,5,5,5,5,5,5,5,5,5,5,5,5,5,5],\"y\":[0.5,0.3,0.3,0.5,0.3,0.5,0.5,0.5,0.7,0.7,0.5,0.3,0.3,0.3,0.7,0.7,0.7,0.7,0.7,0.7,0.7,0.7,0.7,0.7,0.7,0.7,0.7,0.7,0.7,0.7,0.7,0.7,0.7,0.7,0.7],\"type\":\"scatter\",\"xaxis\":\"x16\",\"yaxis\":\"y16\"},{\"colorbar\":{\"title\":{\"text\":\"Objective Value\"}},\"colorscale\":[[0.0,\"rgb(247,251,255)\"],[0.125,\"rgb(222,235,247)\"],[0.25,\"rgb(198,219,239)\"],[0.375,\"rgb(158,202,225)\"],[0.5,\"rgb(107,174,214)\"],[0.625,\"rgb(66,146,198)\"],[0.75,\"rgb(33,113,181)\"],[0.875,\"rgb(8,81,156)\"],[1.0,\"rgb(8,48,107)\"]],\"connectgaps\":true,\"contours\":{\"coloring\":\"heatmap\"},\"hoverinfo\":\"none\",\"line\":{\"smoothing\":1.3},\"reversescale\":false,\"showscale\":false,\"x\":[0.8,1,5,5.2],\"y\":[2.75,3,5,8,8.25],\"z\":[[null,null,null,null],[null,0.8714451061354743,0.8772631453143226,null],[null,0.8719204697344038,0.8725508434904946,null],[null,0.854910714758767,0.8608527614010705,null],[null,null,null,null]],\"type\":\"contour\",\"xaxis\":\"x23\",\"yaxis\":\"y23\"},{\"marker\":{\"color\":\"black\",\"line\":{\"color\":\"Grey\",\"width\":2.0}},\"mode\":\"markers\",\"showlegend\":false,\"x\":[5,1,5,1,1,1,1,1,1,5,1,1,1,1,5,5,5,5,5,5,5,5,5,5,5,5,5,5,5,5,5,5,5,5,5],\"y\":[5,5,8,8,8,8,5,5,8,8,3,5,5,5,3,3,3,3,3,3,3,3,3,3,3,3,3,3,3,3,3,3,3,3,3],\"type\":\"scatter\",\"xaxis\":\"x23\",\"yaxis\":\"y23\"},{\"colorbar\":{\"title\":{\"text\":\"Objective Value\"}},\"colorscale\":[[0.0,\"rgb(247,251,255)\"],[0.125,\"rgb(222,235,247)\"],[0.25,\"rgb(198,219,239)\"],[0.375,\"rgb(158,202,225)\"],[0.5,\"rgb(107,174,214)\"],[0.625,\"rgb(66,146,198)\"],[0.75,\"rgb(33,113,181)\"],[0.875,\"rgb(8,81,156)\"],[1.0,\"rgb(8,48,107)\"]],\"connectgaps\":true,\"contours\":{\"coloring\":\"heatmap\"},\"hoverinfo\":\"none\",\"line\":{\"smoothing\":1.3},\"reversescale\":false,\"showscale\":false,\"x\":[0.8,1,5,5.2],\"y\":[6.799999999999999,16,32,64,200,209.2],\"z\":[[null,null,null,null],[null,0.8714451061354743,0.8772631453143226,null],[null,0.8714864419566261,0.8842902614010705,null],[null,0.8719204697344038,0.8734395669566261,null],[null,0.8771288030677371,0.8709077388048172,null],[null,null,null,null]],\"type\":\"contour\",\"xaxis\":\"x30\",\"yaxis\":\"y30\"},{\"marker\":{\"color\":\"black\",\"line\":{\"color\":\"Grey\",\"width\":2.0}},\"mode\":\"markers\",\"showlegend\":false,\"x\":[5,1,5,1,1,1,1,1,1,5,1,1,1,1,5,5,5,5,5,5,5,5,5,5,5,5,5,5,5,5,5,5,5,5,5],\"y\":[16,200,64,32,32,64,64,32,64,200,16,200,200,64,200,200,200,200,200,200,16,200,200,200,200,200,200,200,16,32,16,16,16,16,16],\"type\":\"scatter\",\"xaxis\":\"x30\",\"yaxis\":\"y30\"},{\"colorbar\":{\"title\":{\"text\":\"Objective Value\"}},\"colorscale\":[[0.0,\"rgb(247,251,255)\"],[0.125,\"rgb(222,235,247)\"],[0.25,\"rgb(198,219,239)\"],[0.375,\"rgb(158,202,225)\"],[0.5,\"rgb(107,174,214)\"],[0.625,\"rgb(66,146,198)\"],[0.75,\"rgb(33,113,181)\"],[0.875,\"rgb(8,81,156)\"],[1.0,\"rgb(8,48,107)\"]],\"connectgaps\":true,\"contours\":{\"coloring\":\"heatmap\"},\"hoverinfo\":\"none\",\"line\":{\"smoothing\":1.3},\"reversescale\":false,\"showscale\":false,\"x\":[0.8,1,5,5.2],\"y\":[1.9,2,3,4,4.1],\"z\":[[null,null,null,null],[null,0.8719204697344038,0.8734395669566261,null],[null,0.8714451061354743,null,null],[null,0.854910714758767,0.8772631453143226,null],[null,null,null,null]],\"type\":\"contour\",\"xaxis\":\"x37\",\"yaxis\":\"y37\"},{\"marker\":{\"color\":\"black\",\"line\":{\"color\":\"Grey\",\"width\":2.0}},\"mode\":\"markers\",\"showlegend\":false,\"x\":[5,1,5,1,1,1,1,1,1,5,1,1,1,1,5,5,5,5,5,5,5,5,5,5,5,5,5,5,5,5,5,5,5,5,5],\"y\":[2,2,2,3,3,3,3,3,4,4,3,2,2,2,4,4,4,4,4,4,4,4,4,4,4,4,4,4,4,4,4,4,4,4,4],\"type\":\"scatter\",\"xaxis\":\"x37\",\"yaxis\":\"y37\"},{\"colorbar\":{\"title\":{\"text\":\"Objective Value\"}},\"colorscale\":[[0.0,\"rgb(247,251,255)\"],[0.125,\"rgb(222,235,247)\"],[0.25,\"rgb(198,219,239)\"],[0.375,\"rgb(158,202,225)\"],[0.5,\"rgb(107,174,214)\"],[0.625,\"rgb(66,146,198)\"],[0.75,\"rgb(33,113,181)\"],[0.875,\"rgb(8,81,156)\"],[1.0,\"rgb(8,48,107)\"]],\"connectgaps\":true,\"contours\":{\"coloring\":\"heatmap\"},\"hoverinfo\":\"none\",\"line\":{\"smoothing\":1.3},\"reversescale\":false,\"showscale\":false,\"x\":[0.8,1,5,5.2],\"y\":[-0.1,0,1,2,2.1],\"z\":[[null,null,null,null],[null,0.8714864419566261,0.8772631453143226,null],[null,0.8771288030677371,null,null],[null,0.8719204697344038,0.8608527614010705,null],[null,null,null,null]],\"type\":\"contour\",\"xaxis\":\"x44\",\"yaxis\":\"y44\"},{\"marker\":{\"color\":\"black\",\"line\":{\"color\":\"Grey\",\"width\":2.0}},\"mode\":\"markers\",\"showlegend\":false,\"x\":[5,1,5,1,1,1,1,1,1,5,1,1,1,1,5,5,5,5,5,5,5,5,5,5,5,5,5,5,5,5,5,5,5,5,5],\"y\":[2,1,2,1,1,0,2,0,1,2,2,1,1,2,0,0,0,0,0,0,0,0,0,0,0,0,0,0,0,0,0,0,0,0,0],\"type\":\"scatter\",\"xaxis\":\"x44\",\"yaxis\":\"y44\"},{\"colorbar\":{\"title\":{\"text\":\"Objective Value\"}},\"colorscale\":[[0.0,\"rgb(247,251,255)\"],[0.125,\"rgb(222,235,247)\"],[0.25,\"rgb(198,219,239)\"],[0.375,\"rgb(158,202,225)\"],[0.5,\"rgb(107,174,214)\"],[0.625,\"rgb(66,146,198)\"],[0.75,\"rgb(33,113,181)\"],[0.875,\"rgb(8,81,156)\"],[1.0,\"rgb(8,48,107)\"]],\"connectgaps\":true,\"contours\":{\"coloring\":\"heatmap\"},\"hoverinfo\":\"none\",\"line\":{\"smoothing\":1.3},\"reversescale\":false,\"showscale\":false,\"x\":[0.27999999999999997,0.3,0.5,0.7,0.72],\"y\":[\"GRU\",\"LSTM\"],\"z\":[[null,0.8719204697344038,0.8714864419566261,0.8772631453143226,null],[null,0.8523272160026762,0.8714451061354743,0.8608527614010705,null]],\"type\":\"contour\",\"xaxis\":\"x3\",\"yaxis\":\"y3\"},{\"marker\":{\"color\":\"black\",\"line\":{\"color\":\"Grey\",\"width\":2.0}},\"mode\":\"markers\",\"showlegend\":false,\"x\":[0.5,0.3,0.3,0.5,0.3,0.5,0.5,0.5,0.7,0.7,0.5,0.3,0.3,0.3,0.7,0.7,0.7,0.7,0.7,0.7,0.7,0.7,0.7,0.7,0.7,0.7,0.7,0.7,0.7,0.7,0.7,0.7,0.7,0.7,0.7],\"y\":[\"LSTM\",\"GRU\",\"LSTM\",\"LSTM\",\"LSTM\",\"GRU\",\"LSTM\",\"GRU\",\"LSTM\",\"LSTM\",\"LSTM\",\"GRU\",\"GRU\",\"GRU\",\"GRU\",\"GRU\",\"GRU\",\"GRU\",\"GRU\",\"GRU\",\"GRU\",\"GRU\",\"GRU\",\"GRU\",\"GRU\",\"GRU\",\"GRU\",\"GRU\",\"GRU\",\"GRU\",\"GRU\",\"GRU\",\"GRU\",\"GRU\",\"GRU\"],\"type\":\"scatter\",\"xaxis\":\"x3\",\"yaxis\":\"y3\"},{\"colorbar\":{\"title\":{\"text\":\"Objective Value\"}},\"colorscale\":[[0.0,\"rgb(247,251,255)\"],[0.125,\"rgb(222,235,247)\"],[0.25,\"rgb(198,219,239)\"],[0.375,\"rgb(158,202,225)\"],[0.5,\"rgb(107,174,214)\"],[0.625,\"rgb(66,146,198)\"],[0.75,\"rgb(33,113,181)\"],[0.875,\"rgb(8,81,156)\"],[1.0,\"rgb(8,48,107)\"]],\"connectgaps\":true,\"contours\":{\"coloring\":\"heatmap\"},\"hoverinfo\":\"none\",\"line\":{\"smoothing\":1.3},\"reversescale\":false,\"showscale\":false,\"x\":[0.27999999999999997,0.3,0.5,0.7,0.72],\"y\":[0.8,1,5,5.2],\"z\":[[null,null,null,null,null],[null,0.8719204697344038,0.8714451061354743,0.854910714758767,null],[null,0.8734395669566261,0.8725508434904946,0.8772631453143226,null],[null,null,null,null,null]],\"type\":\"contour\",\"xaxis\":\"x10\",\"yaxis\":\"y10\"},{\"marker\":{\"color\":\"black\",\"line\":{\"color\":\"Grey\",\"width\":2.0}},\"mode\":\"markers\",\"showlegend\":false,\"x\":[0.5,0.3,0.3,0.5,0.3,0.5,0.5,0.5,0.7,0.7,0.5,0.3,0.3,0.3,0.7,0.7,0.7,0.7,0.7,0.7,0.7,0.7,0.7,0.7,0.7,0.7,0.7,0.7,0.7,0.7,0.7,0.7,0.7,0.7,0.7],\"y\":[5,1,5,1,1,1,1,1,1,5,1,1,1,1,5,5,5,5,5,5,5,5,5,5,5,5,5,5,5,5,5,5,5,5,5],\"type\":\"scatter\",\"xaxis\":\"x10\",\"yaxis\":\"y10\"},{\"type\":\"scatter\",\"xaxis\":\"x17\",\"yaxis\":\"y17\"},{\"colorbar\":{\"title\":{\"text\":\"Objective Value\"}},\"colorscale\":[[0.0,\"rgb(247,251,255)\"],[0.125,\"rgb(222,235,247)\"],[0.25,\"rgb(198,219,239)\"],[0.375,\"rgb(158,202,225)\"],[0.5,\"rgb(107,174,214)\"],[0.625,\"rgb(66,146,198)\"],[0.75,\"rgb(33,113,181)\"],[0.875,\"rgb(8,81,156)\"],[1.0,\"rgb(8,48,107)\"]],\"connectgaps\":true,\"contours\":{\"coloring\":\"heatmap\"},\"hoverinfo\":\"none\",\"line\":{\"smoothing\":1.3},\"reversescale\":false,\"showscale\":false,\"x\":[0.27999999999999997,0.3,0.5,0.7,0.72],\"y\":[2.75,3,5,8,8.25],\"z\":[[null,null,null,null,null],[null,null,0.8714451061354743,0.8772631453143226,null],[null,0.8719204697344038,0.8714864419566261,null,null],[null,0.8523272160026762,0.8686652614010705,0.8608527614010705,null],[null,null,null,null,null]],\"type\":\"contour\",\"xaxis\":\"x24\",\"yaxis\":\"y24\"},{\"marker\":{\"color\":\"black\",\"line\":{\"color\":\"Grey\",\"width\":2.0}},\"mode\":\"markers\",\"showlegend\":false,\"x\":[0.5,0.3,0.3,0.5,0.3,0.5,0.5,0.5,0.7,0.7,0.5,0.3,0.3,0.3,0.7,0.7,0.7,0.7,0.7,0.7,0.7,0.7,0.7,0.7,0.7,0.7,0.7,0.7,0.7,0.7,0.7,0.7,0.7,0.7,0.7],\"y\":[5,5,8,8,8,8,5,5,8,8,3,5,5,5,3,3,3,3,3,3,3,3,3,3,3,3,3,3,3,3,3,3,3,3,3],\"type\":\"scatter\",\"xaxis\":\"x24\",\"yaxis\":\"y24\"},{\"colorbar\":{\"title\":{\"text\":\"Objective Value\"}},\"colorscale\":[[0.0,\"rgb(247,251,255)\"],[0.125,\"rgb(222,235,247)\"],[0.25,\"rgb(198,219,239)\"],[0.375,\"rgb(158,202,225)\"],[0.5,\"rgb(107,174,214)\"],[0.625,\"rgb(66,146,198)\"],[0.75,\"rgb(33,113,181)\"],[0.875,\"rgb(8,81,156)\"],[1.0,\"rgb(8,48,107)\"]],\"connectgaps\":true,\"contours\":{\"coloring\":\"heatmap\"},\"hoverinfo\":\"none\",\"line\":{\"smoothing\":1.3},\"reversescale\":false,\"showscale\":false,\"x\":[0.27999999999999997,0.3,0.5,0.7,0.72],\"y\":[6.799999999999999,16,32,64,200,209.2],\"z\":[[null,null,null,null,null],[null,null,0.8714451061354743,0.8772631453143226,null],[null,0.8523272160026762,0.8714864419566261,0.8842902614010705,null],[null,0.8719204697344038,0.8762607475121816,0.854910714758767,null],[null,0.8771288030677371,null,0.8709077388048172,null],[null,null,null,null,null]],\"type\":\"contour\",\"xaxis\":\"x31\",\"yaxis\":\"y31\"},{\"marker\":{\"color\":\"black\",\"line\":{\"color\":\"Grey\",\"width\":2.0}},\"mode\":\"markers\",\"showlegend\":false,\"x\":[0.5,0.3,0.3,0.5,0.3,0.5,0.5,0.5,0.7,0.7,0.5,0.3,0.3,0.3,0.7,0.7,0.7,0.7,0.7,0.7,0.7,0.7,0.7,0.7,0.7,0.7,0.7,0.7,0.7,0.7,0.7,0.7,0.7,0.7,0.7],\"y\":[16,200,64,32,32,64,64,32,64,200,16,200,200,64,200,200,200,200,200,200,16,200,200,200,200,200,200,200,16,32,16,16,16,16,16],\"type\":\"scatter\",\"xaxis\":\"x31\",\"yaxis\":\"y31\"},{\"colorbar\":{\"title\":{\"text\":\"Objective Value\"}},\"colorscale\":[[0.0,\"rgb(247,251,255)\"],[0.125,\"rgb(222,235,247)\"],[0.25,\"rgb(198,219,239)\"],[0.375,\"rgb(158,202,225)\"],[0.5,\"rgb(107,174,214)\"],[0.625,\"rgb(66,146,198)\"],[0.75,\"rgb(33,113,181)\"],[0.875,\"rgb(8,81,156)\"],[1.0,\"rgb(8,48,107)\"]],\"connectgaps\":true,\"contours\":{\"coloring\":\"heatmap\"},\"hoverinfo\":\"none\",\"line\":{\"smoothing\":1.3},\"reversescale\":false,\"showscale\":false,\"x\":[0.27999999999999997,0.3,0.5,0.7,0.72],\"y\":[1.9,2,3,4,4.1],\"z\":[[null,null,null,null,null],[null,0.8719204697344038,0.8725508434904946,null,null],[null,0.8523272160026762,0.8714451061354743,null,null],[null,null,null,0.8772631453143226,null],[null,null,null,null,null]],\"type\":\"contour\",\"xaxis\":\"x38\",\"yaxis\":\"y38\"},{\"marker\":{\"color\":\"black\",\"line\":{\"color\":\"Grey\",\"width\":2.0}},\"mode\":\"markers\",\"showlegend\":false,\"x\":[0.5,0.3,0.3,0.5,0.3,0.5,0.5,0.5,0.7,0.7,0.5,0.3,0.3,0.3,0.7,0.7,0.7,0.7,0.7,0.7,0.7,0.7,0.7,0.7,0.7,0.7,0.7,0.7,0.7,0.7,0.7,0.7,0.7,0.7,0.7],\"y\":[2,2,2,3,3,3,3,3,4,4,3,2,2,2,4,4,4,4,4,4,4,4,4,4,4,4,4,4,4,4,4,4,4,4,4],\"type\":\"scatter\",\"xaxis\":\"x38\",\"yaxis\":\"y38\"},{\"colorbar\":{\"title\":{\"text\":\"Objective Value\"}},\"colorscale\":[[0.0,\"rgb(247,251,255)\"],[0.125,\"rgb(222,235,247)\"],[0.25,\"rgb(198,219,239)\"],[0.375,\"rgb(158,202,225)\"],[0.5,\"rgb(107,174,214)\"],[0.625,\"rgb(66,146,198)\"],[0.75,\"rgb(33,113,181)\"],[0.875,\"rgb(8,81,156)\"],[1.0,\"rgb(8,48,107)\"]],\"connectgaps\":true,\"contours\":{\"coloring\":\"heatmap\"},\"hoverinfo\":\"none\",\"line\":{\"smoothing\":1.3},\"reversescale\":false,\"showscale\":false,\"x\":[0.27999999999999997,0.3,0.5,0.7,0.72],\"y\":[-0.1,0,1,2,2.1],\"z\":[[null,null,null,null,null],[null,null,0.8714864419566261,0.8772631453143226,null],[null,0.8771288030677371,0.8605530758698782,0.854910714758767,null],[null,0.8719204697344038,0.8714451061354743,0.8608527614010705,null],[null,null,null,null,null]],\"type\":\"contour\",\"xaxis\":\"x45\",\"yaxis\":\"y45\"},{\"marker\":{\"color\":\"black\",\"line\":{\"color\":\"Grey\",\"width\":2.0}},\"mode\":\"markers\",\"showlegend\":false,\"x\":[0.5,0.3,0.3,0.5,0.3,0.5,0.5,0.5,0.7,0.7,0.5,0.3,0.3,0.3,0.7,0.7,0.7,0.7,0.7,0.7,0.7,0.7,0.7,0.7,0.7,0.7,0.7,0.7,0.7,0.7,0.7,0.7,0.7,0.7,0.7],\"y\":[2,1,2,1,1,0,2,0,1,2,2,1,1,2,0,0,0,0,0,0,0,0,0,0,0,0,0,0,0,0,0,0,0,0,0],\"type\":\"scatter\",\"xaxis\":\"x45\",\"yaxis\":\"y45\"},{\"colorbar\":{\"title\":{\"text\":\"Objective Value\"}},\"colorscale\":[[0.0,\"rgb(247,251,255)\"],[0.125,\"rgb(222,235,247)\"],[0.25,\"rgb(198,219,239)\"],[0.375,\"rgb(158,202,225)\"],[0.5,\"rgb(107,174,214)\"],[0.625,\"rgb(66,146,198)\"],[0.75,\"rgb(33,113,181)\"],[0.875,\"rgb(8,81,156)\"],[1.0,\"rgb(8,48,107)\"]],\"connectgaps\":true,\"contours\":{\"coloring\":\"heatmap\"},\"hoverinfo\":\"none\",\"line\":{\"smoothing\":1.3},\"reversescale\":false,\"showscale\":false,\"x\":[2.75,3,5,8,8.25],\"y\":[\"GRU\",\"LSTM\"],\"z\":[[null,0.8772631453143226,0.8719204697344038,0.8686652614010705,null],[null,0.8714451061354743,0.8762607475121816,0.8608527614010705,null]],\"type\":\"contour\",\"xaxis\":\"x4\",\"yaxis\":\"y4\"},{\"marker\":{\"color\":\"black\",\"line\":{\"color\":\"Grey\",\"width\":2.0}},\"mode\":\"markers\",\"showlegend\":false,\"x\":[5,5,8,8,8,8,5,5,8,8,3,5,5,5,3,3,3,3,3,3,3,3,3,3,3,3,3,3,3,3,3,3,3,3,3],\"y\":[\"LSTM\",\"GRU\",\"LSTM\",\"LSTM\",\"LSTM\",\"GRU\",\"LSTM\",\"GRU\",\"LSTM\",\"LSTM\",\"LSTM\",\"GRU\",\"GRU\",\"GRU\",\"GRU\",\"GRU\",\"GRU\",\"GRU\",\"GRU\",\"GRU\",\"GRU\",\"GRU\",\"GRU\",\"GRU\",\"GRU\",\"GRU\",\"GRU\",\"GRU\",\"GRU\",\"GRU\",\"GRU\",\"GRU\",\"GRU\",\"GRU\",\"GRU\"],\"type\":\"scatter\",\"xaxis\":\"x4\",\"yaxis\":\"y4\"},{\"colorbar\":{\"title\":{\"text\":\"Objective Value\"}},\"colorscale\":[[0.0,\"rgb(247,251,255)\"],[0.125,\"rgb(222,235,247)\"],[0.25,\"rgb(198,219,239)\"],[0.375,\"rgb(158,202,225)\"],[0.5,\"rgb(107,174,214)\"],[0.625,\"rgb(66,146,198)\"],[0.75,\"rgb(33,113,181)\"],[0.875,\"rgb(8,81,156)\"],[1.0,\"rgb(8,48,107)\"]],\"connectgaps\":true,\"contours\":{\"coloring\":\"heatmap\"},\"hoverinfo\":\"none\",\"line\":{\"smoothing\":1.3},\"reversescale\":false,\"showscale\":false,\"x\":[2.75,3,5,8,8.25],\"y\":[0.8,1,5,5.2],\"z\":[[null,null,null,null,null],[null,0.8714451061354743,0.8719204697344038,0.854910714758767,null],[null,0.8772631453143226,0.8725508434904946,0.8608527614010705,null],[null,null,null,null,null]],\"type\":\"contour\",\"xaxis\":\"x11\",\"yaxis\":\"y11\"},{\"marker\":{\"color\":\"black\",\"line\":{\"color\":\"Grey\",\"width\":2.0}},\"mode\":\"markers\",\"showlegend\":false,\"x\":[5,5,8,8,8,8,5,5,8,8,3,5,5,5,3,3,3,3,3,3,3,3,3,3,3,3,3,3,3,3,3,3,3,3,3],\"y\":[5,1,5,1,1,1,1,1,1,5,1,1,1,1,5,5,5,5,5,5,5,5,5,5,5,5,5,5,5,5,5,5,5,5,5],\"type\":\"scatter\",\"xaxis\":\"x11\",\"yaxis\":\"y11\"},{\"colorbar\":{\"title\":{\"text\":\"Objective Value\"}},\"colorscale\":[[0.0,\"rgb(247,251,255)\"],[0.125,\"rgb(222,235,247)\"],[0.25,\"rgb(198,219,239)\"],[0.375,\"rgb(158,202,225)\"],[0.5,\"rgb(107,174,214)\"],[0.625,\"rgb(66,146,198)\"],[0.75,\"rgb(33,113,181)\"],[0.875,\"rgb(8,81,156)\"],[1.0,\"rgb(8,48,107)\"]],\"connectgaps\":true,\"contours\":{\"coloring\":\"heatmap\"},\"hoverinfo\":\"none\",\"line\":{\"smoothing\":1.3},\"reversescale\":false,\"showscale\":false,\"x\":[2.75,3,5,8,8.25],\"y\":[0.27999999999999997,0.3,0.5,0.7,0.72],\"z\":[[null,null,null,null,null],[null,null,0.8719204697344038,0.8523272160026762,null],[null,0.8714451061354743,0.8714864419566261,0.8686652614010705,null],[null,0.8772631453143226,null,0.8608527614010705,null],[null,null,null,null,null]],\"type\":\"contour\",\"xaxis\":\"x18\",\"yaxis\":\"y18\"},{\"marker\":{\"color\":\"black\",\"line\":{\"color\":\"Grey\",\"width\":2.0}},\"mode\":\"markers\",\"showlegend\":false,\"x\":[5,5,8,8,8,8,5,5,8,8,3,5,5,5,3,3,3,3,3,3,3,3,3,3,3,3,3,3,3,3,3,3,3,3,3],\"y\":[0.5,0.3,0.3,0.5,0.3,0.5,0.5,0.5,0.7,0.7,0.5,0.3,0.3,0.3,0.7,0.7,0.7,0.7,0.7,0.7,0.7,0.7,0.7,0.7,0.7,0.7,0.7,0.7,0.7,0.7,0.7,0.7,0.7,0.7,0.7],\"type\":\"scatter\",\"xaxis\":\"x18\",\"yaxis\":\"y18\"},{\"type\":\"scatter\",\"xaxis\":\"x25\",\"yaxis\":\"y25\"},{\"colorbar\":{\"title\":{\"text\":\"Objective Value\"}},\"colorscale\":[[0.0,\"rgb(247,251,255)\"],[0.125,\"rgb(222,235,247)\"],[0.25,\"rgb(198,219,239)\"],[0.375,\"rgb(158,202,225)\"],[0.5,\"rgb(107,174,214)\"],[0.625,\"rgb(66,146,198)\"],[0.75,\"rgb(33,113,181)\"],[0.875,\"rgb(8,81,156)\"],[1.0,\"rgb(8,48,107)\"]],\"connectgaps\":true,\"contours\":{\"coloring\":\"heatmap\"},\"hoverinfo\":\"none\",\"line\":{\"smoothing\":1.3},\"reversescale\":false,\"showscale\":false,\"x\":[2.75,3,5,8,8.25],\"y\":[6.799999999999999,16,32,64,200,209.2],\"z\":[[null,null,null,null,null],[null,0.8772631453143226,0.8725508434904946,null,null],[null,0.8842902614010705,0.8714864419566261,0.8523272160026762,null],[null,null,0.8719204697344038,0.854910714758767,null],[null,0.8709077388048172,0.8771288030677371,0.8608527614010705,null],[null,null,null,null,null]],\"type\":\"contour\",\"xaxis\":\"x32\",\"yaxis\":\"y32\"},{\"marker\":{\"color\":\"black\",\"line\":{\"color\":\"Grey\",\"width\":2.0}},\"mode\":\"markers\",\"showlegend\":false,\"x\":[5,5,8,8,8,8,5,5,8,8,3,5,5,5,3,3,3,3,3,3,3,3,3,3,3,3,3,3,3,3,3,3,3,3,3],\"y\":[16,200,64,32,32,64,64,32,64,200,16,200,200,64,200,200,200,200,200,200,16,200,200,200,200,200,200,200,16,32,16,16,16,16,16],\"type\":\"scatter\",\"xaxis\":\"x32\",\"yaxis\":\"y32\"},{\"colorbar\":{\"title\":{\"text\":\"Objective Value\"}},\"colorscale\":[[0.0,\"rgb(247,251,255)\"],[0.125,\"rgb(222,235,247)\"],[0.25,\"rgb(198,219,239)\"],[0.375,\"rgb(158,202,225)\"],[0.5,\"rgb(107,174,214)\"],[0.625,\"rgb(66,146,198)\"],[0.75,\"rgb(33,113,181)\"],[0.875,\"rgb(8,81,156)\"],[1.0,\"rgb(8,48,107)\"]],\"connectgaps\":true,\"contours\":{\"coloring\":\"heatmap\"},\"hoverinfo\":\"none\",\"line\":{\"smoothing\":1.3},\"reversescale\":false,\"showscale\":false,\"x\":[2.75,3,5,8,8.25],\"y\":[1.9,2,3,4,4.1],\"z\":[[null,null,null,null,null],[null,null,0.8719204697344038,0.8734395669566261,null],[null,0.8714451061354743,0.8714864419566261,0.8686652614010705,null],[null,0.8772631453143226,null,0.8608527614010705,null],[null,null,null,null,null]],\"type\":\"contour\",\"xaxis\":\"x39\",\"yaxis\":\"y39\"},{\"marker\":{\"color\":\"black\",\"line\":{\"color\":\"Grey\",\"width\":2.0}},\"mode\":\"markers\",\"showlegend\":false,\"x\":[5,5,8,8,8,8,5,5,8,8,3,5,5,5,3,3,3,3,3,3,3,3,3,3,3,3,3,3,3,3,3,3,3,3,3],\"y\":[2,2,2,3,3,3,3,3,4,4,3,2,2,2,4,4,4,4,4,4,4,4,4,4,4,4,4,4,4,4,4,4,4,4,4],\"type\":\"scatter\",\"xaxis\":\"x39\",\"yaxis\":\"y39\"},{\"colorbar\":{\"title\":{\"text\":\"Objective Value\"}},\"colorscale\":[[0.0,\"rgb(247,251,255)\"],[0.125,\"rgb(222,235,247)\"],[0.25,\"rgb(198,219,239)\"],[0.375,\"rgb(158,202,225)\"],[0.5,\"rgb(107,174,214)\"],[0.625,\"rgb(66,146,198)\"],[0.75,\"rgb(33,113,181)\"],[0.875,\"rgb(8,81,156)\"],[1.0,\"rgb(8,48,107)\"]],\"connectgaps\":true,\"contours\":{\"coloring\":\"heatmap\"},\"hoverinfo\":\"none\",\"line\":{\"smoothing\":1.3},\"reversescale\":false,\"showscale\":false,\"x\":[2.75,3,5,8,8.25],\"y\":[-0.1,0,1,2,2.1],\"z\":[[null,null,null,null,null],[null,0.8772631453143226,0.8714864419566261,0.8686652614010705,null],[null,null,0.8771288030677371,0.854910714758767,null],[null,0.8714451061354743,0.8719204697344038,0.8608527614010705,null],[null,null,null,null,null]],\"type\":\"contour\",\"xaxis\":\"x46\",\"yaxis\":\"y46\"},{\"marker\":{\"color\":\"black\",\"line\":{\"color\":\"Grey\",\"width\":2.0}},\"mode\":\"markers\",\"showlegend\":false,\"x\":[5,5,8,8,8,8,5,5,8,8,3,5,5,5,3,3,3,3,3,3,3,3,3,3,3,3,3,3,3,3,3,3,3,3,3],\"y\":[2,1,2,1,1,0,2,0,1,2,2,1,1,2,0,0,0,0,0,0,0,0,0,0,0,0,0,0,0,0,0,0,0,0,0],\"type\":\"scatter\",\"xaxis\":\"x46\",\"yaxis\":\"y46\"},{\"colorbar\":{\"title\":{\"text\":\"Objective Value\"}},\"colorscale\":[[0.0,\"rgb(247,251,255)\"],[0.125,\"rgb(222,235,247)\"],[0.25,\"rgb(198,219,239)\"],[0.375,\"rgb(158,202,225)\"],[0.5,\"rgb(107,174,214)\"],[0.625,\"rgb(66,146,198)\"],[0.75,\"rgb(33,113,181)\"],[0.875,\"rgb(8,81,156)\"],[1.0,\"rgb(8,48,107)\"]],\"connectgaps\":true,\"contours\":{\"coloring\":\"heatmap\"},\"hoverinfo\":\"none\",\"line\":{\"smoothing\":1.3},\"reversescale\":false,\"showscale\":false,\"x\":[6.799999999999999,16,32,64,200,209.2],\"y\":[\"GRU\",\"LSTM\"],\"z\":[[null,0.8772631453143226,0.8842902614010705,0.8719204697344038,0.8709077388048172,null],[null,0.8714451061354743,0.8523272160026762,0.854910714758767,0.8608527614010705,null]],\"type\":\"contour\",\"xaxis\":\"x5\",\"yaxis\":\"y5\"},{\"marker\":{\"color\":\"black\",\"line\":{\"color\":\"Grey\",\"width\":2.0}},\"mode\":\"markers\",\"showlegend\":false,\"x\":[16,200,64,32,32,64,64,32,64,200,16,200,200,64,200,200,200,200,200,200,16,200,200,200,200,200,200,200,16,32,16,16,16,16,16],\"y\":[\"LSTM\",\"GRU\",\"LSTM\",\"LSTM\",\"LSTM\",\"GRU\",\"LSTM\",\"GRU\",\"LSTM\",\"LSTM\",\"LSTM\",\"GRU\",\"GRU\",\"GRU\",\"GRU\",\"GRU\",\"GRU\",\"GRU\",\"GRU\",\"GRU\",\"GRU\",\"GRU\",\"GRU\",\"GRU\",\"GRU\",\"GRU\",\"GRU\",\"GRU\",\"GRU\",\"GRU\",\"GRU\",\"GRU\",\"GRU\",\"GRU\",\"GRU\"],\"type\":\"scatter\",\"xaxis\":\"x5\",\"yaxis\":\"y5\"},{\"colorbar\":{\"title\":{\"text\":\"Objective Value\"}},\"colorscale\":[[0.0,\"rgb(247,251,255)\"],[0.125,\"rgb(222,235,247)\"],[0.25,\"rgb(198,219,239)\"],[0.375,\"rgb(158,202,225)\"],[0.5,\"rgb(107,174,214)\"],[0.625,\"rgb(66,146,198)\"],[0.75,\"rgb(33,113,181)\"],[0.875,\"rgb(8,81,156)\"],[1.0,\"rgb(8,48,107)\"]],\"connectgaps\":true,\"contours\":{\"coloring\":\"heatmap\"},\"hoverinfo\":\"none\",\"line\":{\"smoothing\":1.3},\"reversescale\":false,\"showscale\":false,\"x\":[6.799999999999999,16,32,64,200,209.2],\"y\":[0.8,1,5,5.2],\"z\":[[null,null,null,null,null,null],[null,0.8714451061354743,0.8714864419566261,0.8719204697344038,0.8771288030677371,null],[null,0.8772631453143226,0.8842902614010705,0.8734395669566261,0.8709077388048172,null],[null,null,null,null,null,null]],\"type\":\"contour\",\"xaxis\":\"x12\",\"yaxis\":\"y12\"},{\"marker\":{\"color\":\"black\",\"line\":{\"color\":\"Grey\",\"width\":2.0}},\"mode\":\"markers\",\"showlegend\":false,\"x\":[16,200,64,32,32,64,64,32,64,200,16,200,200,64,200,200,200,200,200,200,16,200,200,200,200,200,200,200,16,32,16,16,16,16,16],\"y\":[5,1,5,1,1,1,1,1,1,5,1,1,1,1,5,5,5,5,5,5,5,5,5,5,5,5,5,5,5,5,5,5,5,5,5],\"type\":\"scatter\",\"xaxis\":\"x12\",\"yaxis\":\"y12\"},{\"colorbar\":{\"title\":{\"text\":\"Objective Value\"}},\"colorscale\":[[0.0,\"rgb(247,251,255)\"],[0.125,\"rgb(222,235,247)\"],[0.25,\"rgb(198,219,239)\"],[0.375,\"rgb(158,202,225)\"],[0.5,\"rgb(107,174,214)\"],[0.625,\"rgb(66,146,198)\"],[0.75,\"rgb(33,113,181)\"],[0.875,\"rgb(8,81,156)\"],[1.0,\"rgb(8,48,107)\"]],\"connectgaps\":true,\"contours\":{\"coloring\":\"heatmap\"},\"hoverinfo\":\"none\",\"line\":{\"smoothing\":1.3},\"reversescale\":false,\"showscale\":false,\"x\":[6.799999999999999,16,32,64,200,209.2],\"y\":[0.27999999999999997,0.3,0.5,0.7,0.72],\"z\":[[null,null,null,null,null,null],[null,null,0.8523272160026762,0.8719204697344038,0.8771288030677371,null],[null,0.8714451061354743,0.8714864419566261,0.8762607475121816,null,null],[null,0.8772631453143226,0.8842902614010705,0.854910714758767,0.8709077388048172,null],[null,null,null,null,null,null]],\"type\":\"contour\",\"xaxis\":\"x19\",\"yaxis\":\"y19\"},{\"marker\":{\"color\":\"black\",\"line\":{\"color\":\"Grey\",\"width\":2.0}},\"mode\":\"markers\",\"showlegend\":false,\"x\":[16,200,64,32,32,64,64,32,64,200,16,200,200,64,200,200,200,200,200,200,16,200,200,200,200,200,200,200,16,32,16,16,16,16,16],\"y\":[0.5,0.3,0.3,0.5,0.3,0.5,0.5,0.5,0.7,0.7,0.5,0.3,0.3,0.3,0.7,0.7,0.7,0.7,0.7,0.7,0.7,0.7,0.7,0.7,0.7,0.7,0.7,0.7,0.7,0.7,0.7,0.7,0.7,0.7,0.7],\"type\":\"scatter\",\"xaxis\":\"x19\",\"yaxis\":\"y19\"},{\"colorbar\":{\"title\":{\"text\":\"Objective Value\"}},\"colorscale\":[[0.0,\"rgb(247,251,255)\"],[0.125,\"rgb(222,235,247)\"],[0.25,\"rgb(198,219,239)\"],[0.375,\"rgb(158,202,225)\"],[0.5,\"rgb(107,174,214)\"],[0.625,\"rgb(66,146,198)\"],[0.75,\"rgb(33,113,181)\"],[0.875,\"rgb(8,81,156)\"],[1.0,\"rgb(8,48,107)\"]],\"connectgaps\":true,\"contours\":{\"coloring\":\"heatmap\"},\"hoverinfo\":\"none\",\"line\":{\"smoothing\":1.3},\"reversescale\":false,\"showscale\":false,\"x\":[6.799999999999999,16,32,64,200,209.2],\"y\":[2.75,3,5,8,8.25],\"z\":[[null,null,null,null,null,null],[null,0.8772631453143226,0.8842902614010705,null,0.8709077388048172,null],[null,0.8725508434904946,0.8714864419566261,0.8719204697344038,0.8771288030677371,null],[null,null,0.8523272160026762,0.854910714758767,0.8608527614010705,null],[null,null,null,null,null,null]],\"type\":\"contour\",\"xaxis\":\"x26\",\"yaxis\":\"y26\"},{\"marker\":{\"color\":\"black\",\"line\":{\"color\":\"Grey\",\"width\":2.0}},\"mode\":\"markers\",\"showlegend\":false,\"x\":[16,200,64,32,32,64,64,32,64,200,16,200,200,64,200,200,200,200,200,200,16,200,200,200,200,200,200,200,16,32,16,16,16,16,16],\"y\":[5,5,8,8,8,8,5,5,8,8,3,5,5,5,3,3,3,3,3,3,3,3,3,3,3,3,3,3,3,3,3,3,3,3,3],\"type\":\"scatter\",\"xaxis\":\"x26\",\"yaxis\":\"y26\"},{\"type\":\"scatter\",\"xaxis\":\"x33\",\"yaxis\":\"y33\"},{\"colorbar\":{\"title\":{\"text\":\"Objective Value\"}},\"colorscale\":[[0.0,\"rgb(247,251,255)\"],[0.125,\"rgb(222,235,247)\"],[0.25,\"rgb(198,219,239)\"],[0.375,\"rgb(158,202,225)\"],[0.5,\"rgb(107,174,214)\"],[0.625,\"rgb(66,146,198)\"],[0.75,\"rgb(33,113,181)\"],[0.875,\"rgb(8,81,156)\"],[1.0,\"rgb(8,48,107)\"]],\"connectgaps\":true,\"contours\":{\"coloring\":\"heatmap\"},\"hoverinfo\":\"none\",\"line\":{\"smoothing\":1.3},\"reversescale\":false,\"showscale\":false,\"x\":[6.799999999999999,16,32,64,200,209.2],\"y\":[1.9,2,3,4,4.1],\"z\":[[null,null,null,null,null,null],[null,0.8725508434904946,null,0.8719204697344038,0.8771288030677371,null],[null,0.8714451061354743,0.8714864419566261,0.8762607475121816,null,null],[null,0.8772631453143226,0.8842902614010705,0.854910714758767,0.8709077388048172,null],[null,null,null,null,null,null]],\"type\":\"contour\",\"xaxis\":\"x40\",\"yaxis\":\"y40\"},{\"marker\":{\"color\":\"black\",\"line\":{\"color\":\"Grey\",\"width\":2.0}},\"mode\":\"markers\",\"showlegend\":false,\"x\":[16,200,64,32,32,64,64,32,64,200,16,200,200,64,200,200,200,200,200,200,16,200,200,200,200,200,200,200,16,32,16,16,16,16,16],\"y\":[2,2,2,3,3,3,3,3,4,4,3,2,2,2,4,4,4,4,4,4,4,4,4,4,4,4,4,4,4,4,4,4,4,4,4],\"type\":\"scatter\",\"xaxis\":\"x40\",\"yaxis\":\"y40\"},{\"colorbar\":{\"title\":{\"text\":\"Objective Value\"}},\"colorscale\":[[0.0,\"rgb(247,251,255)\"],[0.125,\"rgb(222,235,247)\"],[0.25,\"rgb(198,219,239)\"],[0.375,\"rgb(158,202,225)\"],[0.5,\"rgb(107,174,214)\"],[0.625,\"rgb(66,146,198)\"],[0.75,\"rgb(33,113,181)\"],[0.875,\"rgb(8,81,156)\"],[1.0,\"rgb(8,48,107)\"]],\"connectgaps\":true,\"contours\":{\"coloring\":\"heatmap\"},\"hoverinfo\":\"none\",\"line\":{\"smoothing\":1.3},\"reversescale\":false,\"showscale\":false,\"x\":[6.799999999999999,16,32,64,200,209.2],\"y\":[-0.1,0,1,2,2.1],\"z\":[[null,null,null,null,null,null],[null,0.8772631453143226,0.8842902614010705,0.8686652614010705,0.8709077388048172,null],[null,null,0.8523272160026762,0.854910714758767,0.8771288030677371,null],[null,0.8714451061354743,null,0.8719204697344038,0.8608527614010705,null],[null,null,null,null,null,null]],\"type\":\"contour\",\"xaxis\":\"x47\",\"yaxis\":\"y47\"},{\"marker\":{\"color\":\"black\",\"line\":{\"color\":\"Grey\",\"width\":2.0}},\"mode\":\"markers\",\"showlegend\":false,\"x\":[16,200,64,32,32,64,64,32,64,200,16,200,200,64,200,200,200,200,200,200,16,200,200,200,200,200,200,200,16,32,16,16,16,16,16],\"y\":[2,1,2,1,1,0,2,0,1,2,2,1,1,2,0,0,0,0,0,0,0,0,0,0,0,0,0,0,0,0,0,0,0,0,0],\"type\":\"scatter\",\"xaxis\":\"x47\",\"yaxis\":\"y47\"},{\"colorbar\":{\"title\":{\"text\":\"Objective Value\"}},\"colorscale\":[[0.0,\"rgb(247,251,255)\"],[0.125,\"rgb(222,235,247)\"],[0.25,\"rgb(198,219,239)\"],[0.375,\"rgb(158,202,225)\"],[0.5,\"rgb(107,174,214)\"],[0.625,\"rgb(66,146,198)\"],[0.75,\"rgb(33,113,181)\"],[0.875,\"rgb(8,81,156)\"],[1.0,\"rgb(8,48,107)\"]],\"connectgaps\":true,\"contours\":{\"coloring\":\"heatmap\"},\"hoverinfo\":\"none\",\"line\":{\"smoothing\":1.3},\"reversescale\":false,\"showscale\":false,\"x\":[1.9,2,3,4,4.1],\"y\":[\"GRU\",\"LSTM\"],\"z\":[[null,0.8719204697344038,0.8714864419566261,0.8772631453143226,null],[null,0.8734395669566261,0.8714451061354743,0.8608527614010705,null]],\"type\":\"contour\",\"xaxis\":\"x6\",\"yaxis\":\"y6\"},{\"marker\":{\"color\":\"black\",\"line\":{\"color\":\"Grey\",\"width\":2.0}},\"mode\":\"markers\",\"showlegend\":false,\"x\":[2,2,2,3,3,3,3,3,4,4,3,2,2,2,4,4,4,4,4,4,4,4,4,4,4,4,4,4,4,4,4,4,4,4,4],\"y\":[\"LSTM\",\"GRU\",\"LSTM\",\"LSTM\",\"LSTM\",\"GRU\",\"LSTM\",\"GRU\",\"LSTM\",\"LSTM\",\"LSTM\",\"GRU\",\"GRU\",\"GRU\",\"GRU\",\"GRU\",\"GRU\",\"GRU\",\"GRU\",\"GRU\",\"GRU\",\"GRU\",\"GRU\",\"GRU\",\"GRU\",\"GRU\",\"GRU\",\"GRU\",\"GRU\",\"GRU\",\"GRU\",\"GRU\",\"GRU\",\"GRU\",\"GRU\"],\"type\":\"scatter\",\"xaxis\":\"x6\",\"yaxis\":\"y6\"},{\"colorbar\":{\"title\":{\"text\":\"Objective Value\"}},\"colorscale\":[[0.0,\"rgb(247,251,255)\"],[0.125,\"rgb(222,235,247)\"],[0.25,\"rgb(198,219,239)\"],[0.375,\"rgb(158,202,225)\"],[0.5,\"rgb(107,174,214)\"],[0.625,\"rgb(66,146,198)\"],[0.75,\"rgb(33,113,181)\"],[0.875,\"rgb(8,81,156)\"],[1.0,\"rgb(8,48,107)\"]],\"connectgaps\":true,\"contours\":{\"coloring\":\"heatmap\"},\"hoverinfo\":\"none\",\"line\":{\"smoothing\":1.3},\"reversescale\":false,\"showscale\":false,\"x\":[1.9,2,3,4,4.1],\"y\":[0.8,1,5,5.2],\"z\":[[null,null,null,null,null],[null,0.8719204697344038,0.8714451061354743,0.854910714758767,null],[null,0.8734395669566261,null,0.8772631453143226,null],[null,null,null,null,null]],\"type\":\"contour\",\"xaxis\":\"x13\",\"yaxis\":\"y13\"},{\"marker\":{\"color\":\"black\",\"line\":{\"color\":\"Grey\",\"width\":2.0}},\"mode\":\"markers\",\"showlegend\":false,\"x\":[2,2,2,3,3,3,3,3,4,4,3,2,2,2,4,4,4,4,4,4,4,4,4,4,4,4,4,4,4,4,4,4,4,4,4],\"y\":[5,1,5,1,1,1,1,1,1,5,1,1,1,1,5,5,5,5,5,5,5,5,5,5,5,5,5,5,5,5,5,5,5,5,5],\"type\":\"scatter\",\"xaxis\":\"x13\",\"yaxis\":\"y13\"},{\"colorbar\":{\"title\":{\"text\":\"Objective Value\"}},\"colorscale\":[[0.0,\"rgb(247,251,255)\"],[0.125,\"rgb(222,235,247)\"],[0.25,\"rgb(198,219,239)\"],[0.375,\"rgb(158,202,225)\"],[0.5,\"rgb(107,174,214)\"],[0.625,\"rgb(66,146,198)\"],[0.75,\"rgb(33,113,181)\"],[0.875,\"rgb(8,81,156)\"],[1.0,\"rgb(8,48,107)\"]],\"connectgaps\":true,\"contours\":{\"coloring\":\"heatmap\"},\"hoverinfo\":\"none\",\"line\":{\"smoothing\":1.3},\"reversescale\":false,\"showscale\":false,\"x\":[1.9,2,3,4,4.1],\"y\":[0.27999999999999997,0.3,0.5,0.7,0.72],\"z\":[[null,null,null,null,null],[null,0.8719204697344038,0.8523272160026762,null,null],[null,0.8725508434904946,0.8714451061354743,null,null],[null,null,null,0.8772631453143226,null],[null,null,null,null,null]],\"type\":\"contour\",\"xaxis\":\"x20\",\"yaxis\":\"y20\"},{\"marker\":{\"color\":\"black\",\"line\":{\"color\":\"Grey\",\"width\":2.0}},\"mode\":\"markers\",\"showlegend\":false,\"x\":[2,2,2,3,3,3,3,3,4,4,3,2,2,2,4,4,4,4,4,4,4,4,4,4,4,4,4,4,4,4,4,4,4,4,4],\"y\":[0.5,0.3,0.3,0.5,0.3,0.5,0.5,0.5,0.7,0.7,0.5,0.3,0.3,0.3,0.7,0.7,0.7,0.7,0.7,0.7,0.7,0.7,0.7,0.7,0.7,0.7,0.7,0.7,0.7,0.7,0.7,0.7,0.7,0.7,0.7],\"type\":\"scatter\",\"xaxis\":\"x20\",\"yaxis\":\"y20\"},{\"colorbar\":{\"title\":{\"text\":\"Objective Value\"}},\"colorscale\":[[0.0,\"rgb(247,251,255)\"],[0.125,\"rgb(222,235,247)\"],[0.25,\"rgb(198,219,239)\"],[0.375,\"rgb(158,202,225)\"],[0.5,\"rgb(107,174,214)\"],[0.625,\"rgb(66,146,198)\"],[0.75,\"rgb(33,113,181)\"],[0.875,\"rgb(8,81,156)\"],[1.0,\"rgb(8,48,107)\"]],\"connectgaps\":true,\"contours\":{\"coloring\":\"heatmap\"},\"hoverinfo\":\"none\",\"line\":{\"smoothing\":1.3},\"reversescale\":false,\"showscale\":false,\"x\":[1.9,2,3,4,4.1],\"y\":[2.75,3,5,8,8.25],\"z\":[[null,null,null,null,null],[null,null,0.8714451061354743,0.8772631453143226,null],[null,0.8719204697344038,0.8714864419566261,null,null],[null,0.8734395669566261,0.8686652614010705,0.8608527614010705,null],[null,null,null,null,null]],\"type\":\"contour\",\"xaxis\":\"x27\",\"yaxis\":\"y27\"},{\"marker\":{\"color\":\"black\",\"line\":{\"color\":\"Grey\",\"width\":2.0}},\"mode\":\"markers\",\"showlegend\":false,\"x\":[2,2,2,3,3,3,3,3,4,4,3,2,2,2,4,4,4,4,4,4,4,4,4,4,4,4,4,4,4,4,4,4,4,4,4],\"y\":[5,5,8,8,8,8,5,5,8,8,3,5,5,5,3,3,3,3,3,3,3,3,3,3,3,3,3,3,3,3,3,3,3,3,3],\"type\":\"scatter\",\"xaxis\":\"x27\",\"yaxis\":\"y27\"},{\"colorbar\":{\"title\":{\"text\":\"Objective Value\"}},\"colorscale\":[[0.0,\"rgb(247,251,255)\"],[0.125,\"rgb(222,235,247)\"],[0.25,\"rgb(198,219,239)\"],[0.375,\"rgb(158,202,225)\"],[0.5,\"rgb(107,174,214)\"],[0.625,\"rgb(66,146,198)\"],[0.75,\"rgb(33,113,181)\"],[0.875,\"rgb(8,81,156)\"],[1.0,\"rgb(8,48,107)\"]],\"connectgaps\":true,\"contours\":{\"coloring\":\"heatmap\"},\"hoverinfo\":\"none\",\"line\":{\"smoothing\":1.3},\"reversescale\":false,\"showscale\":false,\"x\":[1.9,2,3,4,4.1],\"y\":[6.799999999999999,16,32,64,200,209.2],\"z\":[[null,null,null,null,null],[null,0.8725508434904946,0.8714451061354743,0.8772631453143226,null],[null,null,0.8714864419566261,0.8842902614010705,null],[null,0.8719204697344038,0.8762607475121816,0.854910714758767,null],[null,0.8771288030677371,null,0.8709077388048172,null],[null,null,null,null,null]],\"type\":\"contour\",\"xaxis\":\"x34\",\"yaxis\":\"y34\"},{\"marker\":{\"color\":\"black\",\"line\":{\"color\":\"Grey\",\"width\":2.0}},\"mode\":\"markers\",\"showlegend\":false,\"x\":[2,2,2,3,3,3,3,3,4,4,3,2,2,2,4,4,4,4,4,4,4,4,4,4,4,4,4,4,4,4,4,4,4,4,4],\"y\":[16,200,64,32,32,64,64,32,64,200,16,200,200,64,200,200,200,200,200,200,16,200,200,200,200,200,200,200,16,32,16,16,16,16,16],\"type\":\"scatter\",\"xaxis\":\"x34\",\"yaxis\":\"y34\"},{\"type\":\"scatter\",\"xaxis\":\"x41\",\"yaxis\":\"y41\"},{\"colorbar\":{\"title\":{\"text\":\"Objective Value\"}},\"colorscale\":[[0.0,\"rgb(247,251,255)\"],[0.125,\"rgb(222,235,247)\"],[0.25,\"rgb(198,219,239)\"],[0.375,\"rgb(158,202,225)\"],[0.5,\"rgb(107,174,214)\"],[0.625,\"rgb(66,146,198)\"],[0.75,\"rgb(33,113,181)\"],[0.875,\"rgb(8,81,156)\"],[1.0,\"rgb(8,48,107)\"]],\"connectgaps\":true,\"contours\":{\"coloring\":\"heatmap\"},\"hoverinfo\":\"none\",\"line\":{\"smoothing\":1.3},\"reversescale\":false,\"showscale\":false,\"x\":[1.9,2,3,4,4.1],\"y\":[-0.1,0,1,2,2.1],\"z\":[[null,null,null,null,null],[null,null,0.8714864419566261,0.8772631453143226,null],[null,0.8771288030677371,0.8523272160026762,0.854910714758767,null],[null,0.8719204697344038,0.8714451061354743,0.8608527614010705,null],[null,null,null,null,null]],\"type\":\"contour\",\"xaxis\":\"x48\",\"yaxis\":\"y48\"},{\"marker\":{\"color\":\"black\",\"line\":{\"color\":\"Grey\",\"width\":2.0}},\"mode\":\"markers\",\"showlegend\":false,\"x\":[2,2,2,3,3,3,3,3,4,4,3,2,2,2,4,4,4,4,4,4,4,4,4,4,4,4,4,4,4,4,4,4,4,4,4],\"y\":[2,1,2,1,1,0,2,0,1,2,2,1,1,2,0,0,0,0,0,0,0,0,0,0,0,0,0,0,0,0,0,0,0,0,0],\"type\":\"scatter\",\"xaxis\":\"x48\",\"yaxis\":\"y48\"},{\"colorbar\":{\"title\":{\"text\":\"Objective Value\"}},\"colorscale\":[[0.0,\"rgb(247,251,255)\"],[0.125,\"rgb(222,235,247)\"],[0.25,\"rgb(198,219,239)\"],[0.375,\"rgb(158,202,225)\"],[0.5,\"rgb(107,174,214)\"],[0.625,\"rgb(66,146,198)\"],[0.75,\"rgb(33,113,181)\"],[0.875,\"rgb(8,81,156)\"],[1.0,\"rgb(8,48,107)\"]],\"connectgaps\":true,\"contours\":{\"coloring\":\"heatmap\"},\"hoverinfo\":\"none\",\"line\":{\"smoothing\":1.3},\"reversescale\":false,\"showscale\":false,\"x\":[-0.1,0,1,2,2.1],\"y\":[\"GRU\",\"LSTM\"],\"z\":[[null,0.8772631453143226,0.8771288030677371,0.8719204697344038,null],[null,null,0.854910714758767,0.8714451061354743,null]],\"type\":\"contour\",\"xaxis\":\"x7\",\"yaxis\":\"y7\"},{\"marker\":{\"color\":\"black\",\"line\":{\"color\":\"Grey\",\"width\":2.0}},\"mode\":\"markers\",\"showlegend\":false,\"x\":[2,1,2,1,1,0,2,0,1,2,2,1,1,2,0,0,0,0,0,0,0,0,0,0,0,0,0,0,0,0,0,0,0,0,0],\"y\":[\"LSTM\",\"GRU\",\"LSTM\",\"LSTM\",\"LSTM\",\"GRU\",\"LSTM\",\"GRU\",\"LSTM\",\"LSTM\",\"LSTM\",\"GRU\",\"GRU\",\"GRU\",\"GRU\",\"GRU\",\"GRU\",\"GRU\",\"GRU\",\"GRU\",\"GRU\",\"GRU\",\"GRU\",\"GRU\",\"GRU\",\"GRU\",\"GRU\",\"GRU\",\"GRU\",\"GRU\",\"GRU\",\"GRU\",\"GRU\",\"GRU\",\"GRU\"],\"type\":\"scatter\",\"xaxis\":\"x7\",\"yaxis\":\"y7\"},{\"colorbar\":{\"title\":{\"text\":\"Objective Value\"}},\"colorscale\":[[0.0,\"rgb(247,251,255)\"],[0.125,\"rgb(222,235,247)\"],[0.25,\"rgb(198,219,239)\"],[0.375,\"rgb(158,202,225)\"],[0.5,\"rgb(107,174,214)\"],[0.625,\"rgb(66,146,198)\"],[0.75,\"rgb(33,113,181)\"],[0.875,\"rgb(8,81,156)\"],[1.0,\"rgb(8,48,107)\"]],\"connectgaps\":true,\"contours\":{\"coloring\":\"heatmap\"},\"hoverinfo\":\"none\",\"line\":{\"smoothing\":1.3},\"reversescale\":false,\"showscale\":false,\"x\":[-0.1,0,1,2,2.1],\"y\":[0.8,1,5,5.2],\"z\":[[null,null,null,null,null],[null,0.8714864419566261,0.8771288030677371,0.8719204697344038,null],[null,0.8772631453143226,null,0.8608527614010705,null],[null,null,null,null,null]],\"type\":\"contour\",\"xaxis\":\"x14\",\"yaxis\":\"y14\"},{\"marker\":{\"color\":\"black\",\"line\":{\"color\":\"Grey\",\"width\":2.0}},\"mode\":\"markers\",\"showlegend\":false,\"x\":[2,1,2,1,1,0,2,0,1,2,2,1,1,2,0,0,0,0,0,0,0,0,0,0,0,0,0,0,0,0,0,0,0,0,0],\"y\":[5,1,5,1,1,1,1,1,1,5,1,1,1,1,5,5,5,5,5,5,5,5,5,5,5,5,5,5,5,5,5,5,5,5,5],\"type\":\"scatter\",\"xaxis\":\"x14\",\"yaxis\":\"y14\"},{\"colorbar\":{\"title\":{\"text\":\"Objective Value\"}},\"colorscale\":[[0.0,\"rgb(247,251,255)\"],[0.125,\"rgb(222,235,247)\"],[0.25,\"rgb(198,219,239)\"],[0.375,\"rgb(158,202,225)\"],[0.5,\"rgb(107,174,214)\"],[0.625,\"rgb(66,146,198)\"],[0.75,\"rgb(33,113,181)\"],[0.875,\"rgb(8,81,156)\"],[1.0,\"rgb(8,48,107)\"]],\"connectgaps\":true,\"contours\":{\"coloring\":\"heatmap\"},\"hoverinfo\":\"none\",\"line\":{\"smoothing\":1.3},\"reversescale\":false,\"showscale\":false,\"x\":[-0.1,0,1,2,2.1],\"y\":[0.27999999999999997,0.3,0.5,0.7,0.72],\"z\":[[null,null,null,null,null],[null,null,0.8771288030677371,0.8719204697344038,null],[null,0.8714864419566261,0.8605530758698782,0.8714451061354743,null],[null,0.8772631453143226,0.854910714758767,0.8608527614010705,null],[null,null,null,null,null]],\"type\":\"contour\",\"xaxis\":\"x21\",\"yaxis\":\"y21\"},{\"marker\":{\"color\":\"black\",\"line\":{\"color\":\"Grey\",\"width\":2.0}},\"mode\":\"markers\",\"showlegend\":false,\"x\":[2,1,2,1,1,0,2,0,1,2,2,1,1,2,0,0,0,0,0,0,0,0,0,0,0,0,0,0,0,0,0,0,0,0,0],\"y\":[0.5,0.3,0.3,0.5,0.3,0.5,0.5,0.5,0.7,0.7,0.5,0.3,0.3,0.3,0.7,0.7,0.7,0.7,0.7,0.7,0.7,0.7,0.7,0.7,0.7,0.7,0.7,0.7,0.7,0.7,0.7,0.7,0.7,0.7,0.7],\"type\":\"scatter\",\"xaxis\":\"x21\",\"yaxis\":\"y21\"},{\"colorbar\":{\"title\":{\"text\":\"Objective Value\"}},\"colorscale\":[[0.0,\"rgb(247,251,255)\"],[0.125,\"rgb(222,235,247)\"],[0.25,\"rgb(198,219,239)\"],[0.375,\"rgb(158,202,225)\"],[0.5,\"rgb(107,174,214)\"],[0.625,\"rgb(66,146,198)\"],[0.75,\"rgb(33,113,181)\"],[0.875,\"rgb(8,81,156)\"],[1.0,\"rgb(8,48,107)\"]],\"connectgaps\":true,\"contours\":{\"coloring\":\"heatmap\"},\"hoverinfo\":\"none\",\"line\":{\"smoothing\":1.3},\"reversescale\":false,\"showscale\":false,\"x\":[-0.1,0,1,2,2.1],\"y\":[2.75,3,5,8,8.25],\"z\":[[null,null,null,null,null],[null,0.8772631453143226,null,0.8714451061354743,null],[null,0.8714864419566261,0.8771288030677371,0.8719204697344038,null],[null,0.8686652614010705,0.854910714758767,0.8608527614010705,null],[null,null,null,null,null]],\"type\":\"contour\",\"xaxis\":\"x28\",\"yaxis\":\"y28\"},{\"marker\":{\"color\":\"black\",\"line\":{\"color\":\"Grey\",\"width\":2.0}},\"mode\":\"markers\",\"showlegend\":false,\"x\":[2,1,2,1,1,0,2,0,1,2,2,1,1,2,0,0,0,0,0,0,0,0,0,0,0,0,0,0,0,0,0,0,0,0,0],\"y\":[5,5,8,8,8,8,5,5,8,8,3,5,5,5,3,3,3,3,3,3,3,3,3,3,3,3,3,3,3,3,3,3,3,3,3],\"type\":\"scatter\",\"xaxis\":\"x28\",\"yaxis\":\"y28\"},{\"colorbar\":{\"title\":{\"text\":\"Objective Value\"}},\"colorscale\":[[0.0,\"rgb(247,251,255)\"],[0.125,\"rgb(222,235,247)\"],[0.25,\"rgb(198,219,239)\"],[0.375,\"rgb(158,202,225)\"],[0.5,\"rgb(107,174,214)\"],[0.625,\"rgb(66,146,198)\"],[0.75,\"rgb(33,113,181)\"],[0.875,\"rgb(8,81,156)\"],[1.0,\"rgb(8,48,107)\"]],\"connectgaps\":true,\"contours\":{\"coloring\":\"heatmap\"},\"hoverinfo\":\"none\",\"line\":{\"smoothing\":1.3},\"reversescale\":false,\"showscale\":false,\"x\":[-0.1,0,1,2,2.1],\"y\":[6.799999999999999,16,32,64,200,209.2],\"z\":[[null,null,null,null,null],[null,0.8772631453143226,null,0.8714451061354743,null],[null,0.8842902614010705,0.8523272160026762,null,null],[null,0.8686652614010705,0.854910714758767,0.8719204697344038,null],[null,0.8709077388048172,0.8771288030677371,0.8608527614010705,null],[null,null,null,null,null]],\"type\":\"contour\",\"xaxis\":\"x35\",\"yaxis\":\"y35\"},{\"marker\":{\"color\":\"black\",\"line\":{\"color\":\"Grey\",\"width\":2.0}},\"mode\":\"markers\",\"showlegend\":false,\"x\":[2,1,2,1,1,0,2,0,1,2,2,1,1,2,0,0,0,0,0,0,0,0,0,0,0,0,0,0,0,0,0,0,0,0,0],\"y\":[16,200,64,32,32,64,64,32,64,200,16,200,200,64,200,200,200,200,200,200,16,200,200,200,200,200,200,200,16,32,16,16,16,16,16],\"type\":\"scatter\",\"xaxis\":\"x35\",\"yaxis\":\"y35\"},{\"colorbar\":{\"title\":{\"text\":\"Objective Value\"}},\"colorscale\":[[0.0,\"rgb(247,251,255)\"],[0.125,\"rgb(222,235,247)\"],[0.25,\"rgb(198,219,239)\"],[0.375,\"rgb(158,202,225)\"],[0.5,\"rgb(107,174,214)\"],[0.625,\"rgb(66,146,198)\"],[0.75,\"rgb(33,113,181)\"],[0.875,\"rgb(8,81,156)\"],[1.0,\"rgb(8,48,107)\"]],\"connectgaps\":true,\"contours\":{\"coloring\":\"heatmap\"},\"hoverinfo\":\"none\",\"line\":{\"smoothing\":1.3},\"reversescale\":false,\"showscale\":false,\"x\":[-0.1,0,1,2,2.1],\"y\":[1.9,2,3,4,4.1],\"z\":[[null,null,null,null,null],[null,null,0.8771288030677371,0.8719204697344038,null],[null,0.8714864419566261,0.8523272160026762,0.8714451061354743,null],[null,0.8772631453143226,0.854910714758767,0.8608527614010705,null],[null,null,null,null,null]],\"type\":\"contour\",\"xaxis\":\"x42\",\"yaxis\":\"y42\"},{\"marker\":{\"color\":\"black\",\"line\":{\"color\":\"Grey\",\"width\":2.0}},\"mode\":\"markers\",\"showlegend\":false,\"x\":[2,1,2,1,1,0,2,0,1,2,2,1,1,2,0,0,0,0,0,0,0,0,0,0,0,0,0,0,0,0,0,0,0,0,0],\"y\":[2,2,2,3,3,3,3,3,4,4,3,2,2,2,4,4,4,4,4,4,4,4,4,4,4,4,4,4,4,4,4,4,4,4,4],\"type\":\"scatter\",\"xaxis\":\"x42\",\"yaxis\":\"y42\"},{\"type\":\"scatter\",\"xaxis\":\"x49\",\"yaxis\":\"y49\"}],                        {\"template\":{\"data\":{\"bar\":[{\"error_x\":{\"color\":\"#2a3f5f\"},\"error_y\":{\"color\":\"#2a3f5f\"},\"marker\":{\"line\":{\"color\":\"#E5ECF6\",\"width\":0.5},\"pattern\":{\"fillmode\":\"overlay\",\"size\":10,\"solidity\":0.2}},\"type\":\"bar\"}],\"barpolar\":[{\"marker\":{\"line\":{\"color\":\"#E5ECF6\",\"width\":0.5},\"pattern\":{\"fillmode\":\"overlay\",\"size\":10,\"solidity\":0.2}},\"type\":\"barpolar\"}],\"carpet\":[{\"aaxis\":{\"endlinecolor\":\"#2a3f5f\",\"gridcolor\":\"white\",\"linecolor\":\"white\",\"minorgridcolor\":\"white\",\"startlinecolor\":\"#2a3f5f\"},\"baxis\":{\"endlinecolor\":\"#2a3f5f\",\"gridcolor\":\"white\",\"linecolor\":\"white\",\"minorgridcolor\":\"white\",\"startlinecolor\":\"#2a3f5f\"},\"type\":\"carpet\"}],\"choropleth\":[{\"colorbar\":{\"outlinewidth\":0,\"ticks\":\"\"},\"type\":\"choropleth\"}],\"contour\":[{\"colorbar\":{\"outlinewidth\":0,\"ticks\":\"\"},\"colorscale\":[[0.0,\"#0d0887\"],[0.1111111111111111,\"#46039f\"],[0.2222222222222222,\"#7201a8\"],[0.3333333333333333,\"#9c179e\"],[0.4444444444444444,\"#bd3786\"],[0.5555555555555556,\"#d8576b\"],[0.6666666666666666,\"#ed7953\"],[0.7777777777777778,\"#fb9f3a\"],[0.8888888888888888,\"#fdca26\"],[1.0,\"#f0f921\"]],\"type\":\"contour\"}],\"contourcarpet\":[{\"colorbar\":{\"outlinewidth\":0,\"ticks\":\"\"},\"type\":\"contourcarpet\"}],\"heatmap\":[{\"colorbar\":{\"outlinewidth\":0,\"ticks\":\"\"},\"colorscale\":[[0.0,\"#0d0887\"],[0.1111111111111111,\"#46039f\"],[0.2222222222222222,\"#7201a8\"],[0.3333333333333333,\"#9c179e\"],[0.4444444444444444,\"#bd3786\"],[0.5555555555555556,\"#d8576b\"],[0.6666666666666666,\"#ed7953\"],[0.7777777777777778,\"#fb9f3a\"],[0.8888888888888888,\"#fdca26\"],[1.0,\"#f0f921\"]],\"type\":\"heatmap\"}],\"heatmapgl\":[{\"colorbar\":{\"outlinewidth\":0,\"ticks\":\"\"},\"colorscale\":[[0.0,\"#0d0887\"],[0.1111111111111111,\"#46039f\"],[0.2222222222222222,\"#7201a8\"],[0.3333333333333333,\"#9c179e\"],[0.4444444444444444,\"#bd3786\"],[0.5555555555555556,\"#d8576b\"],[0.6666666666666666,\"#ed7953\"],[0.7777777777777778,\"#fb9f3a\"],[0.8888888888888888,\"#fdca26\"],[1.0,\"#f0f921\"]],\"type\":\"heatmapgl\"}],\"histogram\":[{\"marker\":{\"pattern\":{\"fillmode\":\"overlay\",\"size\":10,\"solidity\":0.2}},\"type\":\"histogram\"}],\"histogram2d\":[{\"colorbar\":{\"outlinewidth\":0,\"ticks\":\"\"},\"colorscale\":[[0.0,\"#0d0887\"],[0.1111111111111111,\"#46039f\"],[0.2222222222222222,\"#7201a8\"],[0.3333333333333333,\"#9c179e\"],[0.4444444444444444,\"#bd3786\"],[0.5555555555555556,\"#d8576b\"],[0.6666666666666666,\"#ed7953\"],[0.7777777777777778,\"#fb9f3a\"],[0.8888888888888888,\"#fdca26\"],[1.0,\"#f0f921\"]],\"type\":\"histogram2d\"}],\"histogram2dcontour\":[{\"colorbar\":{\"outlinewidth\":0,\"ticks\":\"\"},\"colorscale\":[[0.0,\"#0d0887\"],[0.1111111111111111,\"#46039f\"],[0.2222222222222222,\"#7201a8\"],[0.3333333333333333,\"#9c179e\"],[0.4444444444444444,\"#bd3786\"],[0.5555555555555556,\"#d8576b\"],[0.6666666666666666,\"#ed7953\"],[0.7777777777777778,\"#fb9f3a\"],[0.8888888888888888,\"#fdca26\"],[1.0,\"#f0f921\"]],\"type\":\"histogram2dcontour\"}],\"mesh3d\":[{\"colorbar\":{\"outlinewidth\":0,\"ticks\":\"\"},\"type\":\"mesh3d\"}],\"parcoords\":[{\"line\":{\"colorbar\":{\"outlinewidth\":0,\"ticks\":\"\"}},\"type\":\"parcoords\"}],\"pie\":[{\"automargin\":true,\"type\":\"pie\"}],\"scatter\":[{\"marker\":{\"colorbar\":{\"outlinewidth\":0,\"ticks\":\"\"}},\"type\":\"scatter\"}],\"scatter3d\":[{\"line\":{\"colorbar\":{\"outlinewidth\":0,\"ticks\":\"\"}},\"marker\":{\"colorbar\":{\"outlinewidth\":0,\"ticks\":\"\"}},\"type\":\"scatter3d\"}],\"scattercarpet\":[{\"marker\":{\"colorbar\":{\"outlinewidth\":0,\"ticks\":\"\"}},\"type\":\"scattercarpet\"}],\"scattergeo\":[{\"marker\":{\"colorbar\":{\"outlinewidth\":0,\"ticks\":\"\"}},\"type\":\"scattergeo\"}],\"scattergl\":[{\"marker\":{\"colorbar\":{\"outlinewidth\":0,\"ticks\":\"\"}},\"type\":\"scattergl\"}],\"scattermapbox\":[{\"marker\":{\"colorbar\":{\"outlinewidth\":0,\"ticks\":\"\"}},\"type\":\"scattermapbox\"}],\"scatterpolar\":[{\"marker\":{\"colorbar\":{\"outlinewidth\":0,\"ticks\":\"\"}},\"type\":\"scatterpolar\"}],\"scatterpolargl\":[{\"marker\":{\"colorbar\":{\"outlinewidth\":0,\"ticks\":\"\"}},\"type\":\"scatterpolargl\"}],\"scatterternary\":[{\"marker\":{\"colorbar\":{\"outlinewidth\":0,\"ticks\":\"\"}},\"type\":\"scatterternary\"}],\"surface\":[{\"colorbar\":{\"outlinewidth\":0,\"ticks\":\"\"},\"colorscale\":[[0.0,\"#0d0887\"],[0.1111111111111111,\"#46039f\"],[0.2222222222222222,\"#7201a8\"],[0.3333333333333333,\"#9c179e\"],[0.4444444444444444,\"#bd3786\"],[0.5555555555555556,\"#d8576b\"],[0.6666666666666666,\"#ed7953\"],[0.7777777777777778,\"#fb9f3a\"],[0.8888888888888888,\"#fdca26\"],[1.0,\"#f0f921\"]],\"type\":\"surface\"}],\"table\":[{\"cells\":{\"fill\":{\"color\":\"#EBF0F8\"},\"line\":{\"color\":\"white\"}},\"header\":{\"fill\":{\"color\":\"#C8D4E3\"},\"line\":{\"color\":\"white\"}},\"type\":\"table\"}]},\"layout\":{\"annotationdefaults\":{\"arrowcolor\":\"#2a3f5f\",\"arrowhead\":0,\"arrowwidth\":1},\"autotypenumbers\":\"strict\",\"coloraxis\":{\"colorbar\":{\"outlinewidth\":0,\"ticks\":\"\"}},\"colorscale\":{\"diverging\":[[0,\"#8e0152\"],[0.1,\"#c51b7d\"],[0.2,\"#de77ae\"],[0.3,\"#f1b6da\"],[0.4,\"#fde0ef\"],[0.5,\"#f7f7f7\"],[0.6,\"#e6f5d0\"],[0.7,\"#b8e186\"],[0.8,\"#7fbc41\"],[0.9,\"#4d9221\"],[1,\"#276419\"]],\"sequential\":[[0.0,\"#0d0887\"],[0.1111111111111111,\"#46039f\"],[0.2222222222222222,\"#7201a8\"],[0.3333333333333333,\"#9c179e\"],[0.4444444444444444,\"#bd3786\"],[0.5555555555555556,\"#d8576b\"],[0.6666666666666666,\"#ed7953\"],[0.7777777777777778,\"#fb9f3a\"],[0.8888888888888888,\"#fdca26\"],[1.0,\"#f0f921\"]],\"sequentialminus\":[[0.0,\"#0d0887\"],[0.1111111111111111,\"#46039f\"],[0.2222222222222222,\"#7201a8\"],[0.3333333333333333,\"#9c179e\"],[0.4444444444444444,\"#bd3786\"],[0.5555555555555556,\"#d8576b\"],[0.6666666666666666,\"#ed7953\"],[0.7777777777777778,\"#fb9f3a\"],[0.8888888888888888,\"#fdca26\"],[1.0,\"#f0f921\"]]},\"colorway\":[\"#636efa\",\"#EF553B\",\"#00cc96\",\"#ab63fa\",\"#FFA15A\",\"#19d3f3\",\"#FF6692\",\"#B6E880\",\"#FF97FF\",\"#FECB52\"],\"font\":{\"color\":\"#2a3f5f\"},\"geo\":{\"bgcolor\":\"white\",\"lakecolor\":\"white\",\"landcolor\":\"#E5ECF6\",\"showlakes\":true,\"showland\":true,\"subunitcolor\":\"white\"},\"hoverlabel\":{\"align\":\"left\"},\"hovermode\":\"closest\",\"mapbox\":{\"style\":\"light\"},\"paper_bgcolor\":\"white\",\"plot_bgcolor\":\"#E5ECF6\",\"polar\":{\"angularaxis\":{\"gridcolor\":\"white\",\"linecolor\":\"white\",\"ticks\":\"\"},\"bgcolor\":\"#E5ECF6\",\"radialaxis\":{\"gridcolor\":\"white\",\"linecolor\":\"white\",\"ticks\":\"\"}},\"scene\":{\"xaxis\":{\"backgroundcolor\":\"#E5ECF6\",\"gridcolor\":\"white\",\"gridwidth\":2,\"linecolor\":\"white\",\"showbackground\":true,\"ticks\":\"\",\"zerolinecolor\":\"white\"},\"yaxis\":{\"backgroundcolor\":\"#E5ECF6\",\"gridcolor\":\"white\",\"gridwidth\":2,\"linecolor\":\"white\",\"showbackground\":true,\"ticks\":\"\",\"zerolinecolor\":\"white\"},\"zaxis\":{\"backgroundcolor\":\"#E5ECF6\",\"gridcolor\":\"white\",\"gridwidth\":2,\"linecolor\":\"white\",\"showbackground\":true,\"ticks\":\"\",\"zerolinecolor\":\"white\"}},\"shapedefaults\":{\"line\":{\"color\":\"#2a3f5f\"}},\"ternary\":{\"aaxis\":{\"gridcolor\":\"white\",\"linecolor\":\"white\",\"ticks\":\"\"},\"baxis\":{\"gridcolor\":\"white\",\"linecolor\":\"white\",\"ticks\":\"\"},\"bgcolor\":\"#E5ECF6\",\"caxis\":{\"gridcolor\":\"white\",\"linecolor\":\"white\",\"ticks\":\"\"}},\"title\":{\"x\":0.05},\"xaxis\":{\"automargin\":true,\"gridcolor\":\"white\",\"linecolor\":\"white\",\"ticks\":\"\",\"title\":{\"standoff\":15},\"zerolinecolor\":\"white\",\"zerolinewidth\":2},\"yaxis\":{\"automargin\":true,\"gridcolor\":\"white\",\"linecolor\":\"white\",\"ticks\":\"\",\"title\":{\"standoff\":15},\"zerolinecolor\":\"white\",\"zerolinewidth\":2}}},\"xaxis\":{\"anchor\":\"y\",\"domain\":[0.0,0.1183673469387755],\"matches\":\"x43\",\"showticklabels\":false,\"range\":[-0.05,1.05],\"type\":\"category\"},\"yaxis\":{\"anchor\":\"x\",\"domain\":[0.8938775510204082,1.0],\"range\":[-0.05,1.05],\"type\":\"category\",\"title\":{\"text\":\"cell_type\"}},\"xaxis2\":{\"anchor\":\"y2\",\"domain\":[0.14693877551020407,0.26530612244897955],\"matches\":\"x44\",\"showticklabels\":false,\"range\":[0.8,5.2]},\"yaxis2\":{\"anchor\":\"x2\",\"domain\":[0.8938775510204082,1.0],\"matches\":\"y\",\"showticklabels\":false,\"range\":[-0.05,1.05],\"type\":\"category\"},\"xaxis3\":{\"anchor\":\"y3\",\"domain\":[0.29387755102040813,0.4122448979591836],\"matches\":\"x45\",\"showticklabels\":false,\"range\":[0.27999999999999997,0.72]},\"yaxis3\":{\"anchor\":\"x3\",\"domain\":[0.8938775510204082,1.0],\"matches\":\"y\",\"showticklabels\":false,\"range\":[-0.05,1.05],\"type\":\"category\"},\"xaxis4\":{\"anchor\":\"y4\",\"domain\":[0.4408163265306122,0.5591836734693877],\"matches\":\"x46\",\"showticklabels\":false,\"range\":[2.75,8.25]},\"yaxis4\":{\"anchor\":\"x4\",\"domain\":[0.8938775510204082,1.0],\"matches\":\"y\",\"showticklabels\":false,\"range\":[-0.05,1.05],\"type\":\"category\"},\"xaxis5\":{\"anchor\":\"y5\",\"domain\":[0.5877551020408163,0.7061224489795918],\"matches\":\"x47\",\"showticklabels\":false,\"range\":[6.799999999999999,209.2]},\"yaxis5\":{\"anchor\":\"x5\",\"domain\":[0.8938775510204082,1.0],\"matches\":\"y\",\"showticklabels\":false,\"range\":[-0.05,1.05],\"type\":\"category\"},\"xaxis6\":{\"anchor\":\"y6\",\"domain\":[0.7346938775510204,0.8530612244897959],\"matches\":\"x48\",\"showticklabels\":false,\"range\":[1.9,4.1]},\"yaxis6\":{\"anchor\":\"x6\",\"domain\":[0.8938775510204082,1.0],\"matches\":\"y\",\"showticklabels\":false,\"range\":[-0.05,1.05],\"type\":\"category\"},\"xaxis7\":{\"anchor\":\"y7\",\"domain\":[0.8816326530612244,0.9999999999999999],\"matches\":\"x49\",\"showticklabels\":false,\"range\":[-0.1,2.1]},\"yaxis7\":{\"anchor\":\"x7\",\"domain\":[0.8938775510204082,1.0],\"matches\":\"y\",\"showticklabels\":false,\"range\":[-0.05,1.05],\"type\":\"category\"},\"xaxis8\":{\"anchor\":\"y8\",\"domain\":[0.0,0.1183673469387755],\"matches\":\"x43\",\"showticklabels\":false,\"range\":[-0.05,1.05],\"type\":\"category\"},\"yaxis8\":{\"anchor\":\"x8\",\"domain\":[0.7448979591836735,0.8510204081632654],\"range\":[0.8,5.2],\"title\":{\"text\":\"clip\"}},\"xaxis9\":{\"anchor\":\"y9\",\"domain\":[0.14693877551020407,0.26530612244897955],\"matches\":\"x44\",\"showticklabels\":false,\"range\":[0.8,5.2]},\"yaxis9\":{\"anchor\":\"x9\",\"domain\":[0.7448979591836735,0.8510204081632654],\"matches\":\"y8\",\"showticklabels\":false,\"range\":[0.8,5.2]},\"xaxis10\":{\"anchor\":\"y10\",\"domain\":[0.29387755102040813,0.4122448979591836],\"matches\":\"x45\",\"showticklabels\":false,\"range\":[0.27999999999999997,0.72]},\"yaxis10\":{\"anchor\":\"x10\",\"domain\":[0.7448979591836735,0.8510204081632654],\"matches\":\"y8\",\"showticklabels\":false,\"range\":[0.8,5.2]},\"xaxis11\":{\"anchor\":\"y11\",\"domain\":[0.4408163265306122,0.5591836734693877],\"matches\":\"x46\",\"showticklabels\":false,\"range\":[2.75,8.25]},\"yaxis11\":{\"anchor\":\"x11\",\"domain\":[0.7448979591836735,0.8510204081632654],\"matches\":\"y8\",\"showticklabels\":false,\"range\":[0.8,5.2]},\"xaxis12\":{\"anchor\":\"y12\",\"domain\":[0.5877551020408163,0.7061224489795918],\"matches\":\"x47\",\"showticklabels\":false,\"range\":[6.799999999999999,209.2]},\"yaxis12\":{\"anchor\":\"x12\",\"domain\":[0.7448979591836735,0.8510204081632654],\"matches\":\"y8\",\"showticklabels\":false,\"range\":[0.8,5.2]},\"xaxis13\":{\"anchor\":\"y13\",\"domain\":[0.7346938775510204,0.8530612244897959],\"matches\":\"x48\",\"showticklabels\":false,\"range\":[1.9,4.1]},\"yaxis13\":{\"anchor\":\"x13\",\"domain\":[0.7448979591836735,0.8510204081632654],\"matches\":\"y8\",\"showticklabels\":false,\"range\":[0.8,5.2]},\"xaxis14\":{\"anchor\":\"y14\",\"domain\":[0.8816326530612244,0.9999999999999999],\"matches\":\"x49\",\"showticklabels\":false,\"range\":[-0.1,2.1]},\"yaxis14\":{\"anchor\":\"x14\",\"domain\":[0.7448979591836735,0.8510204081632654],\"matches\":\"y8\",\"showticklabels\":false,\"range\":[0.8,5.2]},\"xaxis15\":{\"anchor\":\"y15\",\"domain\":[0.0,0.1183673469387755],\"matches\":\"x43\",\"showticklabels\":false,\"range\":[-0.05,1.05],\"type\":\"category\"},\"yaxis15\":{\"anchor\":\"x15\",\"domain\":[0.5959183673469388,0.7020408163265307],\"range\":[0.27999999999999997,0.72],\"title\":{\"text\":\"dropout\"}},\"xaxis16\":{\"anchor\":\"y16\",\"domain\":[0.14693877551020407,0.26530612244897955],\"matches\":\"x44\",\"showticklabels\":false,\"range\":[0.8,5.2]},\"yaxis16\":{\"anchor\":\"x16\",\"domain\":[0.5959183673469388,0.7020408163265307],\"matches\":\"y15\",\"showticklabels\":false,\"range\":[0.27999999999999997,0.72]},\"xaxis17\":{\"anchor\":\"y17\",\"domain\":[0.29387755102040813,0.4122448979591836],\"matches\":\"x45\",\"showticklabels\":false,\"range\":[0.27999999999999997,0.72]},\"yaxis17\":{\"anchor\":\"x17\",\"domain\":[0.5959183673469388,0.7020408163265307],\"matches\":\"y15\",\"showticklabels\":false,\"range\":[0.27999999999999997,0.72]},\"xaxis18\":{\"anchor\":\"y18\",\"domain\":[0.4408163265306122,0.5591836734693877],\"matches\":\"x46\",\"showticklabels\":false,\"range\":[2.75,8.25]},\"yaxis18\":{\"anchor\":\"x18\",\"domain\":[0.5959183673469388,0.7020408163265307],\"matches\":\"y15\",\"showticklabels\":false,\"range\":[0.27999999999999997,0.72]},\"xaxis19\":{\"anchor\":\"y19\",\"domain\":[0.5877551020408163,0.7061224489795918],\"matches\":\"x47\",\"showticklabels\":false,\"range\":[6.799999999999999,209.2]},\"yaxis19\":{\"anchor\":\"x19\",\"domain\":[0.5959183673469388,0.7020408163265307],\"matches\":\"y15\",\"showticklabels\":false,\"range\":[0.27999999999999997,0.72]},\"xaxis20\":{\"anchor\":\"y20\",\"domain\":[0.7346938775510204,0.8530612244897959],\"matches\":\"x48\",\"showticklabels\":false,\"range\":[1.9,4.1]},\"yaxis20\":{\"anchor\":\"x20\",\"domain\":[0.5959183673469388,0.7020408163265307],\"matches\":\"y15\",\"showticklabels\":false,\"range\":[0.27999999999999997,0.72]},\"xaxis21\":{\"anchor\":\"y21\",\"domain\":[0.8816326530612244,0.9999999999999999],\"matches\":\"x49\",\"showticklabels\":false,\"range\":[-0.1,2.1]},\"yaxis21\":{\"anchor\":\"x21\",\"domain\":[0.5959183673469388,0.7020408163265307],\"matches\":\"y15\",\"showticklabels\":false,\"range\":[0.27999999999999997,0.72]},\"xaxis22\":{\"anchor\":\"y22\",\"domain\":[0.0,0.1183673469387755],\"matches\":\"x43\",\"showticklabels\":false,\"range\":[-0.05,1.05],\"type\":\"category\"},\"yaxis22\":{\"anchor\":\"x22\",\"domain\":[0.4469387755102041,0.553061224489796],\"range\":[2.75,8.25],\"title\":{\"text\":\"epochs\"}},\"xaxis23\":{\"anchor\":\"y23\",\"domain\":[0.14693877551020407,0.26530612244897955],\"matches\":\"x44\",\"showticklabels\":false,\"range\":[0.8,5.2]},\"yaxis23\":{\"anchor\":\"x23\",\"domain\":[0.4469387755102041,0.553061224489796],\"matches\":\"y22\",\"showticklabels\":false,\"range\":[2.75,8.25]},\"xaxis24\":{\"anchor\":\"y24\",\"domain\":[0.29387755102040813,0.4122448979591836],\"matches\":\"x45\",\"showticklabels\":false,\"range\":[0.27999999999999997,0.72]},\"yaxis24\":{\"anchor\":\"x24\",\"domain\":[0.4469387755102041,0.553061224489796],\"matches\":\"y22\",\"showticklabels\":false,\"range\":[2.75,8.25]},\"xaxis25\":{\"anchor\":\"y25\",\"domain\":[0.4408163265306122,0.5591836734693877],\"matches\":\"x46\",\"showticklabels\":false,\"range\":[2.75,8.25]},\"yaxis25\":{\"anchor\":\"x25\",\"domain\":[0.4469387755102041,0.553061224489796],\"matches\":\"y22\",\"showticklabels\":false,\"range\":[2.75,8.25]},\"xaxis26\":{\"anchor\":\"y26\",\"domain\":[0.5877551020408163,0.7061224489795918],\"matches\":\"x47\",\"showticklabels\":false,\"range\":[6.799999999999999,209.2]},\"yaxis26\":{\"anchor\":\"x26\",\"domain\":[0.4469387755102041,0.553061224489796],\"matches\":\"y22\",\"showticklabels\":false,\"range\":[2.75,8.25]},\"xaxis27\":{\"anchor\":\"y27\",\"domain\":[0.7346938775510204,0.8530612244897959],\"matches\":\"x48\",\"showticklabels\":false,\"range\":[1.9,4.1]},\"yaxis27\":{\"anchor\":\"x27\",\"domain\":[0.4469387755102041,0.553061224489796],\"matches\":\"y22\",\"showticklabels\":false,\"range\":[2.75,8.25]},\"xaxis28\":{\"anchor\":\"y28\",\"domain\":[0.8816326530612244,0.9999999999999999],\"matches\":\"x49\",\"showticklabels\":false,\"range\":[-0.1,2.1]},\"yaxis28\":{\"anchor\":\"x28\",\"domain\":[0.4469387755102041,0.553061224489796],\"matches\":\"y22\",\"showticklabels\":false,\"range\":[2.75,8.25]},\"xaxis29\":{\"anchor\":\"y29\",\"domain\":[0.0,0.1183673469387755],\"matches\":\"x43\",\"showticklabels\":false,\"range\":[-0.05,1.05],\"type\":\"category\"},\"yaxis29\":{\"anchor\":\"x29\",\"domain\":[0.2979591836734694,0.40408163265306124],\"range\":[6.799999999999999,209.2],\"title\":{\"text\":\"hidden_dim\"}},\"xaxis30\":{\"anchor\":\"y30\",\"domain\":[0.14693877551020407,0.26530612244897955],\"matches\":\"x44\",\"showticklabels\":false,\"range\":[0.8,5.2]},\"yaxis30\":{\"anchor\":\"x30\",\"domain\":[0.2979591836734694,0.40408163265306124],\"matches\":\"y29\",\"showticklabels\":false,\"range\":[6.799999999999999,209.2]},\"xaxis31\":{\"anchor\":\"y31\",\"domain\":[0.29387755102040813,0.4122448979591836],\"matches\":\"x45\",\"showticklabels\":false,\"range\":[0.27999999999999997,0.72]},\"yaxis31\":{\"anchor\":\"x31\",\"domain\":[0.2979591836734694,0.40408163265306124],\"matches\":\"y29\",\"showticklabels\":false,\"range\":[6.799999999999999,209.2]},\"xaxis32\":{\"anchor\":\"y32\",\"domain\":[0.4408163265306122,0.5591836734693877],\"matches\":\"x46\",\"showticklabels\":false,\"range\":[2.75,8.25]},\"yaxis32\":{\"anchor\":\"x32\",\"domain\":[0.2979591836734694,0.40408163265306124],\"matches\":\"y29\",\"showticklabels\":false,\"range\":[6.799999999999999,209.2]},\"xaxis33\":{\"anchor\":\"y33\",\"domain\":[0.5877551020408163,0.7061224489795918],\"matches\":\"x47\",\"showticklabels\":false,\"range\":[6.799999999999999,209.2]},\"yaxis33\":{\"anchor\":\"x33\",\"domain\":[0.2979591836734694,0.40408163265306124],\"matches\":\"y29\",\"showticklabels\":false,\"range\":[6.799999999999999,209.2]},\"xaxis34\":{\"anchor\":\"y34\",\"domain\":[0.7346938775510204,0.8530612244897959],\"matches\":\"x48\",\"showticklabels\":false,\"range\":[1.9,4.1]},\"yaxis34\":{\"anchor\":\"x34\",\"domain\":[0.2979591836734694,0.40408163265306124],\"matches\":\"y29\",\"showticklabels\":false,\"range\":[6.799999999999999,209.2]},\"xaxis35\":{\"anchor\":\"y35\",\"domain\":[0.8816326530612244,0.9999999999999999],\"matches\":\"x49\",\"showticklabels\":false,\"range\":[-0.1,2.1]},\"yaxis35\":{\"anchor\":\"x35\",\"domain\":[0.2979591836734694,0.40408163265306124],\"matches\":\"y29\",\"showticklabels\":false,\"range\":[6.799999999999999,209.2]},\"xaxis36\":{\"anchor\":\"y36\",\"domain\":[0.0,0.1183673469387755],\"matches\":\"x43\",\"showticklabels\":false,\"range\":[-0.05,1.05],\"type\":\"category\"},\"yaxis36\":{\"anchor\":\"x36\",\"domain\":[0.1489795918367347,0.25510204081632654],\"range\":[1.9,4.1],\"title\":{\"text\":\"num_layers\"}},\"xaxis37\":{\"anchor\":\"y37\",\"domain\":[0.14693877551020407,0.26530612244897955],\"matches\":\"x44\",\"showticklabels\":false,\"range\":[0.8,5.2]},\"yaxis37\":{\"anchor\":\"x37\",\"domain\":[0.1489795918367347,0.25510204081632654],\"matches\":\"y36\",\"showticklabels\":false,\"range\":[1.9,4.1]},\"xaxis38\":{\"anchor\":\"y38\",\"domain\":[0.29387755102040813,0.4122448979591836],\"matches\":\"x45\",\"showticklabels\":false,\"range\":[0.27999999999999997,0.72]},\"yaxis38\":{\"anchor\":\"x38\",\"domain\":[0.1489795918367347,0.25510204081632654],\"matches\":\"y36\",\"showticklabels\":false,\"range\":[1.9,4.1]},\"xaxis39\":{\"anchor\":\"y39\",\"domain\":[0.4408163265306122,0.5591836734693877],\"matches\":\"x46\",\"showticklabels\":false,\"range\":[2.75,8.25]},\"yaxis39\":{\"anchor\":\"x39\",\"domain\":[0.1489795918367347,0.25510204081632654],\"matches\":\"y36\",\"showticklabels\":false,\"range\":[1.9,4.1]},\"xaxis40\":{\"anchor\":\"y40\",\"domain\":[0.5877551020408163,0.7061224489795918],\"matches\":\"x47\",\"showticklabels\":false,\"range\":[6.799999999999999,209.2]},\"yaxis40\":{\"anchor\":\"x40\",\"domain\":[0.1489795918367347,0.25510204081632654],\"matches\":\"y36\",\"showticklabels\":false,\"range\":[1.9,4.1]},\"xaxis41\":{\"anchor\":\"y41\",\"domain\":[0.7346938775510204,0.8530612244897959],\"matches\":\"x48\",\"showticklabels\":false,\"range\":[1.9,4.1]},\"yaxis41\":{\"anchor\":\"x41\",\"domain\":[0.1489795918367347,0.25510204081632654],\"matches\":\"y36\",\"showticklabels\":false,\"range\":[1.9,4.1]},\"xaxis42\":{\"anchor\":\"y42\",\"domain\":[0.8816326530612244,0.9999999999999999],\"matches\":\"x49\",\"showticklabels\":false,\"range\":[-0.1,2.1]},\"yaxis42\":{\"anchor\":\"x42\",\"domain\":[0.1489795918367347,0.25510204081632654],\"matches\":\"y36\",\"showticklabels\":false,\"range\":[1.9,4.1]},\"xaxis43\":{\"anchor\":\"y43\",\"domain\":[0.0,0.1183673469387755],\"range\":[-0.05,1.05],\"type\":\"category\",\"title\":{\"text\":\"cell_type\"}},\"yaxis43\":{\"anchor\":\"x43\",\"domain\":[0.0,0.10612244897959185],\"range\":[-0.1,2.1],\"title\":{\"text\":\"skip_layers\"}},\"xaxis44\":{\"anchor\":\"y44\",\"domain\":[0.14693877551020407,0.26530612244897955],\"range\":[0.8,5.2],\"title\":{\"text\":\"clip\"}},\"yaxis44\":{\"anchor\":\"x44\",\"domain\":[0.0,0.10612244897959185],\"matches\":\"y43\",\"showticklabels\":false,\"range\":[-0.1,2.1]},\"xaxis45\":{\"anchor\":\"y45\",\"domain\":[0.29387755102040813,0.4122448979591836],\"range\":[0.27999999999999997,0.72],\"title\":{\"text\":\"dropout\"}},\"yaxis45\":{\"anchor\":\"x45\",\"domain\":[0.0,0.10612244897959185],\"matches\":\"y43\",\"showticklabels\":false,\"range\":[-0.1,2.1]},\"xaxis46\":{\"anchor\":\"y46\",\"domain\":[0.4408163265306122,0.5591836734693877],\"range\":[2.75,8.25],\"title\":{\"text\":\"epochs\"}},\"yaxis46\":{\"anchor\":\"x46\",\"domain\":[0.0,0.10612244897959185],\"matches\":\"y43\",\"showticklabels\":false,\"range\":[-0.1,2.1]},\"xaxis47\":{\"anchor\":\"y47\",\"domain\":[0.5877551020408163,0.7061224489795918],\"range\":[6.799999999999999,209.2],\"title\":{\"text\":\"hidden_dim\"}},\"yaxis47\":{\"anchor\":\"x47\",\"domain\":[0.0,0.10612244897959185],\"matches\":\"y43\",\"showticklabels\":false,\"range\":[-0.1,2.1]},\"xaxis48\":{\"anchor\":\"y48\",\"domain\":[0.7346938775510204,0.8530612244897959],\"range\":[1.9,4.1],\"title\":{\"text\":\"num_layers\"}},\"yaxis48\":{\"anchor\":\"x48\",\"domain\":[0.0,0.10612244897959185],\"matches\":\"y43\",\"showticklabels\":false,\"range\":[-0.1,2.1]},\"xaxis49\":{\"anchor\":\"y49\",\"domain\":[0.8816326530612244,0.9999999999999999],\"range\":[-0.1,2.1],\"title\":{\"text\":\"skip_layers\"}},\"yaxis49\":{\"anchor\":\"x49\",\"domain\":[0.0,0.10612244897959185],\"matches\":\"y43\",\"showticklabels\":false,\"range\":[-0.1,2.1]},\"title\":{\"text\":\"Contour Plot\"}},                        {\"responsive\": true}                    ).then(function(){\n",
              "                            \n",
              "var gd = document.getElementById('0786d7cc-ec2b-4fa1-93fd-8227c043101b');\n",
              "var x = new MutationObserver(function (mutations, observer) {{\n",
              "        var display = window.getComputedStyle(gd).display;\n",
              "        if (!display || display === 'none') {{\n",
              "            console.log([gd, 'removed!']);\n",
              "            Plotly.purge(gd);\n",
              "            observer.disconnect();\n",
              "        }}\n",
              "}});\n",
              "\n",
              "// Listen for the removal of the full notebook cells\n",
              "var notebookContainer = gd.closest('#notebook-container');\n",
              "if (notebookContainer) {{\n",
              "    x.observe(notebookContainer, {childList: true});\n",
              "}}\n",
              "\n",
              "// Listen for the clearing of the current output cell\n",
              "var outputEl = gd.closest('.output');\n",
              "if (outputEl) {{\n",
              "    x.observe(outputEl, {childList: true});\n",
              "}}\n",
              "\n",
              "                        })                };                            </script>        </div>\n",
              "</body>\n",
              "</html>"
            ]
          },
          "metadata": {}
        }
      ]
    },
    {
      "cell_type": "code",
      "execution_count": 37,
      "metadata": {
        "id": "PVxDDxv1kwda"
      },
      "outputs": [],
      "source": [
        "def plot_loss_acc(train_loss, val_loss, train_acc, val_acc, epochs):\n",
        "  plt.figure(figsize=(10,5))\n",
        "  plt.subplot(1,2,1)\n",
        "  plt.plot(range(epochs), train_loss, 'co-', label='Training Loss')\n",
        "  plt.plot(range(epochs), val_loss, 'mo-', label='Validation Loss')\n",
        "  plt.xlabel('Epoch')\n",
        "  plt.ylabel('Loss')\n",
        "  plt.legend()\n",
        "  plt.subplot(1,2,2)\n",
        "  plt.plot(range(epochs), train_acc, 'co-', label='Training Acc')\n",
        "  plt.plot(range(epochs), val_acc, 'mo-', label='Validation Acc')\n",
        "  plt.xlabel('Epoch')\n",
        "  plt.ylabel('Accuracy')\n",
        "  plt.legend()\n",
        "  plt.show()"
      ]
    },
    {
      "cell_type": "code",
      "execution_count": 38,
      "metadata": {
        "id": "NRSt6j6ReYeh",
        "colab": {
          "base_uri": "https://localhost:8080/"
        },
        "outputId": "9fe5c3ff-fbe5-4932-a154-1bc375c6013f"
      },
      "outputs": [
        {
          "output_type": "stream",
          "name": "stdout",
          "text": [
            "Train Loss: 0.4531 | Train Acc: 78.38%\n",
            "Valid Loss: 0.3771 | Val Acc: 83.74%\n",
            "Train Loss: 0.3186 | Train Acc: 86.65%\n",
            "Valid Loss: 0.3401 | Val Acc: 86.61%\n",
            "Train Loss: 0.2284 | Train Acc: 91.21%\n",
            "Valid Loss: 0.3302 | Val Acc: 86.29%\n",
            "Train Loss: 0.1498 | Train Acc: 94.54%\n",
            "Valid Loss: 0.3418 | Val Acc: 87.52%\n",
            "Train Loss: 0.0878 | Train Acc: 97.11%\n",
            "Valid Loss: 0.3770 | Val Acc: 86.99%\n",
            "Train Loss: 0.0527 | Train Acc: 98.33%\n",
            "Valid Loss: 0.4965 | Val Acc: 87.06%\n",
            "Train Loss: 0.0255 | Train Acc: 99.21%\n",
            "Valid Loss: 0.5924 | Val Acc: 86.47%\n"
          ]
        }
      ],
      "source": [
        "input_dim = len(review_field.vocab)\n",
        "embedding_dim = 50\n",
        "output_dim = 1\n",
        "padding_idx = 1\n",
        "hidden_dim =  200\n",
        "cell_type = 'LSTM'\n",
        "num_layers = 2\n",
        "dropout = 0.5\n",
        "skip_layers = 0\n",
        "\n",
        "epochs = 7\n",
        "clip = 5\n",
        "\n",
        "model = BidirRNN(cell_type, input_dim, embedding_dim, hidden_dim, output_dim, num_layers, dropout, padding_idx, skip_layers, True)\n",
        "model.embedding.weight.data.copy_(review_field.vocab.vectors)\n",
        "\n",
        "optimizer = torch.optim.Adam(model.parameters())\n",
        "loss_func = nn.BCELoss()\n",
        "model = model.to(device)\n",
        "loss_func = loss_func.to(device)\n",
        "\n",
        "\n",
        "metrics = {'train_acc': [], 'train_loss': [], 'val_acc': [], 'val_loss': []}\n",
        "\n",
        "for epoch in range(epochs):\n",
        "  model.train()\n",
        "  epoch_loss, epoch_acc = 0, 0\n",
        "\n",
        "  for batch in train_it:\n",
        "    optimizer.zero_grad()\n",
        "    predictions = model(batch.review[0]).squeeze(1)\n",
        "    loss = loss_func(predictions, batch.rating)\n",
        "    acc = torch.mean((torch.round(predictions) == batch.rating).float())\n",
        "    loss.backward()\n",
        "    torch.nn.utils.clip_grad_norm_(model.parameters(), clip)\n",
        "    optimizer.step()\n",
        "    epoch_loss += loss.item()\n",
        "    epoch_acc += acc.item()\n",
        "\n",
        "  train_loss, train_acc = epoch_loss / len(train_it), epoch_acc / len(train_it)\n",
        "\n",
        "  print(f\"Train Loss: {train_loss:.4f} | Train Acc: {train_acc*100:.2f}%\")\n",
        "\n",
        "  model.eval()\n",
        "  epoch_loss, epoch_acc = 0, 0\n",
        "\n",
        "  with torch.no_grad():\n",
        "    for batch in val_it:\n",
        "      predictions = model(batch.review[0]).squeeze(1)\n",
        "      loss = loss_func(predictions, batch.rating)\n",
        "      acc = torch.mean((torch.round(predictions) == batch.rating).float())\n",
        "\n",
        "      epoch_loss += loss.item()\n",
        "      epoch_acc += acc.item()\n",
        "      \n",
        "  val_loss, val_acc = epoch_loss / len(val_it), epoch_acc / len(val_it)\n",
        "  print(f\"Valid Loss: {val_loss:.4f} | Val Acc: {val_acc*100:.2f}%\")\n",
        "\n",
        "  metrics['train_acc'].append(train_acc)\n",
        "  metrics['train_loss'].append(train_loss)\n",
        "  metrics['val_acc'].append(val_acc)\n",
        "  metrics['val_loss'].append(val_loss)\n",
        "\n",
        "  \n"
      ]
    },
    {
      "cell_type": "code",
      "execution_count": 39,
      "metadata": {
        "id": "RvOZojsqqt6n",
        "colab": {
          "base_uri": "https://localhost:8080/",
          "height": 335
        },
        "outputId": "8415a5a6-5ed6-45fa-ba5f-8c784f49713f"
      },
      "outputs": [
        {
          "output_type": "display_data",
          "data": {
            "text/plain": [
              "<Figure size 720x360 with 2 Axes>"
            ],
            "image/png": "[encoded data removed]"
          },
          "metadata": {
            "needs_background": "light"
          }
        }
      ],
      "source": [
        "plot_loss_acc(metrics['train_loss'], metrics['val_loss'], metrics['train_acc'], metrics['val_acc'], epochs)"
      ]
    },
    {
      "cell_type": "code",
      "execution_count": 40,
      "metadata": {
        "id": "p0vxjaZKozCV"
      },
      "outputs": [],
      "source": [
        "def get_predictions(model, iterator):\n",
        "  model.eval()\n",
        "  test_predictions, test_labels = [], []\n",
        "  with torch.no_grad():\n",
        "    for batch in iterator:\n",
        "      prediction = model(batch.review[0])\n",
        "      test_predictions.append(prediction)\n",
        "      test_labels.append(batch.rating)\n",
        "  return torch.cat(test_predictions), torch.cat(test_labels)"
      ]
    },
    {
      "cell_type": "code",
      "execution_count": 41,
      "metadata": {
        "id": "5o31PBdtTQVT"
      },
      "outputs": [],
      "source": [
        "testset_path = None\n",
        "\n",
        "if testset_path is not None:\n",
        "  test_df = pandas.read_csv(dataset_path, sep='\\t', engine='python')\n",
        "  test_df = transform(test_df)\n",
        "  test_tmp_df = copy.deepcopy(test_df)\n",
        "  test_tmp_df['review'] = test_tmp_df['review'].apply(lambda x: ' '.join(x))\n",
        "  test_tmp_df.drop(\"url\", axis=1, inplace=True)\n",
        "  test_tmp_df = tmp_df.reset_index(drop=True)\n",
        "  test_tmp_df = tmp_df.reindex(columns=['review', 'rating'])\n",
        "  test_tmp_df['review'] = tmp_df['review'].apply(str)\n",
        "  test_tmp_df.to_csv(\"/content/drive/My Drive/preprocessed_test_df.csv\", index=False)\n",
        "\n",
        "  test_tabular_data = data.TabularDataset(\n",
        "  path=\"/content/drive/My Drive/preprocessed_test_df.csv\", format='csv', fields=[('review', review_field),\n",
        "  ('rating', rating_field)],skip_header=True)\n",
        "\n",
        "  test_it = data.BucketIterator(\n",
        "    test_tabular_data, \n",
        "    batch_size = batch_size, sort_within_batch = True,\n",
        "    sort_key = sort_key_fn, device = device)\n"
      ]
    },
    {
      "cell_type": "code",
      "execution_count": 42,
      "metadata": {
        "id": "U3N3h6nMoT9n",
        "colab": {
          "base_uri": "https://localhost:8080/"
        },
        "outputId": "ffbd81b5-28a7-4ba8-a88d-d5439a5cb0e5"
      },
      "outputs": [
        {
          "output_type": "stream",
          "name": "stdout",
          "text": [
            "              precision    recall  f1-score   support\n",
            "\n",
            "         0.0       0.88      0.85      0.87      2194\n",
            "         1.0       0.87      0.89      0.88      2307\n",
            "\n",
            "    accuracy                           0.87      4501\n",
            "   macro avg       0.87      0.87      0.87      4501\n",
            "weighted avg       0.87      0.87      0.87      4501\n",
            "\n"
          ]
        }
      ],
      "source": [
        "from sklearn.metrics import classification_report\n",
        "\n",
        "test_predictions, test_labels = get_predictions(model, test_it)\n",
        "\n",
        "test_predictions = test_predictions.ge(.5).view(-1).cpu()\n",
        "test_labels = test_labels.cpu()\n",
        "\n",
        "print(classification_report(test_labels, test_predictions))"
      ]
    },
    {
      "cell_type": "code",
      "execution_count": 43,
      "metadata": {
        "id": "PXk11j-xn4XW",
        "colab": {
          "base_uri": "https://localhost:8080/",
          "height": 295
        },
        "outputId": "f57c6fac-bfe1-4d45-ef07-72bdfe1fee77"
      },
      "outputs": [
        {
          "output_type": "display_data",
          "data": {
            "text/plain": [
              "<Figure size 432x288 with 1 Axes>"
            ],
            "image/png": "[encoded data removed]"
          },
          "metadata": {
            "needs_background": "light"
          }
        }
      ],
      "source": [
        "test_predictions = test_predictions.cpu().detach().numpy().ravel()\n",
        "test_labels = test_labels.cpu().detach().numpy().ravel()\n",
        "roc_auc = roc_auc_score(test_labels, test_predictions)\n",
        "fpr, tpr, _ = roc_curve(test_labels, test_predictions)\n",
        "\n",
        "plt.plot(fpr, tpr, label='AUC = {:.2f}'.format(roc_auc))\n",
        "plt.plot([0, 1], [0, 1], 'k--')\n",
        "plt.xlim([0.0, 1.0])\n",
        "plt.ylim([0.0, 1.0])\n",
        "plt.xlabel('False Positive Rate')\n",
        "plt.ylabel('True Positive Rate')\n",
        "plt.title('Receiver Operating Characteristic')\n",
        "plt.legend(loc=\"lower right\")\n",
        "plt.show()\n"
      ]
    },
    {
      "cell_type": "code",
      "execution_count": 44,
      "metadata": {
        "id": "-RicqwLLrr3o",
        "colab": {
          "base_uri": "https://localhost:8080/",
          "height": 295
        },
        "outputId": "9c874277-1175-4db0-fb82-9451f78baa1f"
      },
      "outputs": [
        {
          "output_type": "display_data",
          "data": {
            "text/plain": [
              "<Figure size 432x288 with 2 Axes>"
            ],
            "image/png": "[encoded data removed]"
          },
          "metadata": {
            "needs_background": "light"
          }
        }
      ],
      "source": [
        "conf_matrix = confusion_matrix(test_predictions, test_labels.round())\n",
        "\n",
        "sn.heatmap(conf_matrix, annot=True, fmt='d', cmap='Blues')\n",
        "plt.xlabel('Predicted')\n",
        "plt.ylabel('Actual')\n",
        "plt.title('Confusion Matrix')\n",
        "plt.show()"
      ]
    }
  ],
  "metadata": {
    "accelerator": "GPU",
    "colab": {
      "provenance": []
    },
    "gpuClass": "standard",
    "kernelspec": {
      "display_name": "Python 3",
      "name": "python3"
    },
    "language_info": {
      "name": "python"
    }
  },
  "nbformat": 4,
  "nbformat_minor": 0
}